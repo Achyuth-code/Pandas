{
 "cells": [
  {
   "cell_type": "code",
   "execution_count": 1,
   "id": "19f9cadb-2440-49b9-8707-e64f879343a8",
   "metadata": {},
   "outputs": [],
   "source": [
    "import numpy as np\n",
    "import pandas as pd"
   ]
  },
  {
   "cell_type": "markdown",
   "id": "79733324-6ad0-4c3e-a28e-f5b4a06e24e5",
   "metadata": {},
   "source": [
    "1.Working with Pandas Series\n"
   ]
  },
  {
   "cell_type": "markdown",
   "id": "34b18799-4488-4b78-8fe8-ab032e1e77c4",
   "metadata": {},
   "source": [
    "a) Creating Series"
   ]
  },
  {
   "cell_type": "markdown",
   "id": "e00bb283-b66c-49d8-920d-11a46fbdb8e5",
   "metadata": {},
   "source": [
    "Series through list"
   ]
  },
  {
   "cell_type": "code",
   "execution_count": 3,
   "id": "c954625f-b6d1-46c7-8ee1-c1fd93ab8cce",
   "metadata": {},
   "outputs": [
    {
     "data": {
      "text/plain": [
       "0    1\n",
       "1    2\n",
       "2    3\n",
       "3    4\n",
       "4    5\n",
       "5    6\n",
       "6    7\n",
       "dtype: int64"
      ]
     },
     "execution_count": 3,
     "metadata": {},
     "output_type": "execute_result"
    }
   ],
   "source": [
    "lst = [1,2,3,4,5,6,7]\n",
    "pd.Series(lst)"
   ]
  },
  {
   "cell_type": "markdown",
   "id": "50b83bcb-fb7b-4719-97a1-cf4caffe6eb9",
   "metadata": {},
   "source": [
    "Series through Numpy array"
   ]
  },
  {
   "cell_type": "code",
   "execution_count": 5,
   "id": "a633972d-833b-43ba-8195-9b4013d400f3",
   "metadata": {},
   "outputs": [
    {
     "data": {
      "text/plain": [
       "0    1\n",
       "1    2\n",
       "2    3\n",
       "3    4\n",
       "4    5\n",
       "5    6\n",
       "6    7\n",
       "dtype: int32"
      ]
     },
     "execution_count": 5,
     "metadata": {},
     "output_type": "execute_result"
    }
   ],
   "source": [
    "arr = np.array([1,2,3,4,5,6,7])\n",
    "pd.Series(arr)"
   ]
  },
  {
   "cell_type": "markdown",
   "id": "6265fe7a-99bb-4d71-bc50-a5b98196339e",
   "metadata": {},
   "source": [
    "Giving Index from our end"
   ]
  },
  {
   "cell_type": "code",
   "execution_count": 6,
   "id": "8bb70969-81e9-4d6e-8f6b-25b72b127e12",
   "metadata": {},
   "outputs": [
    {
     "data": {
      "text/plain": [
       "Esha        1\n",
       "Prajitha    2\n",
       "Jaya        3\n",
       "Ashin       4\n",
       "dtype: int64"
      ]
     },
     "execution_count": 6,
     "metadata": {},
     "output_type": "execute_result"
    }
   ],
   "source": [
    "pd.Series(index = ['Esha','Prajitha','Jaya','Ashin'],data = [1,2,3,4])"
   ]
  },
  {
   "cell_type": "markdown",
   "id": "5351cc8a-22b6-49d0-a435-a4ecc0ad5712",
   "metadata": {},
   "source": [
    "Series through Dictionary Values."
   ]
  },
  {
   "cell_type": "code",
   "execution_count": 7,
   "id": "b786f069-7dd3-4efa-a8a1-a286e015d528",
   "metadata": {},
   "outputs": [
    {
     "data": {
      "text/plain": [
       "day1    300\n",
       "day2    400\n",
       "day3    500\n",
       "dtype: int64"
      ]
     },
     "execution_count": 7,
     "metadata": {},
     "output_type": "execute_result"
    }
   ],
   "source": [
    "footsteps = {'day1':300,'day2':400,'day3':500}\n",
    "pd.Series(footsteps)"
   ]
  },
  {
   "cell_type": "markdown",
   "id": "6706bcf1-2859-4f8c-90fb-6b9744f1a55c",
   "metadata": {},
   "source": [
    "Using repeat function along with creating a Series"
   ]
  },
  {
   "cell_type": "code",
   "execution_count": 9,
   "id": "6c940a47-5493-4ddc-a9e8-b8bc15312e49",
   "metadata": {},
   "outputs": [
    {
     "data": {
      "text/plain": [
       "0    5\n",
       "0    5\n",
       "0    5\n",
       "0    5\n",
       "dtype: int64"
      ]
     },
     "execution_count": 9,
     "metadata": {},
     "output_type": "execute_result"
    }
   ],
   "source": [
    "pd.Series(5).repeat(4)"
   ]
  },
  {
   "cell_type": "code",
   "execution_count": 10,
   "id": "f8b886fd-5f8a-4cf3-8fe1-849f14f6c236",
   "metadata": {},
   "outputs": [
    {
     "data": {
      "text/plain": [
       "0    5\n",
       "1    5\n",
       "2    5\n",
       "dtype: int64"
      ]
     },
     "execution_count": 10,
     "metadata": {},
     "output_type": "execute_result"
    }
   ],
   "source": [
    "pd.Series(5).repeat(3).reset_index(drop = True)"
   ]
  },
  {
   "cell_type": "code",
   "execution_count": 11,
   "id": "277feee0-a9af-47a6-8503-734111f51b8b",
   "metadata": {},
   "outputs": [
    {
     "data": {
      "text/plain": [
       "0    10\n",
       "1    10\n",
       "2    10\n",
       "3    10\n",
       "4    10\n",
       "5    20\n",
       "6    20\n",
       "dtype: int64"
      ]
     },
     "execution_count": 11,
     "metadata": {},
     "output_type": "execute_result"
    }
   ],
   "source": [
    "a =  pd.Series([10,20]).repeat([5,2]).reset_index(drop = True)\n",
    "a"
   ]
  },
  {
   "cell_type": "markdown",
   "id": "8220d516-d8dc-414b-84ae-2b057f2387c3",
   "metadata": {},
   "source": [
    "Accessing Elements"
   ]
  },
  {
   "cell_type": "code",
   "execution_count": 12,
   "id": "8739b47b-6b62-4605-834c-84e864a41907",
   "metadata": {},
   "outputs": [
    {
     "data": {
      "text/plain": [
       "10"
      ]
     },
     "execution_count": 12,
     "metadata": {},
     "output_type": "execute_result"
    }
   ],
   "source": [
    "a[4]"
   ]
  },
  {
   "cell_type": "code",
   "execution_count": 13,
   "id": "1ffa1b12-97cf-4b4a-9865-69f0ad12392d",
   "metadata": {},
   "outputs": [
    {
     "data": {
      "text/plain": [
       "10"
      ]
     },
     "execution_count": 13,
     "metadata": {},
     "output_type": "execute_result"
    }
   ],
   "source": [
    "a[3]"
   ]
  },
  {
   "cell_type": "code",
   "execution_count": 14,
   "id": "29eeff5d-6627-4887-9bbd-2f3fb10cc385",
   "metadata": {},
   "outputs": [
    {
     "data": {
      "text/plain": [
       "20"
      ]
     },
     "execution_count": 14,
     "metadata": {},
     "output_type": "execute_result"
    }
   ],
   "source": [
    "a[6]"
   ]
  },
  {
   "cell_type": "code",
   "execution_count": 15,
   "id": "732f976d-8916-4876-b7ff-27fba1b2a129",
   "metadata": {},
   "outputs": [
    {
     "data": {
      "text/plain": [
       "2    10\n",
       "3    10\n",
       "4    10\n",
       "dtype: int64"
      ]
     },
     "execution_count": 15,
     "metadata": {},
     "output_type": "execute_result"
    }
   ],
   "source": [
    "a[2:-2]"
   ]
  },
  {
   "cell_type": "markdown",
   "id": "cfe7ec12-94d8-4f77-9d31-f476a11be990",
   "metadata": {},
   "source": [
    "b) Aggregate function on pandas Series"
   ]
  },
  {
   "cell_type": "code",
   "execution_count": 17,
   "id": "a7005eb1-d770-42f0-b250-71e45a1e9225",
   "metadata": {},
   "outputs": [
    {
     "name": "stderr",
     "output_type": "stream",
     "text": [
      "C:\\Users\\achyu\\AppData\\Local\\Temp\\ipykernel_10112\\191544172.py:2: FutureWarning: The provided callable <built-in function min> is currently using Series.min. In a future version of pandas, the provided callable will be used directly. To keep current behavior pass the string \"min\" instead.\n",
      "  ac.agg([min,max,sum])\n",
      "C:\\Users\\achyu\\AppData\\Local\\Temp\\ipykernel_10112\\191544172.py:2: FutureWarning: The provided callable <built-in function max> is currently using Series.max. In a future version of pandas, the provided callable will be used directly. To keep current behavior pass the string \"max\" instead.\n",
      "  ac.agg([min,max,sum])\n",
      "C:\\Users\\achyu\\AppData\\Local\\Temp\\ipykernel_10112\\191544172.py:2: FutureWarning: The provided callable <built-in function sum> is currently using Series.sum. In a future version of pandas, the provided callable will be used directly. To keep current behavior pass the string \"sum\" instead.\n",
      "  ac.agg([min,max,sum])\n"
     ]
    },
    {
     "data": {
      "text/plain": [
       "min     1\n",
       "max    12\n",
       "sum    57\n",
       "dtype: int64"
      ]
     },
     "execution_count": 17,
     "metadata": {},
     "output_type": "execute_result"
    }
   ],
   "source": [
    "ac = pd.Series([1,2,3,4,5,6,7,8,9,12])\n",
    "ac.agg([min,max,sum])"
   ]
  },
  {
   "cell_type": "markdown",
   "id": "efc67433-7bc0-45fe-919d-c8a1ed47ee8c",
   "metadata": {},
   "source": [
    "\n",
    "c) Series absolute function"
   ]
  },
  {
   "cell_type": "code",
   "execution_count": 18,
   "id": "fc8e20d7-55c2-436b-875c-5f34ea6cb41e",
   "metadata": {},
   "outputs": [
    {
     "data": {
      "text/plain": [
       "0     1\n",
       "1     2\n",
       "2     3\n",
       "3     4\n",
       "4     5\n",
       "5     6\n",
       "6     7\n",
       "7     8\n",
       "8     9\n",
       "9    12\n",
       "dtype: int64"
      ]
     },
     "execution_count": 18,
     "metadata": {},
     "output_type": "execute_result"
    }
   ],
   "source": [
    "ac = pd.Series([1,-2,-3,4,-5,6,7,8,9,-12])\n",
    "ac.abs()"
   ]
  },
  {
   "cell_type": "markdown",
   "id": "fd7067ec-ffa6-4f6d-9691-b5eb33627f5e",
   "metadata": {},
   "source": [
    "d) Astype Function"
   ]
  },
  {
   "cell_type": "code",
   "execution_count": 25,
   "id": "c2e529ae-87ca-4e1b-816a-d6fe6fe749be",
   "metadata": {},
   "outputs": [
    {
     "data": {
      "text/plain": [
       "0    1\n",
       "1   -2\n",
       "2    3\n",
       "dtype: int64"
      ]
     },
     "execution_count": 25,
     "metadata": {},
     "output_type": "execute_result"
    }
   ],
   "source": [
    "sr1 = pd.Series([1,-2,3])\n",
    "sr2 = pd.Series([1,2,3])\n",
    "sr1"
   ]
  },
  {
   "cell_type": "code",
   "execution_count": 26,
   "id": "3d48b954-4c42-4714-b5a1-c8cab2cee958",
   "metadata": {},
   "outputs": [
    {
     "data": {
      "text/plain": [
       "numpy.int64"
      ]
     },
     "execution_count": 26,
     "metadata": {},
     "output_type": "execute_result"
    }
   ],
   "source": [
    "type(sr1[0])"
   ]
  },
  {
   "cell_type": "code",
   "execution_count": 27,
   "id": "2b38b094-a209-47e2-bf2d-2ebfd1df83dc",
   "metadata": {},
   "outputs": [
    {
     "data": {
      "text/plain": [
       "0    1.0\n",
       "1   -2.0\n",
       "2    3.0\n",
       "dtype: float64"
      ]
     },
     "execution_count": 27,
     "metadata": {},
     "output_type": "execute_result"
    }
   ],
   "source": [
    "sr1.astype('float')"
   ]
  },
  {
   "cell_type": "markdown",
   "id": "646f7681-4fdd-4769-85cc-545b4b23f312",
   "metadata": {},
   "source": [
    "Between Function"
   ]
  },
  {
   "cell_type": "code",
   "execution_count": 28,
   "id": "1020861c-f73f-4d5d-ad98-63beda600ae2",
   "metadata": {},
   "outputs": [
    {
     "data": {
      "text/plain": [
       "0     1\n",
       "1     2\n",
       "2    30\n",
       "3     4\n",
       "4     5\n",
       "5     6\n",
       "6     7\n",
       "7     8\n",
       "8     9\n",
       "9    20\n",
       "dtype: int64"
      ]
     },
     "execution_count": 28,
     "metadata": {},
     "output_type": "execute_result"
    }
   ],
   "source": [
    "vs1 = pd.Series([1,2,30,4,5,6,7,8,9,20])\n",
    "vs1"
   ]
  },
  {
   "cell_type": "code",
   "execution_count": 29,
   "id": "acd90dbb-e7e5-4234-ade8-f7785136ac38",
   "metadata": {},
   "outputs": [
    {
     "data": {
      "text/plain": [
       "0    False\n",
       "1    False\n",
       "2     True\n",
       "3    False\n",
       "4    False\n",
       "5    False\n",
       "6    False\n",
       "7    False\n",
       "8    False\n",
       "9     True\n",
       "dtype: bool"
      ]
     },
     "execution_count": 29,
     "metadata": {},
     "output_type": "execute_result"
    }
   ],
   "source": [
    "vs1.between(10,50)"
   ]
  },
  {
   "cell_type": "markdown",
   "id": "339b3556-aa08-4ba8-9fbe-39457c60d6e7",
   "metadata": {},
   "source": [
    "All strings functions can be used to extract or modify texts in a series"
   ]
  },
  {
   "cell_type": "markdown",
   "id": "da646779-524b-4c7e-84b4-f3ecf62ff086",
   "metadata": {},
   "source": [
    " Upper and Lower Function\n"
   ]
  },
  {
   "cell_type": "code",
   "execution_count": 30,
   "id": "bb8fffe7-59b0-4639-9837-7d19f0134224",
   "metadata": {},
   "outputs": [],
   "source": [
    "ser = pd.Series([\"Eshant Das\" , \"Data Science\" , \"Geeks for Geeks\" , 'Hello World' , 'Machine Learning'])"
   ]
  },
  {
   "cell_type": "code",
   "execution_count": 31,
   "id": "07dc3904-d439-4641-8654-3fd53ad72526",
   "metadata": {},
   "outputs": [
    {
     "name": "stdout",
     "output_type": "stream",
     "text": [
      "0          ESHANT DAS\n",
      "1        DATA SCIENCE\n",
      "2     GEEKS FOR GEEKS\n",
      "3         HELLO WORLD\n",
      "4    MACHINE LEARNING\n",
      "dtype: object\n",
      "------------------------------\n",
      "0          eshant das\n",
      "1        data science\n",
      "2     geeks for geeks\n",
      "3         hello world\n",
      "4    machine learning\n",
      "dtype: object\n"
     ]
    }
   ],
   "source": [
    "print(ser.str.upper())\n",
    "print('-'*30)\n",
    "print(ser.str.lower())"
   ]
  },
  {
   "cell_type": "code",
   "execution_count": 32,
   "id": "97058d95-e50d-4acd-ad9b-209ba2ce41f0",
   "metadata": {},
   "outputs": [
    {
     "name": "stdout",
     "output_type": "stream",
     "text": [
      "10\n",
      "12\n",
      "15\n",
      "11\n",
      "16\n"
     ]
    }
   ],
   "source": [
    "for i in ser:\n",
    "    print(len(i))"
   ]
  },
  {
   "cell_type": "code",
   "execution_count": 37,
   "id": "702fb26b-39bf-494f-8990-5442fdfdbd75",
   "metadata": {},
   "outputs": [
    {
     "name": "stdout",
     "output_type": "stream",
     "text": [
      "  Eshant Das 12\n",
      "Data Science 12\n",
      "Geeks for Geeks 15\n",
      "Hello World 11\n",
      "Machine Learning   18\n"
     ]
    }
   ],
   "source": [
    "ser = pd.Series([\"  Eshant Das\" , \"Data Science\" , \"Geeks for Geeks\" , 'Hello World' , 'Machine Learning  '])\n",
    "\n",
    "for i in ser:\n",
    "    print(i , len(i))"
   ]
  },
  {
   "cell_type": "markdown",
   "id": "e9f18212-476f-461e-bab8-1adef6cc223b",
   "metadata": {},
   "source": [
    "strip function"
   ]
  },
  {
   "cell_type": "code",
   "execution_count": 38,
   "id": "9df9f602-cbf2-48d7-a0d8-550c94024493",
   "metadata": {},
   "outputs": [
    {
     "name": "stdout",
     "output_type": "stream",
     "text": [
      "Eshant Das 10\n",
      "Data Science 12\n",
      "Geeks for Geeks 15\n",
      "Hello World 11\n",
      "Machine Learning 16\n"
     ]
    }
   ],
   "source": [
    "ser = ser.str.strip()\n",
    "\n",
    "for i in ser:\n",
    "    print(i , len(i))"
   ]
  },
  {
   "cell_type": "markdown",
   "id": "616d0ae3-34d1-42fc-8a51-235fd527e72c",
   "metadata": {},
   "source": [
    "split function"
   ]
  },
  {
   "cell_type": "code",
   "execution_count": 39,
   "id": "97b6a466-97da-4bbd-8b8f-8f8a4090bed5",
   "metadata": {},
   "outputs": [
    {
     "data": {
      "text/plain": [
       "0          [Eshant, Das]\n",
       "1        [Data, Science]\n",
       "2    [Geeks, for, Geeks]\n",
       "3         [Hello, World]\n",
       "4    [Machine, Learning]\n",
       "dtype: object"
      ]
     },
     "execution_count": 39,
     "metadata": {},
     "output_type": "execute_result"
    }
   ],
   "source": [
    "ser.str.split()"
   ]
  },
  {
   "cell_type": "code",
   "execution_count": 40,
   "id": "5186e479-ed70-49e5-8065-331972a58ac4",
   "metadata": {},
   "outputs": [
    {
     "data": {
      "text/plain": [
       "['Eshant', 'Das']"
      ]
     },
     "execution_count": 40,
     "metadata": {},
     "output_type": "execute_result"
    }
   ],
   "source": [
    "ser.str.split()[0]"
   ]
  },
  {
   "cell_type": "markdown",
   "id": "0c56f481-ccf9-4c4d-8b06-6f57ec1c15dd",
   "metadata": {},
   "source": [
    "contains function"
   ]
  },
  {
   "cell_type": "code",
   "execution_count": 41,
   "id": "32b7547a-8629-454d-916e-4b3df9105dd3",
   "metadata": {},
   "outputs": [
    {
     "data": {
      "text/plain": [
       "0    False\n",
       "1     True\n",
       "2    False\n",
       "3     True\n",
       "4    False\n",
       "dtype: bool"
      ]
     },
     "execution_count": 41,
     "metadata": {},
     "output_type": "execute_result"
    }
   ],
   "source": [
    "ser = pd.Series([\"Eshant Das\",\"Data@Science\",\"Geeks for Geeks\",'Hello@World','Machine Learning'])\n",
    "ser.str.contains('@')"
   ]
  },
  {
   "cell_type": "markdown",
   "id": "df364c24-dc50-4b8b-80f7-abad66d1e4e8",
   "metadata": {},
   "source": [
    "replace function"
   ]
  },
  {
   "cell_type": "code",
   "execution_count": 42,
   "id": "3bea1bae-22f1-4cdc-a1b9-4454e2bef683",
   "metadata": {},
   "outputs": [
    {
     "data": {
      "text/plain": [
       "0          Eshant Das\n",
       "1        Data Science\n",
       "2     Geeks for Geeks\n",
       "3         Hello World\n",
       "4    Machine Learning\n",
       "dtype: object"
      ]
     },
     "execution_count": 42,
     "metadata": {},
     "output_type": "execute_result"
    }
   ],
   "source": [
    "ser.str.replace('@',' ')"
   ]
  },
  {
   "cell_type": "markdown",
   "id": "d2be7fdc-aeba-4b08-8254-3b4bd53237be",
   "metadata": {},
   "source": [
    "count function"
   ]
  },
  {
   "cell_type": "code",
   "execution_count": 43,
   "id": "cf09cea8-7078-4e71-a5d1-49e727c73367",
   "metadata": {},
   "outputs": [
    {
     "data": {
      "text/plain": [
       "0    2\n",
       "1    2\n",
       "2    0\n",
       "3    0\n",
       "4    2\n",
       "dtype: int64"
      ]
     },
     "execution_count": 43,
     "metadata": {},
     "output_type": "execute_result"
    }
   ],
   "source": [
    "ser.str.count('a')"
   ]
  },
  {
   "cell_type": "markdown",
   "id": "ee0e0f50-e415-498e-aa4f-c44f2d144e6a",
   "metadata": {},
   "source": [
    "startswith and endswith"
   ]
  },
  {
   "cell_type": "code",
   "execution_count": 44,
   "id": "9ad0d79e-e1bb-46aa-b913-d3dfcd6715bd",
   "metadata": {},
   "outputs": [
    {
     "data": {
      "text/plain": [
       "0    False\n",
       "1     True\n",
       "2    False\n",
       "3    False\n",
       "4    False\n",
       "dtype: bool"
      ]
     },
     "execution_count": 44,
     "metadata": {},
     "output_type": "execute_result"
    }
   ],
   "source": [
    "ser.str.startswith('D')"
   ]
  },
  {
   "cell_type": "code",
   "execution_count": 45,
   "id": "77ff2f26-b197-49a0-84ef-ced84b2d35a8",
   "metadata": {},
   "outputs": [
    {
     "data": {
      "text/plain": [
       "0    False\n",
       "1    False\n",
       "2    False\n",
       "3    False\n",
       "4     True\n",
       "dtype: bool"
      ]
     },
     "execution_count": 45,
     "metadata": {},
     "output_type": "execute_result"
    }
   ],
   "source": [
    "ser.str.endswith('g')"
   ]
  },
  {
   "cell_type": "markdown",
   "id": "647458db-ae8c-4f72-82d0-9bdb9735be5e",
   "metadata": {},
   "source": [
    "find function"
   ]
  },
  {
   "cell_type": "code",
   "execution_count": 46,
   "id": "423664ad-3cc3-43e1-a7b0-2c37b224dcc5",
   "metadata": {},
   "outputs": [
    {
     "data": {
      "text/plain": [
       "0   -1\n",
       "1   -1\n",
       "2    0\n",
       "3   -1\n",
       "4   -1\n",
       "dtype: int64"
      ]
     },
     "execution_count": 46,
     "metadata": {},
     "output_type": "execute_result"
    }
   ],
   "source": [
    "ser.str.find('Geeks')"
   ]
  },
  {
   "cell_type": "markdown",
   "id": "9ed7c4e0-99c0-4189-b017-bab41bcccf3f",
   "metadata": {},
   "source": [
    "Converting a Series to List"
   ]
  },
  {
   "cell_type": "code",
   "execution_count": 47,
   "id": "5ae397d4-e711-4455-9a39-2d4e53ae1040",
   "metadata": {},
   "outputs": [
    {
     "data": {
      "text/plain": [
       "['Eshant Das',\n",
       " 'Data@Science',\n",
       " 'Geeks for Geeks',\n",
       " 'Hello@World',\n",
       " 'Machine Learning']"
      ]
     },
     "execution_count": 47,
     "metadata": {},
     "output_type": "execute_result"
    }
   ],
   "source": [
    "ser.to_list()"
   ]
  },
  {
   "cell_type": "markdown",
   "id": "b22bf034-ce5b-47b7-8d0b-86285e7e2a2d",
   "metadata": {},
   "source": [
    "Creating data frames"
   ]
  },
  {
   "cell_type": "markdown",
   "id": "aa6bdc4a-574a-42db-8ab1-08d4b97e5b8c",
   "metadata": {},
   "source": [
    "using list"
   ]
  },
  {
   "cell_type": "code",
   "execution_count": 48,
   "id": "4cb368da-9dd1-4ed1-ae9a-0ddaaa83118a",
   "metadata": {},
   "outputs": [
    {
     "data": {
      "text/html": [
       "<div>\n",
       "<style scoped>\n",
       "    .dataframe tbody tr th:only-of-type {\n",
       "        vertical-align: middle;\n",
       "    }\n",
       "\n",
       "    .dataframe tbody tr th {\n",
       "        vertical-align: top;\n",
       "    }\n",
       "\n",
       "    .dataframe thead th {\n",
       "        text-align: right;\n",
       "    }\n",
       "</style>\n",
       "<table border=\"1\" class=\"dataframe\">\n",
       "  <thead>\n",
       "    <tr style=\"text-align: right;\">\n",
       "      <th></th>\n",
       "      <th>0</th>\n",
       "    </tr>\n",
       "  </thead>\n",
       "  <tbody>\n",
       "    <tr>\n",
       "      <th>0</th>\n",
       "      <td>bore</td>\n",
       "    </tr>\n",
       "    <tr>\n",
       "      <th>1</th>\n",
       "      <td>gon</td>\n",
       "    </tr>\n",
       "    <tr>\n",
       "      <th>2</th>\n",
       "      <td>gun</td>\n",
       "    </tr>\n",
       "    <tr>\n",
       "      <th>3</th>\n",
       "      <td>cat</td>\n",
       "    </tr>\n",
       "    <tr>\n",
       "      <th>4</th>\n",
       "      <td>bun</td>\n",
       "    </tr>\n",
       "  </tbody>\n",
       "</table>\n",
       "</div>"
      ],
      "text/plain": [
       "      0\n",
       "0  bore\n",
       "1   gon\n",
       "2   gun\n",
       "3   cat\n",
       "4   bun"
      ]
     },
     "execution_count": 48,
     "metadata": {},
     "output_type": "execute_result"
    }
   ],
   "source": [
    "lst = ['bore','gon','gun','cat','bun']\n",
    "pd.DataFrame(lst)"
   ]
  },
  {
   "cell_type": "code",
   "execution_count": 49,
   "id": "80bcb0a5-3b10-440c-9f2f-db1cac7618f4",
   "metadata": {},
   "outputs": [
    {
     "data": {
      "text/html": [
       "<div>\n",
       "<style scoped>\n",
       "    .dataframe tbody tr th:only-of-type {\n",
       "        vertical-align: middle;\n",
       "    }\n",
       "\n",
       "    .dataframe tbody tr th {\n",
       "        vertical-align: top;\n",
       "    }\n",
       "\n",
       "    .dataframe thead th {\n",
       "        text-align: right;\n",
       "    }\n",
       "</style>\n",
       "<table border=\"1\" class=\"dataframe\">\n",
       "  <thead>\n",
       "    <tr style=\"text-align: right;\">\n",
       "      <th></th>\n",
       "      <th>0</th>\n",
       "      <th>1</th>\n",
       "    </tr>\n",
       "  </thead>\n",
       "  <tbody>\n",
       "    <tr>\n",
       "      <th>0</th>\n",
       "      <td>tom</td>\n",
       "      <td>11</td>\n",
       "    </tr>\n",
       "    <tr>\n",
       "      <th>1</th>\n",
       "      <td>jerry</td>\n",
       "      <td>12</td>\n",
       "    </tr>\n",
       "    <tr>\n",
       "      <th>2</th>\n",
       "      <td>spike</td>\n",
       "      <td>14</td>\n",
       "    </tr>\n",
       "  </tbody>\n",
       "</table>\n",
       "</div>"
      ],
      "text/plain": [
       "       0   1\n",
       "0    tom  11\n",
       "1  jerry  12\n",
       "2  spike  14"
      ]
     },
     "execution_count": 49,
     "metadata": {},
     "output_type": "execute_result"
    }
   ],
   "source": [
    "lst = [['tom',11],['jerry',12],['spike',14]]\n",
    "pd.DataFrame(lst)"
   ]
  },
  {
   "cell_type": "markdown",
   "id": "b7096993-6b50-4238-9d81-2f83b491294e",
   "metadata": {},
   "source": [
    "From dict of ndarray/lists:"
   ]
  },
  {
   "cell_type": "code",
   "execution_count": 50,
   "id": "b3651ee3-6f20-4d38-8b87-898b899035eb",
   "metadata": {},
   "outputs": [
    {
     "data": {
      "text/html": [
       "<div>\n",
       "<style scoped>\n",
       "    .dataframe tbody tr th:only-of-type {\n",
       "        vertical-align: middle;\n",
       "    }\n",
       "\n",
       "    .dataframe tbody tr th {\n",
       "        vertical-align: top;\n",
       "    }\n",
       "\n",
       "    .dataframe thead th {\n",
       "        text-align: right;\n",
       "    }\n",
       "</style>\n",
       "<table border=\"1\" class=\"dataframe\">\n",
       "  <thead>\n",
       "    <tr style=\"text-align: right;\">\n",
       "      <th></th>\n",
       "      <th>name</th>\n",
       "      <th>age</th>\n",
       "    </tr>\n",
       "  </thead>\n",
       "  <tbody>\n",
       "    <tr>\n",
       "      <th>0</th>\n",
       "      <td>Tom</td>\n",
       "      <td>20</td>\n",
       "    </tr>\n",
       "    <tr>\n",
       "      <th>1</th>\n",
       "      <td>nick</td>\n",
       "      <td>21</td>\n",
       "    </tr>\n",
       "    <tr>\n",
       "      <th>2</th>\n",
       "      <td>krish</td>\n",
       "      <td>19</td>\n",
       "    </tr>\n",
       "    <tr>\n",
       "      <th>3</th>\n",
       "      <td>jack</td>\n",
       "      <td>18</td>\n",
       "    </tr>\n",
       "  </tbody>\n",
       "</table>\n",
       "</div>"
      ],
      "text/plain": [
       "    name  age\n",
       "0    Tom   20\n",
       "1   nick   21\n",
       "2  krish   19\n",
       "3   jack   18"
      ]
     },
     "execution_count": 50,
     "metadata": {},
     "output_type": "execute_result"
    }
   ],
   "source": [
    "data = {'name':['Tom', 'nick', 'krish', 'jack'], 'age':[20, 21, 19, 18]}\n",
    "pd.DataFrame(data)"
   ]
  },
  {
   "cell_type": "code",
   "execution_count": 52,
   "id": "822c6c0a-a765-429d-ab1f-246781bff40c",
   "metadata": {},
   "outputs": [],
   "source": [
    "data = { 'Name'         :['Jai', 'Princi', 'Gaurav', 'Anuj'],\n",
    "         'Age'          :[27, 24, 22, 32],\n",
    "         'Address'      :['Delhi', 'Kanpur', 'Allahabad', 'Kannauj'],\n",
    "         'Qualification':['Msc', 'MA', 'MCA', 'Phd']}\n",
    "df = pd.DataFrame(data)"
   ]
  },
  {
   "cell_type": "code",
   "execution_count": 53,
   "id": "ab4548ed-a39d-4cf9-8bed-602bb0893790",
   "metadata": {},
   "outputs": [
    {
     "data": {
      "text/html": [
       "<div>\n",
       "<style scoped>\n",
       "    .dataframe tbody tr th:only-of-type {\n",
       "        vertical-align: middle;\n",
       "    }\n",
       "\n",
       "    .dataframe tbody tr th {\n",
       "        vertical-align: top;\n",
       "    }\n",
       "\n",
       "    .dataframe thead th {\n",
       "        text-align: right;\n",
       "    }\n",
       "</style>\n",
       "<table border=\"1\" class=\"dataframe\">\n",
       "  <thead>\n",
       "    <tr style=\"text-align: right;\">\n",
       "      <th></th>\n",
       "      <th>Age</th>\n",
       "      <th>Qualification</th>\n",
       "    </tr>\n",
       "  </thead>\n",
       "  <tbody>\n",
       "    <tr>\n",
       "      <th>0</th>\n",
       "      <td>27</td>\n",
       "      <td>Msc</td>\n",
       "    </tr>\n",
       "    <tr>\n",
       "      <th>1</th>\n",
       "      <td>24</td>\n",
       "      <td>MA</td>\n",
       "    </tr>\n",
       "    <tr>\n",
       "      <th>2</th>\n",
       "      <td>22</td>\n",
       "      <td>MCA</td>\n",
       "    </tr>\n",
       "    <tr>\n",
       "      <th>3</th>\n",
       "      <td>32</td>\n",
       "      <td>Phd</td>\n",
       "    </tr>\n",
       "  </tbody>\n",
       "</table>\n",
       "</div>"
      ],
      "text/plain": [
       "   Age Qualification\n",
       "0   27           Msc\n",
       "1   24            MA\n",
       "2   22           MCA\n",
       "3   32           Phd"
      ]
     },
     "execution_count": 53,
     "metadata": {},
     "output_type": "execute_result"
    }
   ],
   "source": [
    "df[['Age','Qualification']]"
   ]
  },
  {
   "cell_type": "markdown",
   "id": "406d9e1d-74b5-4760-8b45-63bfab647086",
   "metadata": {},
   "source": [
    "data = {'one'   : pd.Series([1, 2, 3, 4]),\n",
    "        'two'   : pd.Series([10, 20, 30, 40]),\n",
    "        'three' : pd.Series([100, 200, 300, 400]),\n",
    "        'four'  : pd.Series([1000, 2000, 3000, 4000])}\n",
    "df = pd.DataFrame(data)\n",
    "df"
   ]
  },
  {
   "cell_type": "markdown",
   "id": "120160fd-1f2d-42c6-8856-4a5777e21a49",
   "metadata": {},
   "source": [
    "slicing using loc operation"
   ]
  },
  {
   "cell_type": "code",
   "execution_count": 55,
   "id": "e916d525-552c-4d44-943d-2d39528ca479",
   "metadata": {},
   "outputs": [
    {
     "data": {
      "text/html": [
       "<div>\n",
       "<style scoped>\n",
       "    .dataframe tbody tr th:only-of-type {\n",
       "        vertical-align: middle;\n",
       "    }\n",
       "\n",
       "    .dataframe tbody tr th {\n",
       "        vertical-align: top;\n",
       "    }\n",
       "\n",
       "    .dataframe thead th {\n",
       "        text-align: right;\n",
       "    }\n",
       "</style>\n",
       "<table border=\"1\" class=\"dataframe\">\n",
       "  <thead>\n",
       "    <tr style=\"text-align: right;\">\n",
       "      <th></th>\n",
       "      <th>two</th>\n",
       "      <th>three</th>\n",
       "    </tr>\n",
       "  </thead>\n",
       "  <tbody>\n",
       "    <tr>\n",
       "      <th>1</th>\n",
       "      <td>20</td>\n",
       "      <td>200</td>\n",
       "    </tr>\n",
       "    <tr>\n",
       "      <th>2</th>\n",
       "      <td>30</td>\n",
       "      <td>300</td>\n",
       "    </tr>\n",
       "  </tbody>\n",
       "</table>\n",
       "</div>"
      ],
      "text/plain": [
       "   two  three\n",
       "1   20    200\n",
       "2   30    300"
      ]
     },
     "execution_count": 55,
     "metadata": {},
     "output_type": "execute_result"
    }
   ],
   "source": [
    "df.loc[1:2, 'two' : 'three']"
   ]
  },
  {
   "cell_type": "markdown",
   "id": "e898c32a-506f-46cc-81fe-15a3189db60f",
   "metadata": {},
   "source": [
    "iloc operation"
   ]
  },
  {
   "cell_type": "code",
   "execution_count": 58,
   "id": "d2b28536-6bb9-4741-a3a6-b26139c31373",
   "metadata": {},
   "outputs": [
    {
     "data": {
      "text/html": [
       "<div>\n",
       "<style scoped>\n",
       "    .dataframe tbody tr th:only-of-type {\n",
       "        vertical-align: middle;\n",
       "    }\n",
       "\n",
       "    .dataframe tbody tr th {\n",
       "        vertical-align: top;\n",
       "    }\n",
       "\n",
       "    .dataframe thead th {\n",
       "        text-align: right;\n",
       "    }\n",
       "</style>\n",
       "<table border=\"1\" class=\"dataframe\">\n",
       "  <thead>\n",
       "    <tr style=\"text-align: right;\">\n",
       "      <th></th>\n",
       "      <th>two</th>\n",
       "      <th>three</th>\n",
       "    </tr>\n",
       "  </thead>\n",
       "  <tbody>\n",
       "    <tr>\n",
       "      <th>1</th>\n",
       "      <td>20</td>\n",
       "      <td>200</td>\n",
       "    </tr>\n",
       "    <tr>\n",
       "      <th>2</th>\n",
       "      <td>30</td>\n",
       "      <td>300</td>\n",
       "    </tr>\n",
       "  </tbody>\n",
       "</table>\n",
       "</div>"
      ],
      "text/plain": [
       "   two  three\n",
       "1   20    200\n",
       "2   30    300"
      ]
     },
     "execution_count": 58,
     "metadata": {},
     "output_type": "execute_result"
    }
   ],
   "source": [
    "df.iloc[1 : -1, 1:-1 ]"
   ]
  },
  {
   "cell_type": "code",
   "execution_count": 63,
   "id": "1643bbdf-e7db-4e62-9bf9-ae04a2ccf893",
   "metadata": {},
   "outputs": [
    {
     "data": {
      "text/html": [
       "<div>\n",
       "<style scoped>\n",
       "    .dataframe tbody tr th:only-of-type {\n",
       "        vertical-align: middle;\n",
       "    }\n",
       "\n",
       "    .dataframe tbody tr th {\n",
       "        vertical-align: top;\n",
       "    }\n",
       "\n",
       "    .dataframe thead th {\n",
       "        text-align: right;\n",
       "    }\n",
       "</style>\n",
       "<table border=\"1\" class=\"dataframe\">\n",
       "  <thead>\n",
       "    <tr style=\"text-align: right;\">\n",
       "      <th></th>\n",
       "    </tr>\n",
       "  </thead>\n",
       "  <tbody>\n",
       "    <tr>\n",
       "      <th>0</th>\n",
       "    </tr>\n",
       "    <tr>\n",
       "      <th>1</th>\n",
       "    </tr>\n",
       "    <tr>\n",
       "      <th>2</th>\n",
       "    </tr>\n",
       "    <tr>\n",
       "      <th>3</th>\n",
       "    </tr>\n",
       "  </tbody>\n",
       "</table>\n",
       "</div>"
      ],
      "text/plain": [
       "Empty DataFrame\n",
       "Columns: []\n",
       "Index: [0, 1, 2, 3]"
      ]
     },
     "execution_count": 63,
     "metadata": {},
     "output_type": "execute_result"
    }
   ],
   "source": [
    "df.iloc[:,3:2]"
   ]
  },
  {
   "cell_type": "code",
   "execution_count": 64,
   "id": "eea766e5-a471-465a-b244-485e7f1c9c06",
   "metadata": {},
   "outputs": [
    {
     "data": {
      "text/html": [
       "<div>\n",
       "<style scoped>\n",
       "    .dataframe tbody tr th:only-of-type {\n",
       "        vertical-align: middle;\n",
       "    }\n",
       "\n",
       "    .dataframe tbody tr th {\n",
       "        vertical-align: top;\n",
       "    }\n",
       "\n",
       "    .dataframe thead th {\n",
       "        text-align: right;\n",
       "    }\n",
       "</style>\n",
       "<table border=\"1\" class=\"dataframe\">\n",
       "  <thead>\n",
       "    <tr style=\"text-align: right;\">\n",
       "      <th></th>\n",
       "      <th>two</th>\n",
       "      <th>four</th>\n",
       "    </tr>\n",
       "  </thead>\n",
       "  <tbody>\n",
       "    <tr>\n",
       "      <th>0</th>\n",
       "      <td>10</td>\n",
       "      <td>1000</td>\n",
       "    </tr>\n",
       "    <tr>\n",
       "      <th>2</th>\n",
       "      <td>30</td>\n",
       "      <td>3000</td>\n",
       "    </tr>\n",
       "  </tbody>\n",
       "</table>\n",
       "</div>"
      ],
      "text/plain": [
       "   two  four\n",
       "0   10  1000\n",
       "2   30  3000"
      ]
     },
     "execution_count": 64,
     "metadata": {},
     "output_type": "execute_result"
    }
   ],
   "source": [
    "df.iloc[[0,2],[1,3]]"
   ]
  },
  {
   "cell_type": "markdown",
   "id": "1d1011e2-580c-4d20-95f3-6d8d8ec407cd",
   "metadata": {},
   "source": [
    "Column Addition in DataFrame"
   ]
  },
  {
   "cell_type": "code",
   "execution_count": 65,
   "id": "3f3df06a-3844-4374-9287-6d419f002db0",
   "metadata": {},
   "outputs": [
    {
     "data": {
      "text/html": [
       "<div>\n",
       "<style scoped>\n",
       "    .dataframe tbody tr th:only-of-type {\n",
       "        vertical-align: middle;\n",
       "    }\n",
       "\n",
       "    .dataframe tbody tr th {\n",
       "        vertical-align: top;\n",
       "    }\n",
       "\n",
       "    .dataframe thead th {\n",
       "        text-align: right;\n",
       "    }\n",
       "</style>\n",
       "<table border=\"1\" class=\"dataframe\">\n",
       "  <thead>\n",
       "    <tr style=\"text-align: right;\">\n",
       "      <th></th>\n",
       "      <th>one</th>\n",
       "      <th>two</th>\n",
       "      <th>three</th>\n",
       "      <th>four</th>\n",
       "    </tr>\n",
       "  </thead>\n",
       "  <tbody>\n",
       "    <tr>\n",
       "      <th>0</th>\n",
       "      <td>1</td>\n",
       "      <td>10</td>\n",
       "      <td>100</td>\n",
       "      <td>1000</td>\n",
       "    </tr>\n",
       "    <tr>\n",
       "      <th>1</th>\n",
       "      <td>2</td>\n",
       "      <td>20</td>\n",
       "      <td>200</td>\n",
       "      <td>2000</td>\n",
       "    </tr>\n",
       "    <tr>\n",
       "      <th>2</th>\n",
       "      <td>3</td>\n",
       "      <td>30</td>\n",
       "      <td>300</td>\n",
       "      <td>3000</td>\n",
       "    </tr>\n",
       "    <tr>\n",
       "      <th>3</th>\n",
       "      <td>4</td>\n",
       "      <td>40</td>\n",
       "      <td>400</td>\n",
       "      <td>4000</td>\n",
       "    </tr>\n",
       "  </tbody>\n",
       "</table>\n",
       "</div>"
      ],
      "text/plain": [
       "   one  two  three  four\n",
       "0    1   10    100  1000\n",
       "1    2   20    200  2000\n",
       "2    3   30    300  3000\n",
       "3    4   40    400  4000"
      ]
     },
     "execution_count": 65,
     "metadata": {},
     "output_type": "execute_result"
    }
   ],
   "source": [
    "df"
   ]
  },
  {
   "cell_type": "code",
   "execution_count": 66,
   "id": "d524d6d5-215b-44c6-835f-08a404369033",
   "metadata": {},
   "outputs": [
    {
     "data": {
      "text/html": [
       "<div>\n",
       "<style scoped>\n",
       "    .dataframe tbody tr th:only-of-type {\n",
       "        vertical-align: middle;\n",
       "    }\n",
       "\n",
       "    .dataframe tbody tr th {\n",
       "        vertical-align: top;\n",
       "    }\n",
       "\n",
       "    .dataframe thead th {\n",
       "        text-align: right;\n",
       "    }\n",
       "</style>\n",
       "<table border=\"1\" class=\"dataframe\">\n",
       "  <thead>\n",
       "    <tr style=\"text-align: right;\">\n",
       "      <th></th>\n",
       "      <th>one</th>\n",
       "      <th>two</th>\n",
       "      <th>three</th>\n",
       "      <th>four</th>\n",
       "      <th>five</th>\n",
       "    </tr>\n",
       "  </thead>\n",
       "  <tbody>\n",
       "    <tr>\n",
       "      <th>0</th>\n",
       "      <td>1</td>\n",
       "      <td>10</td>\n",
       "      <td>100</td>\n",
       "      <td>1000</td>\n",
       "      <td>22</td>\n",
       "    </tr>\n",
       "    <tr>\n",
       "      <th>1</th>\n",
       "      <td>2</td>\n",
       "      <td>20</td>\n",
       "      <td>200</td>\n",
       "      <td>2000</td>\n",
       "      <td>33</td>\n",
       "    </tr>\n",
       "    <tr>\n",
       "      <th>2</th>\n",
       "      <td>3</td>\n",
       "      <td>30</td>\n",
       "      <td>300</td>\n",
       "      <td>3000</td>\n",
       "      <td>44</td>\n",
       "    </tr>\n",
       "    <tr>\n",
       "      <th>3</th>\n",
       "      <td>4</td>\n",
       "      <td>40</td>\n",
       "      <td>400</td>\n",
       "      <td>4000</td>\n",
       "      <td>55</td>\n",
       "    </tr>\n",
       "  </tbody>\n",
       "</table>\n",
       "</div>"
      ],
      "text/plain": [
       "   one  two  three  four  five\n",
       "0    1   10    100  1000    22\n",
       "1    2   20    200  2000    33\n",
       "2    3   30    300  3000    44\n",
       "3    4   40    400  4000    55"
      ]
     },
     "execution_count": 66,
     "metadata": {},
     "output_type": "execute_result"
    }
   ],
   "source": [
    "l = [22,33,44,55]\n",
    "df['five'] = l\n",
    "df"
   ]
  },
  {
   "cell_type": "code",
   "execution_count": 67,
   "id": "3a991d79-ea64-4a07-951f-2e8d2ada83e2",
   "metadata": {},
   "outputs": [
    {
     "data": {
      "text/html": [
       "<div>\n",
       "<style scoped>\n",
       "    .dataframe tbody tr th:only-of-type {\n",
       "        vertical-align: middle;\n",
       "    }\n",
       "\n",
       "    .dataframe tbody tr th {\n",
       "        vertical-align: top;\n",
       "    }\n",
       "\n",
       "    .dataframe thead th {\n",
       "        text-align: right;\n",
       "    }\n",
       "</style>\n",
       "<table border=\"1\" class=\"dataframe\">\n",
       "  <thead>\n",
       "    <tr style=\"text-align: right;\">\n",
       "      <th></th>\n",
       "      <th>one</th>\n",
       "      <th>two</th>\n",
       "      <th>three</th>\n",
       "      <th>four</th>\n",
       "      <th>five</th>\n",
       "      <th>six</th>\n",
       "    </tr>\n",
       "  </thead>\n",
       "  <tbody>\n",
       "    <tr>\n",
       "      <th>0</th>\n",
       "      <td>1</td>\n",
       "      <td>10</td>\n",
       "      <td>100</td>\n",
       "      <td>1000</td>\n",
       "      <td>22</td>\n",
       "      <td>111</td>\n",
       "    </tr>\n",
       "    <tr>\n",
       "      <th>1</th>\n",
       "      <td>2</td>\n",
       "      <td>20</td>\n",
       "      <td>200</td>\n",
       "      <td>2000</td>\n",
       "      <td>33</td>\n",
       "      <td>222</td>\n",
       "    </tr>\n",
       "    <tr>\n",
       "      <th>2</th>\n",
       "      <td>3</td>\n",
       "      <td>30</td>\n",
       "      <td>300</td>\n",
       "      <td>3000</td>\n",
       "      <td>44</td>\n",
       "      <td>333</td>\n",
       "    </tr>\n",
       "    <tr>\n",
       "      <th>3</th>\n",
       "      <td>4</td>\n",
       "      <td>40</td>\n",
       "      <td>400</td>\n",
       "      <td>4000</td>\n",
       "      <td>55</td>\n",
       "      <td>444</td>\n",
       "    </tr>\n",
       "  </tbody>\n",
       "</table>\n",
       "</div>"
      ],
      "text/plain": [
       "   one  two  three  four  five  six\n",
       "0    1   10    100  1000    22  111\n",
       "1    2   20    200  2000    33  222\n",
       "2    3   30    300  3000    44  333\n",
       "3    4   40    400  4000    55  444"
      ]
     },
     "execution_count": 67,
     "metadata": {},
     "output_type": "execute_result"
    }
   ],
   "source": [
    "sr = pd.Series([111,222,333,444])\n",
    "df['six'] = sr\n",
    "df"
   ]
  },
  {
   "cell_type": "code",
   "execution_count": 68,
   "id": "4a728e2b-4ad6-4a80-9390-44845b1c6322",
   "metadata": {},
   "outputs": [
    {
     "data": {
      "text/html": [
       "<div>\n",
       "<style scoped>\n",
       "    .dataframe tbody tr th:only-of-type {\n",
       "        vertical-align: middle;\n",
       "    }\n",
       "\n",
       "    .dataframe tbody tr th {\n",
       "        vertical-align: top;\n",
       "    }\n",
       "\n",
       "    .dataframe thead th {\n",
       "        text-align: right;\n",
       "    }\n",
       "</style>\n",
       "<table border=\"1\" class=\"dataframe\">\n",
       "  <thead>\n",
       "    <tr style=\"text-align: right;\">\n",
       "      <th></th>\n",
       "      <th>one</th>\n",
       "      <th>two</th>\n",
       "      <th>three</th>\n",
       "      <th>four</th>\n",
       "      <th>five</th>\n",
       "      <th>six</th>\n",
       "      <th>seven</th>\n",
       "    </tr>\n",
       "  </thead>\n",
       "  <tbody>\n",
       "    <tr>\n",
       "      <th>0</th>\n",
       "      <td>1</td>\n",
       "      <td>10</td>\n",
       "      <td>100</td>\n",
       "      <td>1000</td>\n",
       "      <td>22</td>\n",
       "      <td>111</td>\n",
       "      <td>11</td>\n",
       "    </tr>\n",
       "    <tr>\n",
       "      <th>1</th>\n",
       "      <td>2</td>\n",
       "      <td>20</td>\n",
       "      <td>200</td>\n",
       "      <td>2000</td>\n",
       "      <td>33</td>\n",
       "      <td>222</td>\n",
       "      <td>12</td>\n",
       "    </tr>\n",
       "    <tr>\n",
       "      <th>2</th>\n",
       "      <td>3</td>\n",
       "      <td>30</td>\n",
       "      <td>300</td>\n",
       "      <td>3000</td>\n",
       "      <td>44</td>\n",
       "      <td>333</td>\n",
       "      <td>13</td>\n",
       "    </tr>\n",
       "    <tr>\n",
       "      <th>3</th>\n",
       "      <td>4</td>\n",
       "      <td>40</td>\n",
       "      <td>400</td>\n",
       "      <td>4000</td>\n",
       "      <td>55</td>\n",
       "      <td>444</td>\n",
       "      <td>14</td>\n",
       "    </tr>\n",
       "  </tbody>\n",
       "</table>\n",
       "</div>"
      ],
      "text/plain": [
       "   one  two  three  four  five  six  seven\n",
       "0    1   10    100  1000    22  111     11\n",
       "1    2   20    200  2000    33  222     12\n",
       "2    3   30    300  3000    44  333     13\n",
       "3    4   40    400  4000    55  444     14"
      ]
     },
     "execution_count": 68,
     "metadata": {},
     "output_type": "execute_result"
    }
   ],
   "source": [
    "df['seven'] = df['one'] + 10\n",
    "df"
   ]
  },
  {
   "cell_type": "markdown",
   "id": "1debf7e9-8a38-485b-90f2-ee427dc63143",
   "metadata": {},
   "source": [
    "Column Deletion in Dataframes"
   ]
  },
  {
   "cell_type": "code",
   "execution_count": 69,
   "id": "190e4bfb-60ed-432c-bcbd-7d161c534b20",
   "metadata": {},
   "outputs": [
    {
     "data": {
      "text/html": [
       "<div>\n",
       "<style scoped>\n",
       "    .dataframe tbody tr th:only-of-type {\n",
       "        vertical-align: middle;\n",
       "    }\n",
       "\n",
       "    .dataframe tbody tr th {\n",
       "        vertical-align: top;\n",
       "    }\n",
       "\n",
       "    .dataframe thead th {\n",
       "        text-align: right;\n",
       "    }\n",
       "</style>\n",
       "<table border=\"1\" class=\"dataframe\">\n",
       "  <thead>\n",
       "    <tr style=\"text-align: right;\">\n",
       "      <th></th>\n",
       "      <th>one</th>\n",
       "      <th>two</th>\n",
       "      <th>three</th>\n",
       "      <th>four</th>\n",
       "      <th>five</th>\n",
       "      <th>six</th>\n",
       "      <th>seven</th>\n",
       "    </tr>\n",
       "  </thead>\n",
       "  <tbody>\n",
       "    <tr>\n",
       "      <th>0</th>\n",
       "      <td>1</td>\n",
       "      <td>10</td>\n",
       "      <td>100</td>\n",
       "      <td>1000</td>\n",
       "      <td>22</td>\n",
       "      <td>111</td>\n",
       "      <td>11</td>\n",
       "    </tr>\n",
       "    <tr>\n",
       "      <th>1</th>\n",
       "      <td>2</td>\n",
       "      <td>20</td>\n",
       "      <td>200</td>\n",
       "      <td>2000</td>\n",
       "      <td>33</td>\n",
       "      <td>222</td>\n",
       "      <td>12</td>\n",
       "    </tr>\n",
       "    <tr>\n",
       "      <th>2</th>\n",
       "      <td>3</td>\n",
       "      <td>30</td>\n",
       "      <td>300</td>\n",
       "      <td>3000</td>\n",
       "      <td>44</td>\n",
       "      <td>333</td>\n",
       "      <td>13</td>\n",
       "    </tr>\n",
       "    <tr>\n",
       "      <th>3</th>\n",
       "      <td>4</td>\n",
       "      <td>40</td>\n",
       "      <td>400</td>\n",
       "      <td>4000</td>\n",
       "      <td>55</td>\n",
       "      <td>444</td>\n",
       "      <td>14</td>\n",
       "    </tr>\n",
       "  </tbody>\n",
       "</table>\n",
       "</div>"
      ],
      "text/plain": [
       "   one  two  three  four  five  six  seven\n",
       "0    1   10    100  1000    22  111     11\n",
       "1    2   20    200  2000    33  222     12\n",
       "2    3   30    300  3000    44  333     13\n",
       "3    4   40    400  4000    55  444     14"
      ]
     },
     "execution_count": 69,
     "metadata": {},
     "output_type": "execute_result"
    }
   ],
   "source": [
    "df"
   ]
  },
  {
   "cell_type": "code",
   "execution_count": 74,
   "id": "b73270af-2ea8-49ea-82d1-832fc9129fa7",
   "metadata": {},
   "outputs": [
    {
     "data": {
      "text/html": [
       "<div>\n",
       "<style scoped>\n",
       "    .dataframe tbody tr th:only-of-type {\n",
       "        vertical-align: middle;\n",
       "    }\n",
       "\n",
       "    .dataframe tbody tr th {\n",
       "        vertical-align: top;\n",
       "    }\n",
       "\n",
       "    .dataframe thead th {\n",
       "        text-align: right;\n",
       "    }\n",
       "</style>\n",
       "<table border=\"1\" class=\"dataframe\">\n",
       "  <thead>\n",
       "    <tr style=\"text-align: right;\">\n",
       "      <th></th>\n",
       "      <th>one</th>\n",
       "      <th>two</th>\n",
       "      <th>three</th>\n",
       "      <th>four</th>\n",
       "    </tr>\n",
       "  </thead>\n",
       "  <tbody>\n",
       "    <tr>\n",
       "      <th>0</th>\n",
       "      <td>1</td>\n",
       "      <td>10</td>\n",
       "      <td>100</td>\n",
       "      <td>1000</td>\n",
       "    </tr>\n",
       "    <tr>\n",
       "      <th>1</th>\n",
       "      <td>2</td>\n",
       "      <td>20</td>\n",
       "      <td>200</td>\n",
       "      <td>2000</td>\n",
       "    </tr>\n",
       "    <tr>\n",
       "      <th>2</th>\n",
       "      <td>3</td>\n",
       "      <td>30</td>\n",
       "      <td>300</td>\n",
       "      <td>3000</td>\n",
       "    </tr>\n",
       "    <tr>\n",
       "      <th>3</th>\n",
       "      <td>4</td>\n",
       "      <td>40</td>\n",
       "      <td>400</td>\n",
       "      <td>4000</td>\n",
       "    </tr>\n",
       "  </tbody>\n",
       "</table>\n",
       "</div>"
      ],
      "text/plain": [
       "   one  two  three  four\n",
       "0    1   10    100  1000\n",
       "1    2   20    200  2000\n",
       "2    3   30    300  3000\n",
       "3    4   40    400  4000"
      ]
     },
     "execution_count": 74,
     "metadata": {},
     "output_type": "execute_result"
    }
   ],
   "source": [
    "del df['seven']\n",
    "df"
   ]
  },
  {
   "cell_type": "code",
   "execution_count": 76,
   "id": "cf3c39c9-e259-4605-912a-0dfb509feb0d",
   "metadata": {},
   "outputs": [
    {
     "data": {
      "text/html": [
       "<div>\n",
       "<style scoped>\n",
       "    .dataframe tbody tr th:only-of-type {\n",
       "        vertical-align: middle;\n",
       "    }\n",
       "\n",
       "    .dataframe tbody tr th {\n",
       "        vertical-align: top;\n",
       "    }\n",
       "\n",
       "    .dataframe thead th {\n",
       "        text-align: right;\n",
       "    }\n",
       "</style>\n",
       "<table border=\"1\" class=\"dataframe\">\n",
       "  <thead>\n",
       "    <tr style=\"text-align: right;\">\n",
       "      <th></th>\n",
       "      <th>two</th>\n",
       "      <th>three</th>\n",
       "      <th>four</th>\n",
       "    </tr>\n",
       "  </thead>\n",
       "  <tbody>\n",
       "    <tr>\n",
       "      <th>0</th>\n",
       "      <td>10</td>\n",
       "      <td>100</td>\n",
       "      <td>1000</td>\n",
       "    </tr>\n",
       "    <tr>\n",
       "      <th>1</th>\n",
       "      <td>20</td>\n",
       "      <td>200</td>\n",
       "      <td>2000</td>\n",
       "    </tr>\n",
       "    <tr>\n",
       "      <th>2</th>\n",
       "      <td>30</td>\n",
       "      <td>300</td>\n",
       "      <td>3000</td>\n",
       "    </tr>\n",
       "    <tr>\n",
       "      <th>3</th>\n",
       "      <td>40</td>\n",
       "      <td>400</td>\n",
       "      <td>4000</td>\n",
       "    </tr>\n",
       "  </tbody>\n",
       "</table>\n",
       "</div>"
      ],
      "text/plain": [
       "   two  three  four\n",
       "0   10    100  1000\n",
       "1   20    200  2000\n",
       "2   30    300  3000\n",
       "3   40    400  4000"
      ]
     },
     "execution_count": 76,
     "metadata": {},
     "output_type": "execute_result"
    }
   ],
   "source": [
    "df.pop('one')\n",
    "df"
   ]
  },
  {
   "cell_type": "markdown",
   "id": "127f84bb-96ad-49e5-a468-d7552df03ed4",
   "metadata": {},
   "source": [
    "drop function"
   ]
  },
  {
   "cell_type": "code",
   "execution_count": 77,
   "id": "6d1697a2-7cc5-4d3d-9c5e-3bd1ad7e9154",
   "metadata": {},
   "outputs": [
    {
     "data": {
      "text/html": [
       "<div>\n",
       "<style scoped>\n",
       "    .dataframe tbody tr th:only-of-type {\n",
       "        vertical-align: middle;\n",
       "    }\n",
       "\n",
       "    .dataframe tbody tr th {\n",
       "        vertical-align: top;\n",
       "    }\n",
       "\n",
       "    .dataframe thead th {\n",
       "        text-align: right;\n",
       "    }\n",
       "</style>\n",
       "<table border=\"1\" class=\"dataframe\">\n",
       "  <thead>\n",
       "    <tr style=\"text-align: right;\">\n",
       "      <th></th>\n",
       "      <th>one</th>\n",
       "      <th>two</th>\n",
       "      <th>three</th>\n",
       "      <th>four</th>\n",
       "    </tr>\n",
       "  </thead>\n",
       "  <tbody>\n",
       "    <tr>\n",
       "      <th>0</th>\n",
       "      <td>1</td>\n",
       "      <td>10</td>\n",
       "      <td>100</td>\n",
       "      <td>1000</td>\n",
       "    </tr>\n",
       "    <tr>\n",
       "      <th>1</th>\n",
       "      <td>2</td>\n",
       "      <td>20</td>\n",
       "      <td>200</td>\n",
       "      <td>2000</td>\n",
       "    </tr>\n",
       "    <tr>\n",
       "      <th>2</th>\n",
       "      <td>3</td>\n",
       "      <td>30</td>\n",
       "      <td>300</td>\n",
       "      <td>3000</td>\n",
       "    </tr>\n",
       "    <tr>\n",
       "      <th>3</th>\n",
       "      <td>4</td>\n",
       "      <td>40</td>\n",
       "      <td>400</td>\n",
       "      <td>4000</td>\n",
       "    </tr>\n",
       "  </tbody>\n",
       "</table>\n",
       "</div>"
      ],
      "text/plain": [
       "   one  two  three  four\n",
       "0    1   10    100  1000\n",
       "1    2   20    200  2000\n",
       "2    3   30    300  3000\n",
       "3    4   40    400  4000"
      ]
     },
     "execution_count": 77,
     "metadata": {},
     "output_type": "execute_result"
    }
   ],
   "source": [
    "data = { 'one'   : pd.Series([1, 2, 3, 4]),\n",
    "         'two'   : pd.Series([10, 20, 30, 40]),\n",
    "         'three' : pd.Series([100, 200, 300, 400]),\n",
    "         'four'  : pd.Series([1000, 2000, 3000, 4000])}\n",
    "df = pd.DataFrame(data)\n",
    "df"
   ]
  },
  {
   "cell_type": "code",
   "execution_count": 78,
   "id": "17314460-afc7-4089-818c-afc24ce14017",
   "metadata": {},
   "outputs": [
    {
     "data": {
      "text/html": [
       "<div>\n",
       "<style scoped>\n",
       "    .dataframe tbody tr th:only-of-type {\n",
       "        vertical-align: middle;\n",
       "    }\n",
       "\n",
       "    .dataframe tbody tr th {\n",
       "        vertical-align: top;\n",
       "    }\n",
       "\n",
       "    .dataframe thead th {\n",
       "        text-align: right;\n",
       "    }\n",
       "</style>\n",
       "<table border=\"1\" class=\"dataframe\">\n",
       "  <thead>\n",
       "    <tr style=\"text-align: right;\">\n",
       "      <th></th>\n",
       "      <th>one</th>\n",
       "      <th>two</th>\n",
       "      <th>three</th>\n",
       "      <th>four</th>\n",
       "    </tr>\n",
       "  </thead>\n",
       "  <tbody>\n",
       "    <tr>\n",
       "      <th>2</th>\n",
       "      <td>3</td>\n",
       "      <td>30</td>\n",
       "      <td>300</td>\n",
       "      <td>3000</td>\n",
       "    </tr>\n",
       "    <tr>\n",
       "      <th>3</th>\n",
       "      <td>4</td>\n",
       "      <td>40</td>\n",
       "      <td>400</td>\n",
       "      <td>4000</td>\n",
       "    </tr>\n",
       "  </tbody>\n",
       "</table>\n",
       "</div>"
      ],
      "text/plain": [
       "   one  two  three  four\n",
       "2    3   30    300  3000\n",
       "3    4   40    400  4000"
      ]
     },
     "execution_count": 78,
     "metadata": {},
     "output_type": "execute_result"
    }
   ],
   "source": [
    "df.drop([0,1], axis = 0, inplace = True)\n",
    "df"
   ]
  },
  {
   "cell_type": "code",
   "execution_count": 79,
   "id": "a5751bed-621e-4b94-a380-c1d10b77681f",
   "metadata": {},
   "outputs": [
    {
     "data": {
      "text/html": [
       "<div>\n",
       "<style scoped>\n",
       "    .dataframe tbody tr th:only-of-type {\n",
       "        vertical-align: middle;\n",
       "    }\n",
       "\n",
       "    .dataframe tbody tr th {\n",
       "        vertical-align: top;\n",
       "    }\n",
       "\n",
       "    .dataframe thead th {\n",
       "        text-align: right;\n",
       "    }\n",
       "</style>\n",
       "<table border=\"1\" class=\"dataframe\">\n",
       "  <thead>\n",
       "    <tr style=\"text-align: right;\">\n",
       "      <th></th>\n",
       "      <th>two</th>\n",
       "      <th>four</th>\n",
       "    </tr>\n",
       "  </thead>\n",
       "  <tbody>\n",
       "    <tr>\n",
       "      <th>2</th>\n",
       "      <td>30</td>\n",
       "      <td>3000</td>\n",
       "    </tr>\n",
       "    <tr>\n",
       "      <th>3</th>\n",
       "      <td>40</td>\n",
       "      <td>4000</td>\n",
       "    </tr>\n",
       "  </tbody>\n",
       "</table>\n",
       "</div>"
      ],
      "text/plain": [
       "   two  four\n",
       "2   30  3000\n",
       "3   40  4000"
      ]
     },
     "execution_count": 79,
     "metadata": {},
     "output_type": "execute_result"
    }
   ],
   "source": [
    "df.drop(['one','three'], axis = 1, inplace = True)\n",
    "df"
   ]
  },
  {
   "cell_type": "markdown",
   "id": "9a70433b-0b2e-461a-8684-97c78d8a3cfc",
   "metadata": {},
   "source": [
    "Transposing a DataFrame"
   ]
  },
  {
   "cell_type": "code",
   "execution_count": 80,
   "id": "d7b5dc36-e1e9-4b6e-b7c0-5064f3f626dc",
   "metadata": {},
   "outputs": [
    {
     "data": {
      "text/html": [
       "<div>\n",
       "<style scoped>\n",
       "    .dataframe tbody tr th:only-of-type {\n",
       "        vertical-align: middle;\n",
       "    }\n",
       "\n",
       "    .dataframe tbody tr th {\n",
       "        vertical-align: top;\n",
       "    }\n",
       "\n",
       "    .dataframe thead th {\n",
       "        text-align: right;\n",
       "    }\n",
       "</style>\n",
       "<table border=\"1\" class=\"dataframe\">\n",
       "  <thead>\n",
       "    <tr style=\"text-align: right;\">\n",
       "      <th></th>\n",
       "      <th>one</th>\n",
       "      <th>two</th>\n",
       "      <th>three</th>\n",
       "      <th>four</th>\n",
       "    </tr>\n",
       "  </thead>\n",
       "  <tbody>\n",
       "    <tr>\n",
       "      <th>0</th>\n",
       "      <td>1</td>\n",
       "      <td>10</td>\n",
       "      <td>100</td>\n",
       "      <td>1000</td>\n",
       "    </tr>\n",
       "    <tr>\n",
       "      <th>1</th>\n",
       "      <td>2</td>\n",
       "      <td>20</td>\n",
       "      <td>200</td>\n",
       "      <td>2000</td>\n",
       "    </tr>\n",
       "    <tr>\n",
       "      <th>2</th>\n",
       "      <td>3</td>\n",
       "      <td>30</td>\n",
       "      <td>300</td>\n",
       "      <td>3000</td>\n",
       "    </tr>\n",
       "    <tr>\n",
       "      <th>3</th>\n",
       "      <td>4</td>\n",
       "      <td>40</td>\n",
       "      <td>400</td>\n",
       "      <td>4000</td>\n",
       "    </tr>\n",
       "  </tbody>\n",
       "</table>\n",
       "</div>"
      ],
      "text/plain": [
       "   one  two  three  four\n",
       "0    1   10    100  1000\n",
       "1    2   20    200  2000\n",
       "2    3   30    300  3000\n",
       "3    4   40    400  4000"
      ]
     },
     "execution_count": 80,
     "metadata": {},
     "output_type": "execute_result"
    }
   ],
   "source": [
    "data = { 'one'   : pd.Series([1, 2, 3, 4]),\n",
    "         'two'   : pd.Series([10, 20, 30, 40]),\n",
    "         'three' : pd.Series([100, 200, 300, 400]),\n",
    "         'four'  : pd.Series([1000, 2000, 3000, 4000])}\n",
    "df = pd.DataFrame(data)\n",
    "df"
   ]
  },
  {
   "cell_type": "code",
   "execution_count": 81,
   "id": "a192f401-ad8d-4d11-8ef5-c9112bda80fa",
   "metadata": {},
   "outputs": [
    {
     "data": {
      "text/html": [
       "<div>\n",
       "<style scoped>\n",
       "    .dataframe tbody tr th:only-of-type {\n",
       "        vertical-align: middle;\n",
       "    }\n",
       "\n",
       "    .dataframe tbody tr th {\n",
       "        vertical-align: top;\n",
       "    }\n",
       "\n",
       "    .dataframe thead th {\n",
       "        text-align: right;\n",
       "    }\n",
       "</style>\n",
       "<table border=\"1\" class=\"dataframe\">\n",
       "  <thead>\n",
       "    <tr style=\"text-align: right;\">\n",
       "      <th></th>\n",
       "      <th>0</th>\n",
       "      <th>1</th>\n",
       "      <th>2</th>\n",
       "      <th>3</th>\n",
       "    </tr>\n",
       "  </thead>\n",
       "  <tbody>\n",
       "    <tr>\n",
       "      <th>one</th>\n",
       "      <td>1</td>\n",
       "      <td>2</td>\n",
       "      <td>3</td>\n",
       "      <td>4</td>\n",
       "    </tr>\n",
       "    <tr>\n",
       "      <th>two</th>\n",
       "      <td>10</td>\n",
       "      <td>20</td>\n",
       "      <td>30</td>\n",
       "      <td>40</td>\n",
       "    </tr>\n",
       "    <tr>\n",
       "      <th>three</th>\n",
       "      <td>100</td>\n",
       "      <td>200</td>\n",
       "      <td>300</td>\n",
       "      <td>400</td>\n",
       "    </tr>\n",
       "    <tr>\n",
       "      <th>four</th>\n",
       "      <td>1000</td>\n",
       "      <td>2000</td>\n",
       "      <td>3000</td>\n",
       "      <td>4000</td>\n",
       "    </tr>\n",
       "  </tbody>\n",
       "</table>\n",
       "</div>"
      ],
      "text/plain": [
       "          0     1     2     3\n",
       "one       1     2     3     4\n",
       "two      10    20    30    40\n",
       "three   100   200   300   400\n",
       "four   1000  2000  3000  4000"
      ]
     },
     "execution_count": 81,
     "metadata": {},
     "output_type": "execute_result"
    }
   ],
   "source": [
    "df.T"
   ]
  },
  {
   "cell_type": "markdown",
   "id": "d87e8493-4a74-4c84-b9ea-b2393bcea2cb",
   "metadata": {},
   "source": [
    "DataFrame Functionalities"
   ]
  },
  {
   "cell_type": "code",
   "execution_count": 82,
   "id": "da244ba0-c186-4d0f-95df-b4f33c97f39a",
   "metadata": {},
   "outputs": [
    {
     "data": {
      "text/html": [
       "<div>\n",
       "<style scoped>\n",
       "    .dataframe tbody tr th:only-of-type {\n",
       "        vertical-align: middle;\n",
       "    }\n",
       "\n",
       "    .dataframe tbody tr th {\n",
       "        vertical-align: top;\n",
       "    }\n",
       "\n",
       "    .dataframe thead th {\n",
       "        text-align: right;\n",
       "    }\n",
       "</style>\n",
       "<table border=\"1\" class=\"dataframe\">\n",
       "  <thead>\n",
       "    <tr style=\"text-align: right;\">\n",
       "      <th></th>\n",
       "      <th>one</th>\n",
       "      <th>two</th>\n",
       "      <th>three</th>\n",
       "      <th>four</th>\n",
       "    </tr>\n",
       "  </thead>\n",
       "  <tbody>\n",
       "    <tr>\n",
       "      <th>0</th>\n",
       "      <td>1</td>\n",
       "      <td>10</td>\n",
       "      <td>100</td>\n",
       "      <td>1000</td>\n",
       "    </tr>\n",
       "    <tr>\n",
       "      <th>1</th>\n",
       "      <td>2</td>\n",
       "      <td>20</td>\n",
       "      <td>200</td>\n",
       "      <td>2000</td>\n",
       "    </tr>\n",
       "    <tr>\n",
       "      <th>2</th>\n",
       "      <td>3</td>\n",
       "      <td>30</td>\n",
       "      <td>300</td>\n",
       "      <td>3000</td>\n",
       "    </tr>\n",
       "    <tr>\n",
       "      <th>3</th>\n",
       "      <td>4</td>\n",
       "      <td>40</td>\n",
       "      <td>400</td>\n",
       "      <td>4000</td>\n",
       "    </tr>\n",
       "  </tbody>\n",
       "</table>\n",
       "</div>"
      ],
      "text/plain": [
       "   one  two  three  four\n",
       "0    1   10    100  1000\n",
       "1    2   20    200  2000\n",
       "2    3   30    300  3000\n",
       "3    4   40    400  4000"
      ]
     },
     "execution_count": 82,
     "metadata": {},
     "output_type": "execute_result"
    }
   ],
   "source": [
    "df"
   ]
  },
  {
   "cell_type": "code",
   "execution_count": 83,
   "id": "588c057b-492d-4efb-ae62-17077c5ccc34",
   "metadata": {},
   "outputs": [
    {
     "data": {
      "text/plain": [
       "[RangeIndex(start=0, stop=4, step=1),\n",
       " Index(['one', 'two', 'three', 'four'], dtype='object')]"
      ]
     },
     "execution_count": 83,
     "metadata": {},
     "output_type": "execute_result"
    }
   ],
   "source": [
    "df.axes"
   ]
  },
  {
   "cell_type": "code",
   "execution_count": 84,
   "id": "45774a4e-57a3-46b1-a8e0-1031d23e3426",
   "metadata": {},
   "outputs": [
    {
     "data": {
      "text/plain": [
       "2"
      ]
     },
     "execution_count": 84,
     "metadata": {},
     "output_type": "execute_result"
    }
   ],
   "source": [
    "df.ndim"
   ]
  },
  {
   "cell_type": "code",
   "execution_count": 85,
   "id": "57b0f87b-fb75-4944-a7e4-493d9e09d370",
   "metadata": {},
   "outputs": [
    {
     "data": {
      "text/plain": [
       "one      int64\n",
       "two      int64\n",
       "three    int64\n",
       "four     int64\n",
       "dtype: object"
      ]
     },
     "execution_count": 85,
     "metadata": {},
     "output_type": "execute_result"
    }
   ],
   "source": [
    "df.dtypes"
   ]
  },
  {
   "cell_type": "code",
   "execution_count": 86,
   "id": "db1ab2b5-b20c-47c3-8997-6c6bccdb48c8",
   "metadata": {},
   "outputs": [
    {
     "data": {
      "text/plain": [
       "(4, 4)"
      ]
     },
     "execution_count": 86,
     "metadata": {},
     "output_type": "execute_result"
    }
   ],
   "source": [
    "df.shape"
   ]
  },
  {
   "cell_type": "code",
   "execution_count": 87,
   "id": "aea907e7-f06b-46c0-b565-6ff92594886b",
   "metadata": {},
   "outputs": [
    {
     "data": {
      "text/html": [
       "<div>\n",
       "<style scoped>\n",
       "    .dataframe tbody tr th:only-of-type {\n",
       "        vertical-align: middle;\n",
       "    }\n",
       "\n",
       "    .dataframe tbody tr th {\n",
       "        vertical-align: top;\n",
       "    }\n",
       "\n",
       "    .dataframe thead th {\n",
       "        text-align: right;\n",
       "    }\n",
       "</style>\n",
       "<table border=\"1\" class=\"dataframe\">\n",
       "  <thead>\n",
       "    <tr style=\"text-align: right;\">\n",
       "      <th></th>\n",
       "      <th>one</th>\n",
       "      <th>two</th>\n",
       "      <th>three</th>\n",
       "      <th>four</th>\n",
       "    </tr>\n",
       "  </thead>\n",
       "  <tbody>\n",
       "    <tr>\n",
       "      <th>0</th>\n",
       "      <td>1</td>\n",
       "      <td>10</td>\n",
       "      <td>100</td>\n",
       "      <td>1000</td>\n",
       "    </tr>\n",
       "    <tr>\n",
       "      <th>1</th>\n",
       "      <td>2</td>\n",
       "      <td>20</td>\n",
       "      <td>200</td>\n",
       "      <td>2000</td>\n",
       "    </tr>\n",
       "    <tr>\n",
       "      <th>2</th>\n",
       "      <td>3</td>\n",
       "      <td>30</td>\n",
       "      <td>300</td>\n",
       "      <td>3000</td>\n",
       "    </tr>\n",
       "    <tr>\n",
       "      <th>3</th>\n",
       "      <td>4</td>\n",
       "      <td>40</td>\n",
       "      <td>400</td>\n",
       "      <td>4000</td>\n",
       "    </tr>\n",
       "  </tbody>\n",
       "</table>\n",
       "</div>"
      ],
      "text/plain": [
       "   one  two  three  four\n",
       "0    1   10    100  1000\n",
       "1    2   20    200  2000\n",
       "2    3   30    300  3000\n",
       "3    4   40    400  4000"
      ]
     },
     "execution_count": 87,
     "metadata": {},
     "output_type": "execute_result"
    }
   ],
   "source": [
    "df.head()"
   ]
  },
  {
   "cell_type": "code",
   "execution_count": 88,
   "id": "3ac5f7a9-b677-4ef0-8779-42cc982de1b3",
   "metadata": {},
   "outputs": [
    {
     "data": {
      "text/html": [
       "<div>\n",
       "<style scoped>\n",
       "    .dataframe tbody tr th:only-of-type {\n",
       "        vertical-align: middle;\n",
       "    }\n",
       "\n",
       "    .dataframe tbody tr th {\n",
       "        vertical-align: top;\n",
       "    }\n",
       "\n",
       "    .dataframe thead th {\n",
       "        text-align: right;\n",
       "    }\n",
       "</style>\n",
       "<table border=\"1\" class=\"dataframe\">\n",
       "  <thead>\n",
       "    <tr style=\"text-align: right;\">\n",
       "      <th></th>\n",
       "      <th>Name</th>\n",
       "      <th>Age</th>\n",
       "      <th>Height</th>\n",
       "    </tr>\n",
       "  </thead>\n",
       "  <tbody>\n",
       "    <tr>\n",
       "      <th>0</th>\n",
       "      <td>Tom</td>\n",
       "      <td>10</td>\n",
       "      <td>3.25</td>\n",
       "    </tr>\n",
       "    <tr>\n",
       "      <th>1</th>\n",
       "      <td>Jerry</td>\n",
       "      <td>12</td>\n",
       "      <td>1.11</td>\n",
       "    </tr>\n",
       "    <tr>\n",
       "      <th>2</th>\n",
       "      <td>Spike</td>\n",
       "      <td>14</td>\n",
       "      <td>4.12</td>\n",
       "    </tr>\n",
       "    <tr>\n",
       "      <th>3</th>\n",
       "      <td>Popeye</td>\n",
       "      <td>30</td>\n",
       "      <td>5.47</td>\n",
       "    </tr>\n",
       "    <tr>\n",
       "      <th>4</th>\n",
       "      <td>Olive</td>\n",
       "      <td>28</td>\n",
       "      <td>6.15</td>\n",
       "    </tr>\n",
       "    <tr>\n",
       "      <th>5</th>\n",
       "      <td>Bluto</td>\n",
       "      <td>33</td>\n",
       "      <td>6.67</td>\n",
       "    </tr>\n",
       "    <tr>\n",
       "      <th>6</th>\n",
       "      <td>Mickey</td>\n",
       "      <td>15</td>\n",
       "      <td>2.61</td>\n",
       "    </tr>\n",
       "  </tbody>\n",
       "</table>\n",
       "</div>"
      ],
      "text/plain": [
       "     Name  Age  Height\n",
       "0     Tom   10    3.25\n",
       "1   Jerry   12    1.11\n",
       "2   Spike   14    4.12\n",
       "3  Popeye   30    5.47\n",
       "4   Olive   28    6.15\n",
       "5   Bluto   33    6.67\n",
       "6  Mickey   15    2.61"
      ]
     },
     "execution_count": 88,
     "metadata": {},
     "output_type": "execute_result"
    }
   ],
   "source": [
    "d = { 'Name'  :pd.Series(['Tom','Jerry','Spike','Popeye','Olive','Bluto','Mickey']),\n",
    "      'Age'   :pd.Series([10,12,14,30,28,33,15]),\n",
    "      'Height':pd.Series([3.25,1.11,4.12,5.47,6.15,6.67,2.61])}\n",
    "df = pd.DataFrame(d)\n",
    "df"
   ]
  },
  {
   "cell_type": "code",
   "execution_count": 89,
   "id": "7d1ce6ab-6db9-4a3c-8128-036e40adc958",
   "metadata": {},
   "outputs": [
    {
     "data": {
      "text/html": [
       "<div>\n",
       "<style scoped>\n",
       "    .dataframe tbody tr th:only-of-type {\n",
       "        vertical-align: middle;\n",
       "    }\n",
       "\n",
       "    .dataframe tbody tr th {\n",
       "        vertical-align: top;\n",
       "    }\n",
       "\n",
       "    .dataframe thead th {\n",
       "        text-align: right;\n",
       "    }\n",
       "</style>\n",
       "<table border=\"1\" class=\"dataframe\">\n",
       "  <thead>\n",
       "    <tr style=\"text-align: right;\">\n",
       "      <th></th>\n",
       "      <th>Name</th>\n",
       "      <th>Age</th>\n",
       "      <th>Height</th>\n",
       "    </tr>\n",
       "  </thead>\n",
       "  <tbody>\n",
       "    <tr>\n",
       "      <th>0</th>\n",
       "      <td>Tom</td>\n",
       "      <td>10</td>\n",
       "      <td>3.25</td>\n",
       "    </tr>\n",
       "    <tr>\n",
       "      <th>1</th>\n",
       "      <td>Jerry</td>\n",
       "      <td>12</td>\n",
       "      <td>1.11</td>\n",
       "    </tr>\n",
       "    <tr>\n",
       "      <th>2</th>\n",
       "      <td>Spike</td>\n",
       "      <td>14</td>\n",
       "      <td>4.12</td>\n",
       "    </tr>\n",
       "  </tbody>\n",
       "</table>\n",
       "</div>"
      ],
      "text/plain": [
       "    Name  Age  Height\n",
       "0    Tom   10    3.25\n",
       "1  Jerry   12    1.11\n",
       "2  Spike   14    4.12"
      ]
     },
     "execution_count": 89,
     "metadata": {},
     "output_type": "execute_result"
    }
   ],
   "source": [
    "df.head(3)"
   ]
  },
  {
   "cell_type": "code",
   "execution_count": 90,
   "id": "42a5fd53-7ca4-46f5-bc83-c8a35183f246",
   "metadata": {},
   "outputs": [
    {
     "data": {
      "text/html": [
       "<div>\n",
       "<style scoped>\n",
       "    .dataframe tbody tr th:only-of-type {\n",
       "        vertical-align: middle;\n",
       "    }\n",
       "\n",
       "    .dataframe tbody tr th {\n",
       "        vertical-align: top;\n",
       "    }\n",
       "\n",
       "    .dataframe thead th {\n",
       "        text-align: right;\n",
       "    }\n",
       "</style>\n",
       "<table border=\"1\" class=\"dataframe\">\n",
       "  <thead>\n",
       "    <tr style=\"text-align: right;\">\n",
       "      <th></th>\n",
       "      <th>Name</th>\n",
       "      <th>Age</th>\n",
       "      <th>Height</th>\n",
       "    </tr>\n",
       "  </thead>\n",
       "  <tbody>\n",
       "    <tr>\n",
       "      <th>2</th>\n",
       "      <td>Spike</td>\n",
       "      <td>14</td>\n",
       "      <td>4.12</td>\n",
       "    </tr>\n",
       "    <tr>\n",
       "      <th>3</th>\n",
       "      <td>Popeye</td>\n",
       "      <td>30</td>\n",
       "      <td>5.47</td>\n",
       "    </tr>\n",
       "    <tr>\n",
       "      <th>4</th>\n",
       "      <td>Olive</td>\n",
       "      <td>28</td>\n",
       "      <td>6.15</td>\n",
       "    </tr>\n",
       "    <tr>\n",
       "      <th>5</th>\n",
       "      <td>Bluto</td>\n",
       "      <td>33</td>\n",
       "      <td>6.67</td>\n",
       "    </tr>\n",
       "    <tr>\n",
       "      <th>6</th>\n",
       "      <td>Mickey</td>\n",
       "      <td>15</td>\n",
       "      <td>2.61</td>\n",
       "    </tr>\n",
       "  </tbody>\n",
       "</table>\n",
       "</div>"
      ],
      "text/plain": [
       "     Name  Age  Height\n",
       "2   Spike   14    4.12\n",
       "3  Popeye   30    5.47\n",
       "4   Olive   28    6.15\n",
       "5   Bluto   33    6.67\n",
       "6  Mickey   15    2.61"
      ]
     },
     "execution_count": 90,
     "metadata": {},
     "output_type": "execute_result"
    }
   ],
   "source": [
    "df.tail()"
   ]
  },
  {
   "cell_type": "code",
   "execution_count": 91,
   "id": "b2afdb4b-b605-4bea-8bac-a0a2374a1b74",
   "metadata": {},
   "outputs": [
    {
     "data": {
      "text/plain": [
       "False"
      ]
     },
     "execution_count": 91,
     "metadata": {},
     "output_type": "execute_result"
    }
   ],
   "source": [
    "df.empty"
   ]
  },
  {
   "cell_type": "markdown",
   "id": "0993b6c3-f849-46f3-9979-7912bc42272d",
   "metadata": {},
   "source": [
    "Statistical or Mathematical Functions"
   ]
  },
  {
   "cell_type": "code",
   "execution_count": 92,
   "id": "0143a062-2e3f-44a5-b87c-18df3ea90344",
   "metadata": {},
   "outputs": [
    {
     "data": {
      "text/html": [
       "<div>\n",
       "<style scoped>\n",
       "    .dataframe tbody tr th:only-of-type {\n",
       "        vertical-align: middle;\n",
       "    }\n",
       "\n",
       "    .dataframe tbody tr th {\n",
       "        vertical-align: top;\n",
       "    }\n",
       "\n",
       "    .dataframe thead th {\n",
       "        text-align: right;\n",
       "    }\n",
       "</style>\n",
       "<table border=\"1\" class=\"dataframe\">\n",
       "  <thead>\n",
       "    <tr style=\"text-align: right;\">\n",
       "      <th></th>\n",
       "      <th>one</th>\n",
       "      <th>two</th>\n",
       "      <th>three</th>\n",
       "      <th>four</th>\n",
       "    </tr>\n",
       "  </thead>\n",
       "  <tbody>\n",
       "    <tr>\n",
       "      <th>0</th>\n",
       "      <td>1</td>\n",
       "      <td>10</td>\n",
       "      <td>100</td>\n",
       "      <td>1000</td>\n",
       "    </tr>\n",
       "    <tr>\n",
       "      <th>1</th>\n",
       "      <td>2</td>\n",
       "      <td>20</td>\n",
       "      <td>200</td>\n",
       "      <td>2000</td>\n",
       "    </tr>\n",
       "    <tr>\n",
       "      <th>2</th>\n",
       "      <td>3</td>\n",
       "      <td>30</td>\n",
       "      <td>300</td>\n",
       "      <td>3000</td>\n",
       "    </tr>\n",
       "    <tr>\n",
       "      <th>3</th>\n",
       "      <td>4</td>\n",
       "      <td>40</td>\n",
       "      <td>400</td>\n",
       "      <td>4000</td>\n",
       "    </tr>\n",
       "  </tbody>\n",
       "</table>\n",
       "</div>"
      ],
      "text/plain": [
       "   one  two  three  four\n",
       "0    1   10    100  1000\n",
       "1    2   20    200  2000\n",
       "2    3   30    300  3000\n",
       "3    4   40    400  4000"
      ]
     },
     "execution_count": 92,
     "metadata": {},
     "output_type": "execute_result"
    }
   ],
   "source": [
    "data = {'one'   : pd.Series([1, 2, 3, 4]),\n",
    "        'two'   : pd.Series([10, 20, 30, 40]),\n",
    "        'three' : pd.Series([100, 200, 300, 400]),\n",
    "        'four'  : pd.Series([1000, 2000, 3000, 4000])}\n",
    "df = pd.DataFrame(data)\n",
    "df"
   ]
  },
  {
   "cell_type": "code",
   "execution_count": 93,
   "id": "45147ebe-a3ab-479b-9afc-e0a7348b67d1",
   "metadata": {},
   "outputs": [
    {
     "data": {
      "text/plain": [
       "one         10\n",
       "two        100\n",
       "three     1000\n",
       "four     10000\n",
       "dtype: int64"
      ]
     },
     "execution_count": 93,
     "metadata": {},
     "output_type": "execute_result"
    }
   ],
   "source": [
    "df.sum()"
   ]
  },
  {
   "cell_type": "code",
   "execution_count": 94,
   "id": "a8cc11b6-ec0c-4720-a588-69a0b59603a1",
   "metadata": {},
   "outputs": [
    {
     "data": {
      "text/plain": [
       "one         2.5\n",
       "two        25.0\n",
       "three     250.0\n",
       "four     2500.0\n",
       "dtype: float64"
      ]
     },
     "execution_count": 94,
     "metadata": {},
     "output_type": "execute_result"
    }
   ],
   "source": [
    "df.mean()"
   ]
  },
  {
   "cell_type": "code",
   "execution_count": 95,
   "id": "74bc323f-39f9-436a-9bde-5b2510038ce9",
   "metadata": {},
   "outputs": [
    {
     "data": {
      "text/plain": [
       "one         2.5\n",
       "two        25.0\n",
       "three     250.0\n",
       "four     2500.0\n",
       "dtype: float64"
      ]
     },
     "execution_count": 95,
     "metadata": {},
     "output_type": "execute_result"
    }
   ],
   "source": [
    "df.median()"
   ]
  },
  {
   "cell_type": "code",
   "execution_count": 96,
   "id": "f1396051-0159-4c9d-a416-cd55f4a4f465",
   "metadata": {},
   "outputs": [
    {
     "name": "stdout",
     "output_type": "stream",
     "text": [
      "A 0    4\n",
      "Name: A, dtype: int64\n",
      "B 0    20\n",
      "1    40\n",
      "Name: B, dtype: int64\n"
     ]
    }
   ],
   "source": [
    "de = pd.DataFrame({'A': [1, 2, 2, 3, 4, 4, 4, 5], 'B': [10, 20, 20, 30, 40, 40, 50, 60]})\n",
    "print('A' , de['A'].mode())\n",
    "print('B' , de['B'].mode())"
   ]
  },
  {
   "cell_type": "code",
   "execution_count": 97,
   "id": "e8be9818-8628-4c56-a887-5569aaf5ec19",
   "metadata": {},
   "outputs": [
    {
     "data": {
      "text/plain": [
       "one      1.666667e+00\n",
       "two      1.666667e+02\n",
       "three    1.666667e+04\n",
       "four     1.666667e+06\n",
       "dtype: float64"
      ]
     },
     "execution_count": 97,
     "metadata": {},
     "output_type": "execute_result"
    }
   ],
   "source": [
    "df.var()"
   ]
  },
  {
   "cell_type": "code",
   "execution_count": 99,
   "id": "7bceb1b4-8cdb-46e6-ae6d-91b8625adf63",
   "metadata": {},
   "outputs": [
    {
     "data": {
      "text/plain": [
       "one         1\n",
       "two        10\n",
       "three     100\n",
       "four     1000\n",
       "dtype: int64"
      ]
     },
     "execution_count": 99,
     "metadata": {},
     "output_type": "execute_result"
    }
   ],
   "source": [
    "df.min()"
   ]
  },
  {
   "cell_type": "code",
   "execution_count": 100,
   "id": "9a6b9c69-9d36-42f9-a419-c71fc465b71c",
   "metadata": {},
   "outputs": [
    {
     "data": {
      "text/plain": [
       "one         4\n",
       "two        40\n",
       "three     400\n",
       "four     4000\n",
       "dtype: int64"
      ]
     },
     "execution_count": 100,
     "metadata": {},
     "output_type": "execute_result"
    }
   ],
   "source": [
    "df.max()"
   ]
  },
  {
   "cell_type": "code",
   "execution_count": 101,
   "id": "af5b1504-d841-4f5b-8515-5d9b47055620",
   "metadata": {},
   "outputs": [
    {
     "data": {
      "text/plain": [
       "one         1.290994\n",
       "two        12.909944\n",
       "three     129.099445\n",
       "four     1290.994449\n",
       "dtype: float64"
      ]
     },
     "execution_count": 101,
     "metadata": {},
     "output_type": "execute_result"
    }
   ],
   "source": [
    "df.std()"
   ]
  },
  {
   "cell_type": "markdown",
   "id": "cf7f00db-fb08-470a-a3db-4d9ae0b124c3",
   "metadata": {},
   "source": [
    "Describe Function"
   ]
  },
  {
   "cell_type": "code",
   "execution_count": 102,
   "id": "9e9a71f8-aa1b-410d-85ef-1312bd5dd014",
   "metadata": {},
   "outputs": [
    {
     "data": {
      "text/html": [
       "<div>\n",
       "<style scoped>\n",
       "    .dataframe tbody tr th:only-of-type {\n",
       "        vertical-align: middle;\n",
       "    }\n",
       "\n",
       "    .dataframe tbody tr th {\n",
       "        vertical-align: top;\n",
       "    }\n",
       "\n",
       "    .dataframe thead th {\n",
       "        text-align: right;\n",
       "    }\n",
       "</style>\n",
       "<table border=\"1\" class=\"dataframe\">\n",
       "  <thead>\n",
       "    <tr style=\"text-align: right;\">\n",
       "      <th></th>\n",
       "      <th>one</th>\n",
       "      <th>two</th>\n",
       "      <th>three</th>\n",
       "      <th>four</th>\n",
       "    </tr>\n",
       "  </thead>\n",
       "  <tbody>\n",
       "    <tr>\n",
       "      <th>count</th>\n",
       "      <td>4.000000</td>\n",
       "      <td>4.000000</td>\n",
       "      <td>4.000000</td>\n",
       "      <td>4.000000</td>\n",
       "    </tr>\n",
       "    <tr>\n",
       "      <th>mean</th>\n",
       "      <td>2.500000</td>\n",
       "      <td>25.000000</td>\n",
       "      <td>250.000000</td>\n",
       "      <td>2500.000000</td>\n",
       "    </tr>\n",
       "    <tr>\n",
       "      <th>std</th>\n",
       "      <td>1.290994</td>\n",
       "      <td>12.909944</td>\n",
       "      <td>129.099445</td>\n",
       "      <td>1290.994449</td>\n",
       "    </tr>\n",
       "    <tr>\n",
       "      <th>min</th>\n",
       "      <td>1.000000</td>\n",
       "      <td>10.000000</td>\n",
       "      <td>100.000000</td>\n",
       "      <td>1000.000000</td>\n",
       "    </tr>\n",
       "    <tr>\n",
       "      <th>25%</th>\n",
       "      <td>1.750000</td>\n",
       "      <td>17.500000</td>\n",
       "      <td>175.000000</td>\n",
       "      <td>1750.000000</td>\n",
       "    </tr>\n",
       "    <tr>\n",
       "      <th>50%</th>\n",
       "      <td>2.500000</td>\n",
       "      <td>25.000000</td>\n",
       "      <td>250.000000</td>\n",
       "      <td>2500.000000</td>\n",
       "    </tr>\n",
       "    <tr>\n",
       "      <th>75%</th>\n",
       "      <td>3.250000</td>\n",
       "      <td>32.500000</td>\n",
       "      <td>325.000000</td>\n",
       "      <td>3250.000000</td>\n",
       "    </tr>\n",
       "    <tr>\n",
       "      <th>max</th>\n",
       "      <td>4.000000</td>\n",
       "      <td>40.000000</td>\n",
       "      <td>400.000000</td>\n",
       "      <td>4000.000000</td>\n",
       "    </tr>\n",
       "  </tbody>\n",
       "</table>\n",
       "</div>"
      ],
      "text/plain": [
       "            one        two       three         four\n",
       "count  4.000000   4.000000    4.000000     4.000000\n",
       "mean   2.500000  25.000000  250.000000  2500.000000\n",
       "std    1.290994  12.909944  129.099445  1290.994449\n",
       "min    1.000000  10.000000  100.000000  1000.000000\n",
       "25%    1.750000  17.500000  175.000000  1750.000000\n",
       "50%    2.500000  25.000000  250.000000  2500.000000\n",
       "75%    3.250000  32.500000  325.000000  3250.000000\n",
       "max    4.000000  40.000000  400.000000  4000.000000"
      ]
     },
     "execution_count": 102,
     "metadata": {},
     "output_type": "execute_result"
    }
   ],
   "source": [
    "data = {'one'  : pd.Series([1, 2, 3, 4]),\n",
    "        'two'  : pd.Series([10, 20, 30, 40]),\n",
    "        'three': pd.Series([100, 200, 300, 400]),\n",
    "        'four' : pd.Series([1000, 2000, 3000, 4000]),\n",
    "        'five' : pd.Series(['A','B','C','D'])}\n",
    "df = pd.DataFrame(data)\n",
    "df.describe()"
   ]
  },
  {
   "cell_type": "markdown",
   "id": "90b93172-c23f-428e-97b2-fb79d769aadc",
   "metadata": {},
   "source": [
    "Pipe Functions"
   ]
  },
  {
   "cell_type": "code",
   "execution_count": 103,
   "id": "f5ff5a48-e96a-47da-b018-e017973d71cb",
   "metadata": {},
   "outputs": [
    {
     "data": {
      "text/html": [
       "<div>\n",
       "<style scoped>\n",
       "    .dataframe tbody tr th:only-of-type {\n",
       "        vertical-align: middle;\n",
       "    }\n",
       "\n",
       "    .dataframe tbody tr th {\n",
       "        vertical-align: top;\n",
       "    }\n",
       "\n",
       "    .dataframe thead th {\n",
       "        text-align: right;\n",
       "    }\n",
       "</style>\n",
       "<table border=\"1\" class=\"dataframe\">\n",
       "  <thead>\n",
       "    <tr style=\"text-align: right;\">\n",
       "      <th></th>\n",
       "      <th>one</th>\n",
       "      <th>two</th>\n",
       "      <th>three</th>\n",
       "      <th>four</th>\n",
       "    </tr>\n",
       "  </thead>\n",
       "  <tbody>\n",
       "    <tr>\n",
       "      <th>0</th>\n",
       "      <td>1</td>\n",
       "      <td>10</td>\n",
       "      <td>100</td>\n",
       "      <td>1000</td>\n",
       "    </tr>\n",
       "    <tr>\n",
       "      <th>1</th>\n",
       "      <td>2</td>\n",
       "      <td>20</td>\n",
       "      <td>200</td>\n",
       "      <td>2000</td>\n",
       "    </tr>\n",
       "    <tr>\n",
       "      <th>2</th>\n",
       "      <td>3</td>\n",
       "      <td>30</td>\n",
       "      <td>300</td>\n",
       "      <td>3000</td>\n",
       "    </tr>\n",
       "    <tr>\n",
       "      <th>3</th>\n",
       "      <td>4</td>\n",
       "      <td>40</td>\n",
       "      <td>400</td>\n",
       "      <td>4000</td>\n",
       "    </tr>\n",
       "  </tbody>\n",
       "</table>\n",
       "</div>"
      ],
      "text/plain": [
       "   one  two  three  four\n",
       "0    1   10    100  1000\n",
       "1    2   20    200  2000\n",
       "2    3   30    300  3000\n",
       "3    4   40    400  4000"
      ]
     },
     "execution_count": 103,
     "metadata": {},
     "output_type": "execute_result"
    }
   ],
   "source": [
    "data = {'one'  : pd.Series([1, 2, 3, 4]),\n",
    "        'two'  : pd.Series([10, 20, 30, 40]),\n",
    "        'three': pd.Series([100, 200, 300, 400]),\n",
    "        'four' : pd.Series([1000, 2000, 3000, 4000])}\n",
    "df = pd.DataFrame(data)\n",
    "df"
   ]
  },
  {
   "cell_type": "code",
   "execution_count": 104,
   "id": "89eeb1d3-0c10-43c5-8102-0fd97ae2014c",
   "metadata": {},
   "outputs": [
    {
     "data": {
      "text/html": [
       "<div>\n",
       "<style scoped>\n",
       "    .dataframe tbody tr th:only-of-type {\n",
       "        vertical-align: middle;\n",
       "    }\n",
       "\n",
       "    .dataframe tbody tr th {\n",
       "        vertical-align: top;\n",
       "    }\n",
       "\n",
       "    .dataframe thead th {\n",
       "        text-align: right;\n",
       "    }\n",
       "</style>\n",
       "<table border=\"1\" class=\"dataframe\">\n",
       "  <thead>\n",
       "    <tr style=\"text-align: right;\">\n",
       "      <th></th>\n",
       "      <th>one</th>\n",
       "      <th>two</th>\n",
       "      <th>three</th>\n",
       "      <th>four</th>\n",
       "    </tr>\n",
       "  </thead>\n",
       "  <tbody>\n",
       "    <tr>\n",
       "      <th>0</th>\n",
       "      <td>11</td>\n",
       "      <td>20</td>\n",
       "      <td>110</td>\n",
       "      <td>1010</td>\n",
       "    </tr>\n",
       "    <tr>\n",
       "      <th>1</th>\n",
       "      <td>12</td>\n",
       "      <td>30</td>\n",
       "      <td>210</td>\n",
       "      <td>2010</td>\n",
       "    </tr>\n",
       "    <tr>\n",
       "      <th>2</th>\n",
       "      <td>13</td>\n",
       "      <td>40</td>\n",
       "      <td>310</td>\n",
       "      <td>3010</td>\n",
       "    </tr>\n",
       "    <tr>\n",
       "      <th>3</th>\n",
       "      <td>14</td>\n",
       "      <td>50</td>\n",
       "      <td>410</td>\n",
       "      <td>4010</td>\n",
       "    </tr>\n",
       "  </tbody>\n",
       "</table>\n",
       "</div>"
      ],
      "text/plain": [
       "   one  two  three  four\n",
       "0   11   20    110  1010\n",
       "1   12   30    210  2010\n",
       "2   13   40    310  3010\n",
       "3   14   50    410  4010"
      ]
     },
     "execution_count": 104,
     "metadata": {},
     "output_type": "execute_result"
    }
   ],
   "source": [
    "def add_(i,j):\n",
    "    return i + j\n",
    "df.pipe(add_, 10)"
   ]
  },
  {
   "cell_type": "code",
   "execution_count": 105,
   "id": "ff69a7de-9204-424c-bbb1-4b954711954f",
   "metadata": {},
   "outputs": [
    {
     "data": {
      "text/plain": [
       "one            6.25\n",
       "two          625.00\n",
       "three      62500.00\n",
       "four     6250000.00\n",
       "dtype: float64"
      ]
     },
     "execution_count": 105,
     "metadata": {},
     "output_type": "execute_result"
    }
   ],
   "source": [
    "def mean_(col):\n",
    "    return col.mean()\n",
    "def square(i):\n",
    "    return i ** 2\n",
    "df.pipe(mean_).pipe(square)"
   ]
  },
  {
   "cell_type": "code",
   "execution_count": 106,
   "id": "7d7cb489-3379-43bb-b2f6-0d2c0df041d0",
   "metadata": {},
   "outputs": [
    {
     "name": "stdout",
     "output_type": "stream",
     "text": [
      "one         2.5\n",
      "two        25.0\n",
      "three     250.0\n",
      "four     2500.0\n",
      "dtype: float64\n"
     ]
    }
   ],
   "source": [
    "data = {'one'  : pd.Series([1, 2, 3, 4]),\n",
    "        'two'  : pd.Series([10, 20, 30, 40]),\n",
    "        'three': pd.Series([100, 200, 300, 400]),\n",
    "        'four' : pd.Series([1000, 2000, 3000, 4000])}\n",
    "df = pd.DataFrame(data)\n",
    "df\n",
    "print(df.apply(np.mean))"
   ]
  },
  {
   "cell_type": "code",
   "execution_count": 107,
   "id": "204f94f8-c1ce-4f38-a2ef-5cd180c4e4c3",
   "metadata": {},
   "outputs": [
    {
     "data": {
      "text/plain": [
       "one         3\n",
       "two        30\n",
       "three     300\n",
       "four     3000\n",
       "dtype: int64"
      ]
     },
     "execution_count": 107,
     "metadata": {},
     "output_type": "execute_result"
    }
   ],
   "source": [
    "df.apply(lambda x: x.max() - x.min())"
   ]
  },
  {
   "cell_type": "code",
   "execution_count": 108,
   "id": "200ce00e-1765-4457-bd78-46405893a4dc",
   "metadata": {},
   "outputs": [
    {
     "name": "stderr",
     "output_type": "stream",
     "text": [
      "C:\\Users\\achyu\\AppData\\Local\\Temp\\ipykernel_10112\\866300147.py:1: FutureWarning: DataFrame.applymap has been deprecated. Use DataFrame.map instead.\n",
      "  df.applymap(lambda x : x*100)\n"
     ]
    },
    {
     "data": {
      "text/html": [
       "<div>\n",
       "<style scoped>\n",
       "    .dataframe tbody tr th:only-of-type {\n",
       "        vertical-align: middle;\n",
       "    }\n",
       "\n",
       "    .dataframe tbody tr th {\n",
       "        vertical-align: top;\n",
       "    }\n",
       "\n",
       "    .dataframe thead th {\n",
       "        text-align: right;\n",
       "    }\n",
       "</style>\n",
       "<table border=\"1\" class=\"dataframe\">\n",
       "  <thead>\n",
       "    <tr style=\"text-align: right;\">\n",
       "      <th></th>\n",
       "      <th>one</th>\n",
       "      <th>two</th>\n",
       "      <th>three</th>\n",
       "      <th>four</th>\n",
       "    </tr>\n",
       "  </thead>\n",
       "  <tbody>\n",
       "    <tr>\n",
       "      <th>0</th>\n",
       "      <td>100</td>\n",
       "      <td>1000</td>\n",
       "      <td>10000</td>\n",
       "      <td>100000</td>\n",
       "    </tr>\n",
       "    <tr>\n",
       "      <th>1</th>\n",
       "      <td>200</td>\n",
       "      <td>2000</td>\n",
       "      <td>20000</td>\n",
       "      <td>200000</td>\n",
       "    </tr>\n",
       "    <tr>\n",
       "      <th>2</th>\n",
       "      <td>300</td>\n",
       "      <td>3000</td>\n",
       "      <td>30000</td>\n",
       "      <td>300000</td>\n",
       "    </tr>\n",
       "    <tr>\n",
       "      <th>3</th>\n",
       "      <td>400</td>\n",
       "      <td>4000</td>\n",
       "      <td>40000</td>\n",
       "      <td>400000</td>\n",
       "    </tr>\n",
       "  </tbody>\n",
       "</table>\n",
       "</div>"
      ],
      "text/plain": [
       "   one   two  three    four\n",
       "0  100  1000  10000  100000\n",
       "1  200  2000  20000  200000\n",
       "2  300  3000  30000  300000\n",
       "3  400  4000  40000  400000"
      ]
     },
     "execution_count": 108,
     "metadata": {},
     "output_type": "execute_result"
    }
   ],
   "source": [
    "\n",
    "df.applymap(lambda x : x*100)"
   ]
  },
  {
   "cell_type": "markdown",
   "id": "5b99c259-a738-4878-b348-77d55707afc9",
   "metadata": {},
   "source": [
    "index changing"
   ]
  },
  {
   "cell_type": "code",
   "execution_count": 110,
   "id": "07378e11-6121-4f14-9dd6-1da71ee220b0",
   "metadata": {},
   "outputs": [
    {
     "name": "stdout",
     "output_type": "stream",
     "text": [
      "   one  two  three  four\n",
      "0    1   10    100  1000\n",
      "1    2   20    200  2000\n",
      "2    3   30    300  3000\n",
      "3    4   40    400  4000\n",
      "------------------------------\n",
      "   one  two  three  four\n",
      "1    2   20    200  2000\n",
      "0    1   10    100  1000\n",
      "3    4   40    400  4000\n",
      "2    3   30    300  3000\n"
     ]
    }
   ],
   "source": [
    "data = { 'one'   : pd.Series([1, 2, 3, 4]),\n",
    "         'two'   : pd.Series([10, 20, 30, 40]),\n",
    "         'three' : pd.Series([100, 200, 300, 400]),\n",
    "         'four'  : pd.Series([1000, 2000, 3000, 4000])}\n",
    "df = pd.DataFrame(data)\n",
    "print(df)\n",
    "print('-'*30)\n",
    "print(df.reindex([1,0,3,2]))"
   ]
  },
  {
   "cell_type": "code",
   "execution_count": 111,
   "id": "634be78b-3597-4314-bef2-6be917b910d1",
   "metadata": {},
   "outputs": [
    {
     "data": {
      "text/html": [
       "<div>\n",
       "<style scoped>\n",
       "    .dataframe tbody tr th:only-of-type {\n",
       "        vertical-align: middle;\n",
       "    }\n",
       "\n",
       "    .dataframe tbody tr th {\n",
       "        vertical-align: top;\n",
       "    }\n",
       "\n",
       "    .dataframe thead th {\n",
       "        text-align: right;\n",
       "    }\n",
       "</style>\n",
       "<table border=\"1\" class=\"dataframe\">\n",
       "  <thead>\n",
       "    <tr style=\"text-align: right;\">\n",
       "      <th></th>\n",
       "      <th>Name</th>\n",
       "      <th>City</th>\n",
       "      <th>Age</th>\n",
       "    </tr>\n",
       "  </thead>\n",
       "  <tbody>\n",
       "    <tr>\n",
       "      <th>0</th>\n",
       "      <td>John</td>\n",
       "      <td>New York</td>\n",
       "      <td>25</td>\n",
       "    </tr>\n",
       "    <tr>\n",
       "      <th>1</th>\n",
       "      <td>Jane</td>\n",
       "      <td>Los Angeles</td>\n",
       "      <td>30</td>\n",
       "    </tr>\n",
       "    <tr>\n",
       "      <th>2</th>\n",
       "      <td>Jim</td>\n",
       "      <td>Chicago</td>\n",
       "      <td>35</td>\n",
       "    </tr>\n",
       "    <tr>\n",
       "      <th>3</th>\n",
       "      <td>Joan</td>\n",
       "      <td>Houston</td>\n",
       "      <td>40</td>\n",
       "    </tr>\n",
       "  </tbody>\n",
       "</table>\n",
       "</div>"
      ],
      "text/plain": [
       "   Name         City  Age\n",
       "0  John     New York   25\n",
       "1  Jane  Los Angeles   30\n",
       "2   Jim      Chicago   35\n",
       "3  Joan      Houston   40"
      ]
     },
     "execution_count": 111,
     "metadata": {},
     "output_type": "execute_result"
    }
   ],
   "source": [
    "data = {'Name' : ['John', 'Jane', 'Jim', 'Joan'],\n",
    "        'Age'  : [25, 30, 35, 40],\n",
    "        'City' : ['New York', 'Los Angeles', 'Chicago', 'Houston']}\n",
    "df = pd.DataFrame(data)\n",
    "df.reindex(columns = ['Name','City','Age'])"
   ]
  },
  {
   "cell_type": "markdown",
   "id": "1a6aeee6-a876-41f5-b22e-5a79a306a808",
   "metadata": {},
   "source": [
    "renaming"
   ]
  },
  {
   "cell_type": "code",
   "execution_count": 112,
   "id": "195c9aa4-3dc7-4081-9dd2-96e66c40c3e4",
   "metadata": {},
   "outputs": [
    {
     "data": {
      "text/html": [
       "<div>\n",
       "<style scoped>\n",
       "    .dataframe tbody tr th:only-of-type {\n",
       "        vertical-align: middle;\n",
       "    }\n",
       "\n",
       "    .dataframe tbody tr th {\n",
       "        vertical-align: top;\n",
       "    }\n",
       "\n",
       "    .dataframe thead th {\n",
       "        text-align: right;\n",
       "    }\n",
       "</style>\n",
       "<table border=\"1\" class=\"dataframe\">\n",
       "  <thead>\n",
       "    <tr style=\"text-align: right;\">\n",
       "      <th></th>\n",
       "      <th>One</th>\n",
       "      <th>Two</th>\n",
       "      <th>Three</th>\n",
       "      <th>Four</th>\n",
       "    </tr>\n",
       "  </thead>\n",
       "  <tbody>\n",
       "    <tr>\n",
       "      <th>a</th>\n",
       "      <td>1</td>\n",
       "      <td>10</td>\n",
       "      <td>100</td>\n",
       "      <td>1000</td>\n",
       "    </tr>\n",
       "    <tr>\n",
       "      <th>b</th>\n",
       "      <td>2</td>\n",
       "      <td>20</td>\n",
       "      <td>200</td>\n",
       "      <td>2000</td>\n",
       "    </tr>\n",
       "    <tr>\n",
       "      <th>c</th>\n",
       "      <td>3</td>\n",
       "      <td>30</td>\n",
       "      <td>300</td>\n",
       "      <td>3000</td>\n",
       "    </tr>\n",
       "    <tr>\n",
       "      <th>3</th>\n",
       "      <td>4</td>\n",
       "      <td>40</td>\n",
       "      <td>400</td>\n",
       "      <td>4000</td>\n",
       "    </tr>\n",
       "  </tbody>\n",
       "</table>\n",
       "</div>"
      ],
      "text/plain": [
       "   One  Two  Three  Four\n",
       "a    1   10    100  1000\n",
       "b    2   20    200  2000\n",
       "c    3   30    300  3000\n",
       "3    4   40    400  4000"
      ]
     },
     "execution_count": 112,
     "metadata": {},
     "output_type": "execute_result"
    }
   ],
   "source": [
    "data = { 'one'   : pd.Series([1, 2, 3, 4]),\n",
    "         'two'   : pd.Series([10, 20, 30, 40]),\n",
    "         'three' : pd.Series([100, 200, 300, 400]),\n",
    "         'four'  : pd.Series([1000, 2000, 3000, 4000])}\n",
    "df = pd.DataFrame(data)\n",
    "df.rename(columns = {'one' : 'One','two': 'Two', 'three' : 'Three', 'four' : 'Four'}, \n",
    "           inplace = True, index = {0:'a',1:'b',2:'c',4:'d'})\n",
    "df"
   ]
  },
  {
   "cell_type": "markdown",
   "id": "a221f7f0-b95f-4fc3-b9e7-e80bcd29a295",
   "metadata": {},
   "source": [
    "sorting"
   ]
  },
  {
   "cell_type": "code",
   "execution_count": 113,
   "id": "4ec9a222-3a9f-4529-ab8d-8f5251dd8bc2",
   "metadata": {},
   "outputs": [
    {
     "data": {
      "text/html": [
       "<div>\n",
       "<style scoped>\n",
       "    .dataframe tbody tr th:only-of-type {\n",
       "        vertical-align: middle;\n",
       "    }\n",
       "\n",
       "    .dataframe tbody tr th {\n",
       "        vertical-align: top;\n",
       "    }\n",
       "\n",
       "    .dataframe thead th {\n",
       "        text-align: right;\n",
       "    }\n",
       "</style>\n",
       "<table border=\"1\" class=\"dataframe\">\n",
       "  <thead>\n",
       "    <tr style=\"text-align: right;\">\n",
       "      <th></th>\n",
       "      <th>one</th>\n",
       "      <th>two</th>\n",
       "      <th>three</th>\n",
       "      <th>four</th>\n",
       "    </tr>\n",
       "  </thead>\n",
       "  <tbody>\n",
       "    <tr>\n",
       "      <th>0</th>\n",
       "      <td>11</td>\n",
       "      <td>10</td>\n",
       "      <td>100</td>\n",
       "      <td>1000</td>\n",
       "    </tr>\n",
       "    <tr>\n",
       "      <th>1</th>\n",
       "      <td>51</td>\n",
       "      <td>20</td>\n",
       "      <td>200</td>\n",
       "      <td>2000</td>\n",
       "    </tr>\n",
       "    <tr>\n",
       "      <th>2</th>\n",
       "      <td>31</td>\n",
       "      <td>30</td>\n",
       "      <td>500</td>\n",
       "      <td>3000</td>\n",
       "    </tr>\n",
       "    <tr>\n",
       "      <th>3</th>\n",
       "      <td>41</td>\n",
       "      <td>40</td>\n",
       "      <td>400</td>\n",
       "      <td>4000</td>\n",
       "    </tr>\n",
       "  </tbody>\n",
       "</table>\n",
       "</div>"
      ],
      "text/plain": [
       "   one  two  three  four\n",
       "0   11   10    100  1000\n",
       "1   51   20    200  2000\n",
       "2   31   30    500  3000\n",
       "3   41   40    400  4000"
      ]
     },
     "execution_count": 113,
     "metadata": {},
     "output_type": "execute_result"
    }
   ],
   "source": [
    "data = { 'one'   : pd.Series([11, 51, 31, 41]),\n",
    "         'two'   : pd.Series([10, 20, 30, 40]),\n",
    "         'three' : pd.Series([100, 200, 500, 400]),\n",
    "         'four'  : pd.Series([1000, 2000, 3000, 4000])}\n",
    "df = pd.DataFrame(data)\n",
    "df"
   ]
  },
  {
   "cell_type": "code",
   "execution_count": 114,
   "id": "e70ab8cf-ce2a-4139-9772-43954853aedb",
   "metadata": {},
   "outputs": [
    {
     "data": {
      "text/html": [
       "<div>\n",
       "<style scoped>\n",
       "    .dataframe tbody tr th:only-of-type {\n",
       "        vertical-align: middle;\n",
       "    }\n",
       "\n",
       "    .dataframe tbody tr th {\n",
       "        vertical-align: top;\n",
       "    }\n",
       "\n",
       "    .dataframe thead th {\n",
       "        text-align: right;\n",
       "    }\n",
       "</style>\n",
       "<table border=\"1\" class=\"dataframe\">\n",
       "  <thead>\n",
       "    <tr style=\"text-align: right;\">\n",
       "      <th></th>\n",
       "      <th>one</th>\n",
       "      <th>two</th>\n",
       "      <th>three</th>\n",
       "      <th>four</th>\n",
       "    </tr>\n",
       "  </thead>\n",
       "  <tbody>\n",
       "    <tr>\n",
       "      <th>0</th>\n",
       "      <td>11</td>\n",
       "      <td>10</td>\n",
       "      <td>100</td>\n",
       "      <td>1000</td>\n",
       "    </tr>\n",
       "    <tr>\n",
       "      <th>2</th>\n",
       "      <td>31</td>\n",
       "      <td>30</td>\n",
       "      <td>500</td>\n",
       "      <td>3000</td>\n",
       "    </tr>\n",
       "    <tr>\n",
       "      <th>3</th>\n",
       "      <td>41</td>\n",
       "      <td>40</td>\n",
       "      <td>400</td>\n",
       "      <td>4000</td>\n",
       "    </tr>\n",
       "    <tr>\n",
       "      <th>1</th>\n",
       "      <td>51</td>\n",
       "      <td>20</td>\n",
       "      <td>200</td>\n",
       "      <td>2000</td>\n",
       "    </tr>\n",
       "  </tbody>\n",
       "</table>\n",
       "</div>"
      ],
      "text/plain": [
       "   one  two  three  four\n",
       "0   11   10    100  1000\n",
       "2   31   30    500  3000\n",
       "3   41   40    400  4000\n",
       "1   51   20    200  2000"
      ]
     },
     "execution_count": 114,
     "metadata": {},
     "output_type": "execute_result"
    }
   ],
   "source": [
    "df.sort_values(by = 'one')"
   ]
  },
  {
   "cell_type": "code",
   "execution_count": 115,
   "id": "22557056-a7ce-4585-9fb5-ca7ad9d0b594",
   "metadata": {},
   "outputs": [
    {
     "data": {
      "text/html": [
       "<div>\n",
       "<style scoped>\n",
       "    .dataframe tbody tr th:only-of-type {\n",
       "        vertical-align: middle;\n",
       "    }\n",
       "\n",
       "    .dataframe tbody tr th {\n",
       "        vertical-align: top;\n",
       "    }\n",
       "\n",
       "    .dataframe thead th {\n",
       "        text-align: right;\n",
       "    }\n",
       "</style>\n",
       "<table border=\"1\" class=\"dataframe\">\n",
       "  <thead>\n",
       "    <tr style=\"text-align: right;\">\n",
       "      <th></th>\n",
       "      <th>one</th>\n",
       "      <th>two</th>\n",
       "      <th>three</th>\n",
       "      <th>four</th>\n",
       "    </tr>\n",
       "  </thead>\n",
       "  <tbody>\n",
       "    <tr>\n",
       "      <th>1</th>\n",
       "      <td>51</td>\n",
       "      <td>20</td>\n",
       "      <td>200</td>\n",
       "      <td>2000</td>\n",
       "    </tr>\n",
       "    <tr>\n",
       "      <th>3</th>\n",
       "      <td>41</td>\n",
       "      <td>40</td>\n",
       "      <td>400</td>\n",
       "      <td>4000</td>\n",
       "    </tr>\n",
       "    <tr>\n",
       "      <th>2</th>\n",
       "      <td>31</td>\n",
       "      <td>30</td>\n",
       "      <td>500</td>\n",
       "      <td>3000</td>\n",
       "    </tr>\n",
       "    <tr>\n",
       "      <th>0</th>\n",
       "      <td>11</td>\n",
       "      <td>10</td>\n",
       "      <td>100</td>\n",
       "      <td>1000</td>\n",
       "    </tr>\n",
       "  </tbody>\n",
       "</table>\n",
       "</div>"
      ],
      "text/plain": [
       "   one  two  three  four\n",
       "1   51   20    200  2000\n",
       "3   41   40    400  4000\n",
       "2   31   30    500  3000\n",
       "0   11   10    100  1000"
      ]
     },
     "execution_count": 115,
     "metadata": {},
     "output_type": "execute_result"
    }
   ],
   "source": [
    "df.sort_values(by = 'one', ascending = False)"
   ]
  },
  {
   "cell_type": "code",
   "execution_count": 116,
   "id": "bb5622a6-2cc9-45d5-8466-9273c852b3a7",
   "metadata": {},
   "outputs": [
    {
     "data": {
      "text/html": [
       "<div>\n",
       "<style scoped>\n",
       "    .dataframe tbody tr th:only-of-type {\n",
       "        vertical-align: middle;\n",
       "    }\n",
       "\n",
       "    .dataframe tbody tr th {\n",
       "        vertical-align: top;\n",
       "    }\n",
       "\n",
       "    .dataframe thead th {\n",
       "        text-align: right;\n",
       "    }\n",
       "</style>\n",
       "<table border=\"1\" class=\"dataframe\">\n",
       "  <thead>\n",
       "    <tr style=\"text-align: right;\">\n",
       "      <th></th>\n",
       "      <th>one</th>\n",
       "      <th>two</th>\n",
       "      <th>three</th>\n",
       "      <th>four</th>\n",
       "    </tr>\n",
       "  </thead>\n",
       "  <tbody>\n",
       "    <tr>\n",
       "      <th>0</th>\n",
       "      <td>11</td>\n",
       "      <td>10</td>\n",
       "      <td>100</td>\n",
       "      <td>1000</td>\n",
       "    </tr>\n",
       "    <tr>\n",
       "      <th>2</th>\n",
       "      <td>31</td>\n",
       "      <td>30</td>\n",
       "      <td>500</td>\n",
       "      <td>3000</td>\n",
       "    </tr>\n",
       "    <tr>\n",
       "      <th>3</th>\n",
       "      <td>41</td>\n",
       "      <td>40</td>\n",
       "      <td>400</td>\n",
       "      <td>4000</td>\n",
       "    </tr>\n",
       "    <tr>\n",
       "      <th>1</th>\n",
       "      <td>51</td>\n",
       "      <td>20</td>\n",
       "      <td>200</td>\n",
       "      <td>2000</td>\n",
       "    </tr>\n",
       "  </tbody>\n",
       "</table>\n",
       "</div>"
      ],
      "text/plain": [
       "   one  two  three  four\n",
       "0   11   10    100  1000\n",
       "2   31   30    500  3000\n",
       "3   41   40    400  4000\n",
       "1   51   20    200  2000"
      ]
     },
     "execution_count": 116,
     "metadata": {},
     "output_type": "execute_result"
    }
   ],
   "source": [
    "df.sort_values(by = 'one', ascending = True)"
   ]
  },
  {
   "cell_type": "code",
   "execution_count": 117,
   "id": "1cabb478-9db6-4c32-bad1-87181bc6fbf5",
   "metadata": {},
   "outputs": [
    {
     "data": {
      "text/html": [
       "<div>\n",
       "<style scoped>\n",
       "    .dataframe tbody tr th:only-of-type {\n",
       "        vertical-align: middle;\n",
       "    }\n",
       "\n",
       "    .dataframe tbody tr th {\n",
       "        vertical-align: top;\n",
       "    }\n",
       "\n",
       "    .dataframe thead th {\n",
       "        text-align: right;\n",
       "    }\n",
       "</style>\n",
       "<table border=\"1\" class=\"dataframe\">\n",
       "  <thead>\n",
       "    <tr style=\"text-align: right;\">\n",
       "      <th></th>\n",
       "      <th>one</th>\n",
       "      <th>two</th>\n",
       "      <th>three</th>\n",
       "      <th>four</th>\n",
       "    </tr>\n",
       "  </thead>\n",
       "  <tbody>\n",
       "    <tr>\n",
       "      <th>0</th>\n",
       "      <td>11</td>\n",
       "      <td>10</td>\n",
       "      <td>100</td>\n",
       "      <td>1000</td>\n",
       "    </tr>\n",
       "    <tr>\n",
       "      <th>2</th>\n",
       "      <td>31</td>\n",
       "      <td>30</td>\n",
       "      <td>500</td>\n",
       "      <td>3000</td>\n",
       "    </tr>\n",
       "    <tr>\n",
       "      <th>3</th>\n",
       "      <td>41</td>\n",
       "      <td>40</td>\n",
       "      <td>400</td>\n",
       "      <td>4000</td>\n",
       "    </tr>\n",
       "    <tr>\n",
       "      <th>1</th>\n",
       "      <td>51</td>\n",
       "      <td>20</td>\n",
       "      <td>200</td>\n",
       "      <td>2000</td>\n",
       "    </tr>\n",
       "  </tbody>\n",
       "</table>\n",
       "</div>"
      ],
      "text/plain": [
       "   one  two  three  four\n",
       "0   11   10    100  1000\n",
       "2   31   30    500  3000\n",
       "3   41   40    400  4000\n",
       "1   51   20    200  2000"
      ]
     },
     "execution_count": 117,
     "metadata": {},
     "output_type": "execute_result"
    }
   ],
   "source": [
    "df.sort_values(by = ['one','two'])"
   ]
  },
  {
   "cell_type": "markdown",
   "id": "aa56a2d9-9ed4-4307-b657-ce091e10ec10",
   "metadata": {},
   "source": [
    "groupby functions"
   ]
  },
  {
   "cell_type": "code",
   "execution_count": 118,
   "id": "0ac8a447-5a19-4955-899f-e29f6735184d",
   "metadata": {},
   "outputs": [
    {
     "data": {
      "text/html": [
       "<div>\n",
       "<style scoped>\n",
       "    .dataframe tbody tr th:only-of-type {\n",
       "        vertical-align: middle;\n",
       "    }\n",
       "\n",
       "    .dataframe tbody tr th {\n",
       "        vertical-align: top;\n",
       "    }\n",
       "\n",
       "    .dataframe thead th {\n",
       "        text-align: right;\n",
       "    }\n",
       "</style>\n",
       "<table border=\"1\" class=\"dataframe\">\n",
       "  <thead>\n",
       "    <tr style=\"text-align: right;\">\n",
       "      <th></th>\n",
       "      <th>Team</th>\n",
       "      <th>Rank</th>\n",
       "      <th>Year</th>\n",
       "      <th>Points</th>\n",
       "    </tr>\n",
       "  </thead>\n",
       "  <tbody>\n",
       "    <tr>\n",
       "      <th>0</th>\n",
       "      <td>India</td>\n",
       "      <td>2</td>\n",
       "      <td>2014</td>\n",
       "      <td>876</td>\n",
       "    </tr>\n",
       "    <tr>\n",
       "      <th>1</th>\n",
       "      <td>India</td>\n",
       "      <td>3</td>\n",
       "      <td>2015</td>\n",
       "      <td>801</td>\n",
       "    </tr>\n",
       "    <tr>\n",
       "      <th>2</th>\n",
       "      <td>Australia</td>\n",
       "      <td>1</td>\n",
       "      <td>2014</td>\n",
       "      <td>891</td>\n",
       "    </tr>\n",
       "    <tr>\n",
       "      <th>3</th>\n",
       "      <td>Australia</td>\n",
       "      <td>2</td>\n",
       "      <td>2015</td>\n",
       "      <td>815</td>\n",
       "    </tr>\n",
       "    <tr>\n",
       "      <th>4</th>\n",
       "      <td>SA</td>\n",
       "      <td>3</td>\n",
       "      <td>2014</td>\n",
       "      <td>776</td>\n",
       "    </tr>\n",
       "    <tr>\n",
       "      <th>5</th>\n",
       "      <td>SA</td>\n",
       "      <td>4</td>\n",
       "      <td>2015</td>\n",
       "      <td>784</td>\n",
       "    </tr>\n",
       "    <tr>\n",
       "      <th>6</th>\n",
       "      <td>SA</td>\n",
       "      <td>1</td>\n",
       "      <td>2016</td>\n",
       "      <td>834</td>\n",
       "    </tr>\n",
       "    <tr>\n",
       "      <th>7</th>\n",
       "      <td>SA</td>\n",
       "      <td>1</td>\n",
       "      <td>2017</td>\n",
       "      <td>824</td>\n",
       "    </tr>\n",
       "    <tr>\n",
       "      <th>8</th>\n",
       "      <td>NZ</td>\n",
       "      <td>2</td>\n",
       "      <td>2016</td>\n",
       "      <td>758</td>\n",
       "    </tr>\n",
       "    <tr>\n",
       "      <th>9</th>\n",
       "      <td>NZ</td>\n",
       "      <td>4</td>\n",
       "      <td>2014</td>\n",
       "      <td>691</td>\n",
       "    </tr>\n",
       "    <tr>\n",
       "      <th>10</th>\n",
       "      <td>NZ</td>\n",
       "      <td>1</td>\n",
       "      <td>2015</td>\n",
       "      <td>883</td>\n",
       "    </tr>\n",
       "    <tr>\n",
       "      <th>11</th>\n",
       "      <td>India</td>\n",
       "      <td>2</td>\n",
       "      <td>2017</td>\n",
       "      <td>782</td>\n",
       "    </tr>\n",
       "  </tbody>\n",
       "</table>\n",
       "</div>"
      ],
      "text/plain": [
       "         Team  Rank  Year  Points\n",
       "0       India     2  2014     876\n",
       "1       India     3  2015     801\n",
       "2   Australia     1  2014     891\n",
       "3   Australia     2  2015     815\n",
       "4          SA     3  2014     776\n",
       "5          SA     4  2015     784\n",
       "6          SA     1  2016     834\n",
       "7          SA     1  2017     824\n",
       "8          NZ     2  2016     758\n",
       "9          NZ     4  2014     691\n",
       "10         NZ     1  2015     883\n",
       "11      India     2  2017     782"
      ]
     },
     "execution_count": 118,
     "metadata": {},
     "output_type": "execute_result"
    }
   ],
   "source": [
    "cricket = {'Team'   : ['India', 'India', 'Australia', 'Australia', 'SA', 'SA', 'SA', 'SA', 'NZ', 'NZ', 'NZ', 'India'],\n",
    "           'Rank'   : [2, 3, 1,2, 3,4 ,1 ,1,2 , 4,1,2],\n",
    "           'Year'   : [2014,2015,2014,2015,2014,2015,2016,2017,2016,2014,2015,2017],\n",
    "           'Points' : [876,801,891,815,776,784,834,824,758,691,883,782]}\n",
    "df = pd.DataFrame(cricket)\n",
    "df"
   ]
  },
  {
   "cell_type": "code",
   "execution_count": 119,
   "id": "565818ae-d9a8-47c0-ba6e-0a511ddaf45e",
   "metadata": {},
   "outputs": [
    {
     "data": {
      "text/plain": [
       "{'Australia': [2, 3], 'India': [0, 1, 11], 'NZ': [8, 9, 10], 'SA': [4, 5, 6, 7]}"
      ]
     },
     "execution_count": 119,
     "metadata": {},
     "output_type": "execute_result"
    }
   ],
   "source": [
    "df.groupby('Team').groups"
   ]
  },
  {
   "cell_type": "code",
   "execution_count": 120,
   "id": "66616d92-07f0-47c9-8907-4844aa9941f3",
   "metadata": {},
   "outputs": [
    {
     "data": {
      "text/html": [
       "<div>\n",
       "<style scoped>\n",
       "    .dataframe tbody tr th:only-of-type {\n",
       "        vertical-align: middle;\n",
       "    }\n",
       "\n",
       "    .dataframe tbody tr th {\n",
       "        vertical-align: top;\n",
       "    }\n",
       "\n",
       "    .dataframe thead th {\n",
       "        text-align: right;\n",
       "    }\n",
       "</style>\n",
       "<table border=\"1\" class=\"dataframe\">\n",
       "  <thead>\n",
       "    <tr style=\"text-align: right;\">\n",
       "      <th></th>\n",
       "      <th>Team</th>\n",
       "      <th>Rank</th>\n",
       "      <th>Year</th>\n",
       "      <th>Points</th>\n",
       "    </tr>\n",
       "  </thead>\n",
       "  <tbody>\n",
       "    <tr>\n",
       "      <th>2</th>\n",
       "      <td>Australia</td>\n",
       "      <td>1</td>\n",
       "      <td>2014</td>\n",
       "      <td>891</td>\n",
       "    </tr>\n",
       "  </tbody>\n",
       "</table>\n",
       "</div>"
      ],
      "text/plain": [
       "        Team  Rank  Year  Points\n",
       "2  Australia     1  2014     891"
      ]
     },
     "execution_count": 120,
     "metadata": {},
     "output_type": "execute_result"
    }
   ],
   "source": [
    "df.groupby(['Team','Year']).get_group(('Australia',2014))"
   ]
  },
  {
   "cell_type": "code",
   "execution_count": 121,
   "id": "e570f3fd-2765-414d-9308-dd182ab51f61",
   "metadata": {},
   "outputs": [
    {
     "data": {
      "text/plain": [
       "Team\n",
       "Australia    1706\n",
       "India        2459\n",
       "NZ           2332\n",
       "SA           3218\n",
       "Name: Points, dtype: int64"
      ]
     },
     "execution_count": 121,
     "metadata": {},
     "output_type": "execute_result"
    }
   ],
   "source": [
    "df.groupby('Team').sum()['Points']"
   ]
  },
  {
   "cell_type": "code",
   "execution_count": 122,
   "id": "82c0fc0b-376e-4f5d-ae3d-7a044ac4f749",
   "metadata": {},
   "outputs": [
    {
     "data": {
      "text/plain": [
       "Team\n",
       "SA           3218\n",
       "India        2459\n",
       "NZ           2332\n",
       "Australia    1706\n",
       "Name: Points, dtype: int64"
      ]
     },
     "execution_count": 122,
     "metadata": {},
     "output_type": "execute_result"
    }
   ],
   "source": [
    "df.groupby('Team').sum()['Points'].sort_values(ascending = False)"
   ]
  },
  {
   "cell_type": "code",
   "execution_count": 123,
   "id": "c4f6e49c-bbaf-4c14-a97b-0e879acbd233",
   "metadata": {},
   "outputs": [
    {
     "name": "stderr",
     "output_type": "stream",
     "text": [
      "C:\\Users\\achyu\\AppData\\Local\\Temp\\ipykernel_10112\\465911169.py:3: FutureWarning: The provided callable <function sum at 0x00000152A0FF4F40> is currently using SeriesGroupBy.sum. In a future version of pandas, the provided callable will be used directly. To keep current behavior pass the string \"sum\" instead.\n",
      "  groups['Points'].agg([np.sum, np.mean, np.std,np.max,np.min])\n",
      "C:\\Users\\achyu\\AppData\\Local\\Temp\\ipykernel_10112\\465911169.py:3: FutureWarning: The provided callable <function mean at 0x00000152A0FF6020> is currently using SeriesGroupBy.mean. In a future version of pandas, the provided callable will be used directly. To keep current behavior pass the string \"mean\" instead.\n",
      "  groups['Points'].agg([np.sum, np.mean, np.std,np.max,np.min])\n",
      "C:\\Users\\achyu\\AppData\\Local\\Temp\\ipykernel_10112\\465911169.py:3: FutureWarning: The provided callable <function std at 0x00000152A0FF6160> is currently using SeriesGroupBy.std. In a future version of pandas, the provided callable will be used directly. To keep current behavior pass the string \"std\" instead.\n",
      "  groups['Points'].agg([np.sum, np.mean, np.std,np.max,np.min])\n",
      "C:\\Users\\achyu\\AppData\\Local\\Temp\\ipykernel_10112\\465911169.py:3: FutureWarning: The provided callable <function max at 0x00000152A0FF5620> is currently using SeriesGroupBy.max. In a future version of pandas, the provided callable will be used directly. To keep current behavior pass the string \"max\" instead.\n",
      "  groups['Points'].agg([np.sum, np.mean, np.std,np.max,np.min])\n",
      "C:\\Users\\achyu\\AppData\\Local\\Temp\\ipykernel_10112\\465911169.py:3: FutureWarning: The provided callable <function min at 0x00000152A0FF5760> is currently using SeriesGroupBy.min. In a future version of pandas, the provided callable will be used directly. To keep current behavior pass the string \"min\" instead.\n",
      "  groups['Points'].agg([np.sum, np.mean, np.std,np.max,np.min])\n"
     ]
    },
    {
     "data": {
      "text/html": [
       "<div>\n",
       "<style scoped>\n",
       "    .dataframe tbody tr th:only-of-type {\n",
       "        vertical-align: middle;\n",
       "    }\n",
       "\n",
       "    .dataframe tbody tr th {\n",
       "        vertical-align: top;\n",
       "    }\n",
       "\n",
       "    .dataframe thead th {\n",
       "        text-align: right;\n",
       "    }\n",
       "</style>\n",
       "<table border=\"1\" class=\"dataframe\">\n",
       "  <thead>\n",
       "    <tr style=\"text-align: right;\">\n",
       "      <th></th>\n",
       "      <th>sum</th>\n",
       "      <th>mean</th>\n",
       "      <th>std</th>\n",
       "      <th>max</th>\n",
       "      <th>min</th>\n",
       "    </tr>\n",
       "    <tr>\n",
       "      <th>Team</th>\n",
       "      <th></th>\n",
       "      <th></th>\n",
       "      <th></th>\n",
       "      <th></th>\n",
       "      <th></th>\n",
       "    </tr>\n",
       "  </thead>\n",
       "  <tbody>\n",
       "    <tr>\n",
       "      <th>Australia</th>\n",
       "      <td>1706</td>\n",
       "      <td>853.000000</td>\n",
       "      <td>53.740115</td>\n",
       "      <td>891</td>\n",
       "      <td>815</td>\n",
       "    </tr>\n",
       "    <tr>\n",
       "      <th>India</th>\n",
       "      <td>2459</td>\n",
       "      <td>819.666667</td>\n",
       "      <td>49.702448</td>\n",
       "      <td>876</td>\n",
       "      <td>782</td>\n",
       "    </tr>\n",
       "    <tr>\n",
       "      <th>NZ</th>\n",
       "      <td>2332</td>\n",
       "      <td>777.333333</td>\n",
       "      <td>97.449132</td>\n",
       "      <td>883</td>\n",
       "      <td>691</td>\n",
       "    </tr>\n",
       "    <tr>\n",
       "      <th>SA</th>\n",
       "      <td>3218</td>\n",
       "      <td>804.500000</td>\n",
       "      <td>28.769196</td>\n",
       "      <td>834</td>\n",
       "      <td>776</td>\n",
       "    </tr>\n",
       "  </tbody>\n",
       "</table>\n",
       "</div>"
      ],
      "text/plain": [
       "            sum        mean        std  max  min\n",
       "Team                                            \n",
       "Australia  1706  853.000000  53.740115  891  815\n",
       "India      2459  819.666667  49.702448  876  782\n",
       "NZ         2332  777.333333  97.449132  883  691\n",
       "SA         3218  804.500000  28.769196  834  776"
      ]
     },
     "execution_count": 123,
     "metadata": {},
     "output_type": "execute_result"
    }
   ],
   "source": [
    "groups = df.groupby('Team')\n",
    "\n",
    "groups['Points'].agg([np.sum, np.mean, np.std,np.max,np.min])"
   ]
  },
  {
   "cell_type": "code",
   "execution_count": 125,
   "id": "dad74316-b540-4275-b9b9-d3b171733e1e",
   "metadata": {},
   "outputs": [
    {
     "data": {
      "text/html": [
       "<div>\n",
       "<style scoped>\n",
       "    .dataframe tbody tr th:only-of-type {\n",
       "        vertical-align: middle;\n",
       "    }\n",
       "\n",
       "    .dataframe tbody tr th {\n",
       "        vertical-align: top;\n",
       "    }\n",
       "\n",
       "    .dataframe thead th {\n",
       "        text-align: right;\n",
       "    }\n",
       "</style>\n",
       "<table border=\"1\" class=\"dataframe\">\n",
       "  <thead>\n",
       "    <tr style=\"text-align: right;\">\n",
       "      <th></th>\n",
       "      <th>Team</th>\n",
       "      <th>Rank</th>\n",
       "      <th>Year</th>\n",
       "      <th>Points</th>\n",
       "    </tr>\n",
       "  </thead>\n",
       "  <tbody>\n",
       "    <tr>\n",
       "      <th>0</th>\n",
       "      <td>India</td>\n",
       "      <td>2</td>\n",
       "      <td>2014</td>\n",
       "      <td>876</td>\n",
       "    </tr>\n",
       "    <tr>\n",
       "      <th>1</th>\n",
       "      <td>India</td>\n",
       "      <td>3</td>\n",
       "      <td>2015</td>\n",
       "      <td>801</td>\n",
       "    </tr>\n",
       "    <tr>\n",
       "      <th>8</th>\n",
       "      <td>NZ</td>\n",
       "      <td>2</td>\n",
       "      <td>2016</td>\n",
       "      <td>758</td>\n",
       "    </tr>\n",
       "    <tr>\n",
       "      <th>9</th>\n",
       "      <td>NZ</td>\n",
       "      <td>4</td>\n",
       "      <td>2014</td>\n",
       "      <td>691</td>\n",
       "    </tr>\n",
       "    <tr>\n",
       "      <th>10</th>\n",
       "      <td>NZ</td>\n",
       "      <td>1</td>\n",
       "      <td>2015</td>\n",
       "      <td>883</td>\n",
       "    </tr>\n",
       "    <tr>\n",
       "      <th>11</th>\n",
       "      <td>India</td>\n",
       "      <td>2</td>\n",
       "      <td>2017</td>\n",
       "      <td>782</td>\n",
       "    </tr>\n",
       "  </tbody>\n",
       "</table>\n",
       "</div>"
      ],
      "text/plain": [
       "     Team  Rank  Year  Points\n",
       "0   India     2  2014     876\n",
       "1   India     3  2015     801\n",
       "8      NZ     2  2016     758\n",
       "9      NZ     4  2014     691\n",
       "10     NZ     1  2015     883\n",
       "11  India     2  2017     782"
      ]
     },
     "execution_count": 125,
     "metadata": {},
     "output_type": "execute_result"
    }
   ],
   "source": [
    "df.groupby('Team').filter(lambda x : len(x) == 4)\n",
    "df.groupby('Team').filter(lambda x : len(x) == 3)"
   ]
  },
  {
   "cell_type": "markdown",
   "id": "65e4f095-f810-4c58-a0f3-0c9928f4a54b",
   "metadata": {},
   "source": [
    "reading csv files"
   ]
  },
  {
   "cell_type": "code",
   "execution_count": 127,
   "id": "9ae16c85-12b0-4c53-b2b9-cee3d1227eb5",
   "metadata": {},
   "outputs": [
    {
     "data": {
      "text/html": [
       "<div>\n",
       "<style scoped>\n",
       "    .dataframe tbody tr th:only-of-type {\n",
       "        vertical-align: middle;\n",
       "    }\n",
       "\n",
       "    .dataframe tbody tr th {\n",
       "        vertical-align: top;\n",
       "    }\n",
       "\n",
       "    .dataframe thead th {\n",
       "        text-align: right;\n",
       "    }\n",
       "</style>\n",
       "<table border=\"1\" class=\"dataframe\">\n",
       "  <thead>\n",
       "    <tr style=\"text-align: right;\">\n",
       "      <th></th>\n",
       "      <th>Country</th>\n",
       "      <th>League</th>\n",
       "      <th>Club</th>\n",
       "      <th>Player Names</th>\n",
       "      <th>Matches_Played</th>\n",
       "      <th>Substitution</th>\n",
       "      <th>Mins</th>\n",
       "      <th>Goals</th>\n",
       "      <th>xG</th>\n",
       "      <th>xG Per Avg Match</th>\n",
       "      <th>Shots</th>\n",
       "      <th>OnTarget</th>\n",
       "      <th>Shots Per Avg Match</th>\n",
       "      <th>On Target Per Avg Match</th>\n",
       "      <th>Year</th>\n",
       "    </tr>\n",
       "  </thead>\n",
       "  <tbody>\n",
       "    <tr>\n",
       "      <th>0</th>\n",
       "      <td>Spain</td>\n",
       "      <td>La Liga</td>\n",
       "      <td>(BET)</td>\n",
       "      <td>Juanmi Callejon</td>\n",
       "      <td>19</td>\n",
       "      <td>16</td>\n",
       "      <td>1849</td>\n",
       "      <td>11</td>\n",
       "      <td>6.62</td>\n",
       "      <td>0.34</td>\n",
       "      <td>48</td>\n",
       "      <td>20</td>\n",
       "      <td>2.47</td>\n",
       "      <td>1.03</td>\n",
       "      <td>2016</td>\n",
       "    </tr>\n",
       "    <tr>\n",
       "      <th>1</th>\n",
       "      <td>Spain</td>\n",
       "      <td>La Liga</td>\n",
       "      <td>(BAR)</td>\n",
       "      <td>Antoine Griezmann</td>\n",
       "      <td>36</td>\n",
       "      <td>0</td>\n",
       "      <td>3129</td>\n",
       "      <td>16</td>\n",
       "      <td>11.86</td>\n",
       "      <td>0.36</td>\n",
       "      <td>88</td>\n",
       "      <td>41</td>\n",
       "      <td>2.67</td>\n",
       "      <td>1.24</td>\n",
       "      <td>2016</td>\n",
       "    </tr>\n",
       "    <tr>\n",
       "      <th>2</th>\n",
       "      <td>Spain</td>\n",
       "      <td>La Liga</td>\n",
       "      <td>(ATL)</td>\n",
       "      <td>Luis Suarez</td>\n",
       "      <td>34</td>\n",
       "      <td>1</td>\n",
       "      <td>2940</td>\n",
       "      <td>28</td>\n",
       "      <td>23.21</td>\n",
       "      <td>0.75</td>\n",
       "      <td>120</td>\n",
       "      <td>57</td>\n",
       "      <td>3.88</td>\n",
       "      <td>1.84</td>\n",
       "      <td>2016</td>\n",
       "    </tr>\n",
       "    <tr>\n",
       "      <th>3</th>\n",
       "      <td>Spain</td>\n",
       "      <td>La Liga</td>\n",
       "      <td>(CAR)</td>\n",
       "      <td>Ruben Castro</td>\n",
       "      <td>32</td>\n",
       "      <td>3</td>\n",
       "      <td>2842</td>\n",
       "      <td>13</td>\n",
       "      <td>14.06</td>\n",
       "      <td>0.47</td>\n",
       "      <td>117</td>\n",
       "      <td>42</td>\n",
       "      <td>3.91</td>\n",
       "      <td>1.40</td>\n",
       "      <td>2016</td>\n",
       "    </tr>\n",
       "    <tr>\n",
       "      <th>4</th>\n",
       "      <td>Spain</td>\n",
       "      <td>La Liga</td>\n",
       "      <td>(VAL)</td>\n",
       "      <td>Kevin Gameiro</td>\n",
       "      <td>21</td>\n",
       "      <td>10</td>\n",
       "      <td>1745</td>\n",
       "      <td>13</td>\n",
       "      <td>10.65</td>\n",
       "      <td>0.58</td>\n",
       "      <td>50</td>\n",
       "      <td>23</td>\n",
       "      <td>2.72</td>\n",
       "      <td>1.25</td>\n",
       "      <td>2016</td>\n",
       "    </tr>\n",
       "  </tbody>\n",
       "</table>\n",
       "</div>"
      ],
      "text/plain": [
       "  Country   League   Club       Player Names  Matches_Played  Substitution   \\\n",
       "0   Spain  La Liga  (BET)    Juanmi Callejon              19             16   \n",
       "1   Spain  La Liga  (BAR)  Antoine Griezmann              36              0   \n",
       "2   Spain  La Liga  (ATL)        Luis Suarez              34              1   \n",
       "3   Spain  La Liga  (CAR)       Ruben Castro              32              3   \n",
       "4   Spain  La Liga  (VAL)      Kevin Gameiro              21             10   \n",
       "\n",
       "   Mins  Goals     xG  xG Per Avg Match  Shots  OnTarget  Shots Per Avg Match  \\\n",
       "0  1849     11   6.62              0.34     48        20                 2.47   \n",
       "1  3129     16  11.86              0.36     88        41                 2.67   \n",
       "2  2940     28  23.21              0.75    120        57                 3.88   \n",
       "3  2842     13  14.06              0.47    117        42                 3.91   \n",
       "4  1745     13  10.65              0.58     50        23                 2.72   \n",
       "\n",
       "   On Target Per Avg Match  Year  \n",
       "0                     1.03  2016  \n",
       "1                     1.24  2016  \n",
       "2                     1.84  2016  \n",
       "3                     1.40  2016  \n",
       "4                     1.25  2016  "
      ]
     },
     "execution_count": 127,
     "metadata": {},
     "output_type": "execute_result"
    }
   ],
   "source": [
    "df = pd.read_csv('Football.csv')\n",
    "df.head()"
   ]
  },
  {
   "cell_type": "code",
   "execution_count": 128,
   "id": "30adf665-6ad3-4084-8905-9c59e4b37498",
   "metadata": {},
   "outputs": [
    {
     "data": {
      "text/html": [
       "<div>\n",
       "<style scoped>\n",
       "    .dataframe tbody tr th:only-of-type {\n",
       "        vertical-align: middle;\n",
       "    }\n",
       "\n",
       "    .dataframe tbody tr th {\n",
       "        vertical-align: top;\n",
       "    }\n",
       "\n",
       "    .dataframe thead th {\n",
       "        text-align: right;\n",
       "    }\n",
       "</style>\n",
       "<table border=\"1\" class=\"dataframe\">\n",
       "  <thead>\n",
       "    <tr style=\"text-align: right;\">\n",
       "      <th></th>\n",
       "      <th>Country</th>\n",
       "      <th>League</th>\n",
       "      <th>Club</th>\n",
       "      <th>Player Names</th>\n",
       "      <th>Matches_Played</th>\n",
       "      <th>Substitution</th>\n",
       "      <th>Mins</th>\n",
       "      <th>Goals</th>\n",
       "      <th>xG</th>\n",
       "      <th>xG Per Avg Match</th>\n",
       "      <th>Shots</th>\n",
       "      <th>OnTarget</th>\n",
       "      <th>Shots Per Avg Match</th>\n",
       "      <th>On Target Per Avg Match</th>\n",
       "      <th>Year</th>\n",
       "    </tr>\n",
       "  </thead>\n",
       "  <tbody>\n",
       "    <tr>\n",
       "      <th>655</th>\n",
       "      <td>Netherlands</td>\n",
       "      <td>Eredivisie</td>\n",
       "      <td>(UTR)</td>\n",
       "      <td>Gyrano Kerk</td>\n",
       "      <td>24</td>\n",
       "      <td>0</td>\n",
       "      <td>2155</td>\n",
       "      <td>10</td>\n",
       "      <td>7.49</td>\n",
       "      <td>0.33</td>\n",
       "      <td>50</td>\n",
       "      <td>18</td>\n",
       "      <td>2.20</td>\n",
       "      <td>0.79</td>\n",
       "      <td>2020</td>\n",
       "    </tr>\n",
       "    <tr>\n",
       "      <th>656</th>\n",
       "      <td>Netherlands</td>\n",
       "      <td>Eredivisie</td>\n",
       "      <td>(AJA)</td>\n",
       "      <td>Quincy Promes</td>\n",
       "      <td>18</td>\n",
       "      <td>2</td>\n",
       "      <td>1573</td>\n",
       "      <td>12</td>\n",
       "      <td>9.77</td>\n",
       "      <td>0.59</td>\n",
       "      <td>56</td>\n",
       "      <td>30</td>\n",
       "      <td>3.38</td>\n",
       "      <td>1.81</td>\n",
       "      <td>2020</td>\n",
       "    </tr>\n",
       "    <tr>\n",
       "      <th>657</th>\n",
       "      <td>Netherlands</td>\n",
       "      <td>Eredivisie</td>\n",
       "      <td>(PSV)</td>\n",
       "      <td>Denzel Dumfries</td>\n",
       "      <td>25</td>\n",
       "      <td>0</td>\n",
       "      <td>2363</td>\n",
       "      <td>7</td>\n",
       "      <td>5.72</td>\n",
       "      <td>0.23</td>\n",
       "      <td>45</td>\n",
       "      <td>14</td>\n",
       "      <td>1.81</td>\n",
       "      <td>0.56</td>\n",
       "      <td>2020</td>\n",
       "    </tr>\n",
       "    <tr>\n",
       "      <th>658</th>\n",
       "      <td>Netherlands</td>\n",
       "      <td>Eredivisie</td>\n",
       "      <td>NaN</td>\n",
       "      <td>Cyriel Dessers</td>\n",
       "      <td>26</td>\n",
       "      <td>0</td>\n",
       "      <td>2461</td>\n",
       "      <td>15</td>\n",
       "      <td>14.51</td>\n",
       "      <td>0.56</td>\n",
       "      <td>84</td>\n",
       "      <td>43</td>\n",
       "      <td>3.24</td>\n",
       "      <td>1.66</td>\n",
       "      <td>2020</td>\n",
       "    </tr>\n",
       "    <tr>\n",
       "      <th>659</th>\n",
       "      <td>Netherlands</td>\n",
       "      <td>Eredivisie</td>\n",
       "      <td>(PSV)</td>\n",
       "      <td>Cody Gakpo</td>\n",
       "      <td>14</td>\n",
       "      <td>11</td>\n",
       "      <td>1557</td>\n",
       "      <td>7</td>\n",
       "      <td>4.43</td>\n",
       "      <td>0.27</td>\n",
       "      <td>38</td>\n",
       "      <td>15</td>\n",
       "      <td>2.32</td>\n",
       "      <td>0.92</td>\n",
       "      <td>2020</td>\n",
       "    </tr>\n",
       "  </tbody>\n",
       "</table>\n",
       "</div>"
      ],
      "text/plain": [
       "          Country      League   Club     Player Names  Matches_Played  \\\n",
       "655   Netherlands  Eredivisie  (UTR)      Gyrano Kerk              24   \n",
       "656   Netherlands  Eredivisie  (AJA)    Quincy Promes              18   \n",
       "657   Netherlands  Eredivisie  (PSV)  Denzel Dumfries              25   \n",
       "658   Netherlands  Eredivisie    NaN  Cyriel Dessers               26   \n",
       "659   Netherlands  Eredivisie  (PSV)       Cody Gakpo              14   \n",
       "\n",
       "     Substitution   Mins  Goals     xG  xG Per Avg Match  Shots  OnTarget  \\\n",
       "655              0  2155     10   7.49              0.33     50        18   \n",
       "656              2  1573     12   9.77              0.59     56        30   \n",
       "657              0  2363      7   5.72              0.23     45        14   \n",
       "658              0  2461     15  14.51              0.56     84        43   \n",
       "659             11  1557      7   4.43              0.27     38        15   \n",
       "\n",
       "     Shots Per Avg Match  On Target Per Avg Match  Year  \n",
       "655                 2.20                     0.79  2020  \n",
       "656                 3.38                     1.81  2020  \n",
       "657                 1.81                     0.56  2020  \n",
       "658                 3.24                     1.66  2020  \n",
       "659                 2.32                     0.92  2020  "
      ]
     },
     "execution_count": 128,
     "metadata": {},
     "output_type": "execute_result"
    }
   ],
   "source": [
    "df.tail()"
   ]
  },
  {
   "cell_type": "code",
   "execution_count": 129,
   "id": "26db6361-825b-44a0-a4c2-18261e43272e",
   "metadata": {},
   "outputs": [
    {
     "name": "stdout",
     "output_type": "stream",
     "text": [
      "<class 'pandas.core.frame.DataFrame'>\n",
      "RangeIndex: 660 entries, 0 to 659\n",
      "Data columns (total 15 columns):\n",
      " #   Column                   Non-Null Count  Dtype  \n",
      "---  ------                   --------------  -----  \n",
      " 0   Country                  660 non-null    object \n",
      " 1   League                   660 non-null    object \n",
      " 2   Club                     626 non-null    object \n",
      " 3   Player Names             660 non-null    object \n",
      " 4   Matches_Played           660 non-null    int64  \n",
      " 5   Substitution             660 non-null    int64  \n",
      " 6   Mins                     660 non-null    int64  \n",
      " 7   Goals                    660 non-null    int64  \n",
      " 8   xG                       660 non-null    float64\n",
      " 9   xG Per Avg Match         660 non-null    float64\n",
      " 10  Shots                    660 non-null    int64  \n",
      " 11  OnTarget                 660 non-null    int64  \n",
      " 12  Shots Per Avg Match      660 non-null    float64\n",
      " 13  On Target Per Avg Match  660 non-null    float64\n",
      " 14  Year                     660 non-null    int64  \n",
      "dtypes: float64(4), int64(7), object(4)\n",
      "memory usage: 77.5+ KB\n"
     ]
    }
   ],
   "source": [
    "df.info()"
   ]
  },
  {
   "cell_type": "code",
   "execution_count": 132,
   "id": "52ce99ee-026c-416a-87fc-18f7eb348870",
   "metadata": {},
   "outputs": [
    {
     "data": {
      "text/html": [
       "<div>\n",
       "<style scoped>\n",
       "    .dataframe tbody tr th:only-of-type {\n",
       "        vertical-align: middle;\n",
       "    }\n",
       "\n",
       "    .dataframe tbody tr th {\n",
       "        vertical-align: top;\n",
       "    }\n",
       "\n",
       "    .dataframe thead th {\n",
       "        text-align: right;\n",
       "    }\n",
       "</style>\n",
       "<table border=\"1\" class=\"dataframe\">\n",
       "  <thead>\n",
       "    <tr style=\"text-align: right;\">\n",
       "      <th></th>\n",
       "      <th>Country</th>\n",
       "      <th>League</th>\n",
       "      <th>Club</th>\n",
       "      <th>Player Names</th>\n",
       "      <th>Matches_Played</th>\n",
       "      <th>Substitution</th>\n",
       "      <th>Mins</th>\n",
       "      <th>Goals</th>\n",
       "      <th>xG</th>\n",
       "      <th>xG Per Avg Match</th>\n",
       "      <th>Shots</th>\n",
       "      <th>OnTarget</th>\n",
       "      <th>Shots Per Avg Match</th>\n",
       "      <th>On Target Per Avg Match</th>\n",
       "      <th>Year</th>\n",
       "    </tr>\n",
       "  </thead>\n",
       "  <tbody>\n",
       "    <tr>\n",
       "      <th>0</th>\n",
       "      <td>False</td>\n",
       "      <td>False</td>\n",
       "      <td>False</td>\n",
       "      <td>False</td>\n",
       "      <td>False</td>\n",
       "      <td>False</td>\n",
       "      <td>False</td>\n",
       "      <td>False</td>\n",
       "      <td>False</td>\n",
       "      <td>False</td>\n",
       "      <td>False</td>\n",
       "      <td>False</td>\n",
       "      <td>False</td>\n",
       "      <td>False</td>\n",
       "      <td>False</td>\n",
       "    </tr>\n",
       "    <tr>\n",
       "      <th>1</th>\n",
       "      <td>False</td>\n",
       "      <td>False</td>\n",
       "      <td>False</td>\n",
       "      <td>False</td>\n",
       "      <td>False</td>\n",
       "      <td>False</td>\n",
       "      <td>False</td>\n",
       "      <td>False</td>\n",
       "      <td>False</td>\n",
       "      <td>False</td>\n",
       "      <td>False</td>\n",
       "      <td>False</td>\n",
       "      <td>False</td>\n",
       "      <td>False</td>\n",
       "      <td>False</td>\n",
       "    </tr>\n",
       "    <tr>\n",
       "      <th>2</th>\n",
       "      <td>False</td>\n",
       "      <td>False</td>\n",
       "      <td>False</td>\n",
       "      <td>False</td>\n",
       "      <td>False</td>\n",
       "      <td>False</td>\n",
       "      <td>False</td>\n",
       "      <td>False</td>\n",
       "      <td>False</td>\n",
       "      <td>False</td>\n",
       "      <td>False</td>\n",
       "      <td>False</td>\n",
       "      <td>False</td>\n",
       "      <td>False</td>\n",
       "      <td>False</td>\n",
       "    </tr>\n",
       "    <tr>\n",
       "      <th>3</th>\n",
       "      <td>False</td>\n",
       "      <td>False</td>\n",
       "      <td>False</td>\n",
       "      <td>False</td>\n",
       "      <td>False</td>\n",
       "      <td>False</td>\n",
       "      <td>False</td>\n",
       "      <td>False</td>\n",
       "      <td>False</td>\n",
       "      <td>False</td>\n",
       "      <td>False</td>\n",
       "      <td>False</td>\n",
       "      <td>False</td>\n",
       "      <td>False</td>\n",
       "      <td>False</td>\n",
       "    </tr>\n",
       "    <tr>\n",
       "      <th>4</th>\n",
       "      <td>False</td>\n",
       "      <td>False</td>\n",
       "      <td>False</td>\n",
       "      <td>False</td>\n",
       "      <td>False</td>\n",
       "      <td>False</td>\n",
       "      <td>False</td>\n",
       "      <td>False</td>\n",
       "      <td>False</td>\n",
       "      <td>False</td>\n",
       "      <td>False</td>\n",
       "      <td>False</td>\n",
       "      <td>False</td>\n",
       "      <td>False</td>\n",
       "      <td>False</td>\n",
       "    </tr>\n",
       "    <tr>\n",
       "      <th>...</th>\n",
       "      <td>...</td>\n",
       "      <td>...</td>\n",
       "      <td>...</td>\n",
       "      <td>...</td>\n",
       "      <td>...</td>\n",
       "      <td>...</td>\n",
       "      <td>...</td>\n",
       "      <td>...</td>\n",
       "      <td>...</td>\n",
       "      <td>...</td>\n",
       "      <td>...</td>\n",
       "      <td>...</td>\n",
       "      <td>...</td>\n",
       "      <td>...</td>\n",
       "      <td>...</td>\n",
       "    </tr>\n",
       "    <tr>\n",
       "      <th>655</th>\n",
       "      <td>False</td>\n",
       "      <td>False</td>\n",
       "      <td>False</td>\n",
       "      <td>False</td>\n",
       "      <td>False</td>\n",
       "      <td>False</td>\n",
       "      <td>False</td>\n",
       "      <td>False</td>\n",
       "      <td>False</td>\n",
       "      <td>False</td>\n",
       "      <td>False</td>\n",
       "      <td>False</td>\n",
       "      <td>False</td>\n",
       "      <td>False</td>\n",
       "      <td>False</td>\n",
       "    </tr>\n",
       "    <tr>\n",
       "      <th>656</th>\n",
       "      <td>False</td>\n",
       "      <td>False</td>\n",
       "      <td>False</td>\n",
       "      <td>False</td>\n",
       "      <td>False</td>\n",
       "      <td>False</td>\n",
       "      <td>False</td>\n",
       "      <td>False</td>\n",
       "      <td>False</td>\n",
       "      <td>False</td>\n",
       "      <td>False</td>\n",
       "      <td>False</td>\n",
       "      <td>False</td>\n",
       "      <td>False</td>\n",
       "      <td>False</td>\n",
       "    </tr>\n",
       "    <tr>\n",
       "      <th>657</th>\n",
       "      <td>False</td>\n",
       "      <td>False</td>\n",
       "      <td>False</td>\n",
       "      <td>False</td>\n",
       "      <td>False</td>\n",
       "      <td>False</td>\n",
       "      <td>False</td>\n",
       "      <td>False</td>\n",
       "      <td>False</td>\n",
       "      <td>False</td>\n",
       "      <td>False</td>\n",
       "      <td>False</td>\n",
       "      <td>False</td>\n",
       "      <td>False</td>\n",
       "      <td>False</td>\n",
       "    </tr>\n",
       "    <tr>\n",
       "      <th>658</th>\n",
       "      <td>False</td>\n",
       "      <td>False</td>\n",
       "      <td>True</td>\n",
       "      <td>False</td>\n",
       "      <td>False</td>\n",
       "      <td>False</td>\n",
       "      <td>False</td>\n",
       "      <td>False</td>\n",
       "      <td>False</td>\n",
       "      <td>False</td>\n",
       "      <td>False</td>\n",
       "      <td>False</td>\n",
       "      <td>False</td>\n",
       "      <td>False</td>\n",
       "      <td>False</td>\n",
       "    </tr>\n",
       "    <tr>\n",
       "      <th>659</th>\n",
       "      <td>False</td>\n",
       "      <td>False</td>\n",
       "      <td>False</td>\n",
       "      <td>False</td>\n",
       "      <td>False</td>\n",
       "      <td>False</td>\n",
       "      <td>False</td>\n",
       "      <td>False</td>\n",
       "      <td>False</td>\n",
       "      <td>False</td>\n",
       "      <td>False</td>\n",
       "      <td>False</td>\n",
       "      <td>False</td>\n",
       "      <td>False</td>\n",
       "      <td>False</td>\n",
       "    </tr>\n",
       "  </tbody>\n",
       "</table>\n",
       "<p>660 rows × 15 columns</p>\n",
       "</div>"
      ],
      "text/plain": [
       "     Country  League   Club  Player Names  Matches_Played  Substitution   \\\n",
       "0      False   False  False         False           False          False   \n",
       "1      False   False  False         False           False          False   \n",
       "2      False   False  False         False           False          False   \n",
       "3      False   False  False         False           False          False   \n",
       "4      False   False  False         False           False          False   \n",
       "..       ...     ...    ...           ...             ...            ...   \n",
       "655    False   False  False         False           False          False   \n",
       "656    False   False  False         False           False          False   \n",
       "657    False   False  False         False           False          False   \n",
       "658    False   False   True         False           False          False   \n",
       "659    False   False  False         False           False          False   \n",
       "\n",
       "      Mins  Goals     xG  xG Per Avg Match  Shots  OnTarget  \\\n",
       "0    False  False  False             False  False     False   \n",
       "1    False  False  False             False  False     False   \n",
       "2    False  False  False             False  False     False   \n",
       "3    False  False  False             False  False     False   \n",
       "4    False  False  False             False  False     False   \n",
       "..     ...    ...    ...               ...    ...       ...   \n",
       "655  False  False  False             False  False     False   \n",
       "656  False  False  False             False  False     False   \n",
       "657  False  False  False             False  False     False   \n",
       "658  False  False  False             False  False     False   \n",
       "659  False  False  False             False  False     False   \n",
       "\n",
       "     Shots Per Avg Match  On Target Per Avg Match   Year  \n",
       "0                  False                    False  False  \n",
       "1                  False                    False  False  \n",
       "2                  False                    False  False  \n",
       "3                  False                    False  False  \n",
       "4                  False                    False  False  \n",
       "..                   ...                      ...    ...  \n",
       "655                False                    False  False  \n",
       "656                False                    False  False  \n",
       "657                False                    False  False  \n",
       "658                False                    False  False  \n",
       "659                False                    False  False  \n",
       "\n",
       "[660 rows x 15 columns]"
      ]
     },
     "execution_count": 132,
     "metadata": {},
     "output_type": "execute_result"
    }
   ],
   "source": [
    "df.isnull()"
   ]
  },
  {
   "cell_type": "code",
   "execution_count": 133,
   "id": "dcaf0e1e-ed00-4490-a60f-80da99425100",
   "metadata": {},
   "outputs": [
    {
     "data": {
      "text/plain": [
       "Country                     0\n",
       "League                      0\n",
       "Club                       34\n",
       "Player Names                0\n",
       "Matches_Played              0\n",
       "Substitution                0\n",
       "Mins                        0\n",
       "Goals                       0\n",
       "xG                          0\n",
       "xG Per Avg Match            0\n",
       "Shots                       0\n",
       "OnTarget                    0\n",
       "Shots Per Avg Match         0\n",
       "On Target Per Avg Match     0\n",
       "Year                        0\n",
       "dtype: int64"
      ]
     },
     "execution_count": 133,
     "metadata": {},
     "output_type": "execute_result"
    }
   ],
   "source": [
    "df.isnull().sum()"
   ]
  },
  {
   "cell_type": "code",
   "execution_count": 135,
   "id": "c72fce59-5650-484b-9db2-0e39c02e273b",
   "metadata": {},
   "outputs": [
    {
     "data": {
      "text/html": [
       "<div>\n",
       "<style scoped>\n",
       "    .dataframe tbody tr th:only-of-type {\n",
       "        vertical-align: middle;\n",
       "    }\n",
       "\n",
       "    .dataframe tbody tr th {\n",
       "        vertical-align: top;\n",
       "    }\n",
       "\n",
       "    .dataframe thead th {\n",
       "        text-align: right;\n",
       "    }\n",
       "</style>\n",
       "<table border=\"1\" class=\"dataframe\">\n",
       "  <thead>\n",
       "    <tr style=\"text-align: right;\">\n",
       "      <th></th>\n",
       "      <th>Matches_Played</th>\n",
       "      <th>Substitution</th>\n",
       "      <th>Mins</th>\n",
       "      <th>Goals</th>\n",
       "      <th>xG</th>\n",
       "      <th>xG Per Avg Match</th>\n",
       "      <th>Shots</th>\n",
       "      <th>OnTarget</th>\n",
       "      <th>Shots Per Avg Match</th>\n",
       "      <th>On Target Per Avg Match</th>\n",
       "      <th>Year</th>\n",
       "    </tr>\n",
       "  </thead>\n",
       "  <tbody>\n",
       "    <tr>\n",
       "      <th>count</th>\n",
       "      <td>660.000000</td>\n",
       "      <td>660.000000</td>\n",
       "      <td>660.000000</td>\n",
       "      <td>660.000000</td>\n",
       "      <td>660.000000</td>\n",
       "      <td>660.000000</td>\n",
       "      <td>660.000000</td>\n",
       "      <td>660.000000</td>\n",
       "      <td>660.000000</td>\n",
       "      <td>660.000000</td>\n",
       "      <td>660.000000</td>\n",
       "    </tr>\n",
       "    <tr>\n",
       "      <th>mean</th>\n",
       "      <td>22.371212</td>\n",
       "      <td>3.224242</td>\n",
       "      <td>2071.416667</td>\n",
       "      <td>11.810606</td>\n",
       "      <td>10.089606</td>\n",
       "      <td>0.476167</td>\n",
       "      <td>64.177273</td>\n",
       "      <td>28.365152</td>\n",
       "      <td>2.948015</td>\n",
       "      <td>1.315652</td>\n",
       "      <td>2018.363636</td>\n",
       "    </tr>\n",
       "    <tr>\n",
       "      <th>std</th>\n",
       "      <td>9.754658</td>\n",
       "      <td>3.839498</td>\n",
       "      <td>900.595049</td>\n",
       "      <td>6.075315</td>\n",
       "      <td>5.724844</td>\n",
       "      <td>0.192831</td>\n",
       "      <td>34.941622</td>\n",
       "      <td>16.363149</td>\n",
       "      <td>0.914906</td>\n",
       "      <td>0.474239</td>\n",
       "      <td>1.367700</td>\n",
       "    </tr>\n",
       "    <tr>\n",
       "      <th>min</th>\n",
       "      <td>2.000000</td>\n",
       "      <td>0.000000</td>\n",
       "      <td>264.000000</td>\n",
       "      <td>2.000000</td>\n",
       "      <td>0.710000</td>\n",
       "      <td>0.070000</td>\n",
       "      <td>5.000000</td>\n",
       "      <td>2.000000</td>\n",
       "      <td>0.800000</td>\n",
       "      <td>0.240000</td>\n",
       "      <td>2016.000000</td>\n",
       "    </tr>\n",
       "    <tr>\n",
       "      <th>50%</th>\n",
       "      <td>24.000000</td>\n",
       "      <td>2.000000</td>\n",
       "      <td>2245.500000</td>\n",
       "      <td>11.000000</td>\n",
       "      <td>9.285000</td>\n",
       "      <td>0.435000</td>\n",
       "      <td>62.000000</td>\n",
       "      <td>26.000000</td>\n",
       "      <td>2.845000</td>\n",
       "      <td>1.250000</td>\n",
       "      <td>2019.000000</td>\n",
       "    </tr>\n",
       "    <tr>\n",
       "      <th>80%</th>\n",
       "      <td>32.000000</td>\n",
       "      <td>6.000000</td>\n",
       "      <td>2915.800000</td>\n",
       "      <td>15.000000</td>\n",
       "      <td>14.076000</td>\n",
       "      <td>0.610000</td>\n",
       "      <td>90.000000</td>\n",
       "      <td>39.000000</td>\n",
       "      <td>3.600000</td>\n",
       "      <td>1.630000</td>\n",
       "      <td>2020.000000</td>\n",
       "    </tr>\n",
       "    <tr>\n",
       "      <th>max</th>\n",
       "      <td>38.000000</td>\n",
       "      <td>26.000000</td>\n",
       "      <td>4177.000000</td>\n",
       "      <td>42.000000</td>\n",
       "      <td>32.540000</td>\n",
       "      <td>1.350000</td>\n",
       "      <td>208.000000</td>\n",
       "      <td>102.000000</td>\n",
       "      <td>7.200000</td>\n",
       "      <td>3.630000</td>\n",
       "      <td>2020.000000</td>\n",
       "    </tr>\n",
       "  </tbody>\n",
       "</table>\n",
       "</div>"
      ],
      "text/plain": [
       "       Matches_Played  Substitution          Mins       Goals          xG  \\\n",
       "count      660.000000     660.000000   660.000000  660.000000  660.000000   \n",
       "mean        22.371212       3.224242  2071.416667   11.810606   10.089606   \n",
       "std          9.754658       3.839498   900.595049    6.075315    5.724844   \n",
       "min          2.000000       0.000000   264.000000    2.000000    0.710000   \n",
       "50%         24.000000       2.000000  2245.500000   11.000000    9.285000   \n",
       "80%         32.000000       6.000000  2915.800000   15.000000   14.076000   \n",
       "max         38.000000      26.000000  4177.000000   42.000000   32.540000   \n",
       "\n",
       "       xG Per Avg Match       Shots    OnTarget  Shots Per Avg Match  \\\n",
       "count        660.000000  660.000000  660.000000           660.000000   \n",
       "mean           0.476167   64.177273   28.365152             2.948015   \n",
       "std            0.192831   34.941622   16.363149             0.914906   \n",
       "min            0.070000    5.000000    2.000000             0.800000   \n",
       "50%            0.435000   62.000000   26.000000             2.845000   \n",
       "80%            0.610000   90.000000   39.000000             3.600000   \n",
       "max            1.350000  208.000000  102.000000             7.200000   \n",
       "\n",
       "       On Target Per Avg Match         Year  \n",
       "count               660.000000   660.000000  \n",
       "mean                  1.315652  2018.363636  \n",
       "std                   0.474239     1.367700  \n",
       "min                   0.240000  2016.000000  \n",
       "50%                   1.250000  2019.000000  \n",
       "80%                   1.630000  2020.000000  \n",
       "max                   3.630000  2020.000000  "
      ]
     },
     "execution_count": 135,
     "metadata": {},
     "output_type": "execute_result"
    }
   ],
   "source": [
    "df.describe(percentiles = [.80])"
   ]
  },
  {
   "cell_type": "code",
   "execution_count": 136,
   "id": "3440a3a5-6220-4959-881d-3d98d0b6f010",
   "metadata": {},
   "outputs": [
    {
     "data": {
      "text/plain": [
       "2915.8"
      ]
     },
     "execution_count": 136,
     "metadata": {},
     "output_type": "execute_result"
    }
   ],
   "source": [
    "df['Mins'].quantile(.80)"
   ]
  },
  {
   "cell_type": "code",
   "execution_count": 137,
   "id": "f231e1e7-1374-434c-a45b-6621be06ca3c",
   "metadata": {},
   "outputs": [
    {
     "data": {
      "text/html": [
       "<div>\n",
       "<style scoped>\n",
       "    .dataframe tbody tr th:only-of-type {\n",
       "        vertical-align: middle;\n",
       "    }\n",
       "\n",
       "    .dataframe tbody tr th {\n",
       "        vertical-align: top;\n",
       "    }\n",
       "\n",
       "    .dataframe thead th {\n",
       "        text-align: right;\n",
       "    }\n",
       "</style>\n",
       "<table border=\"1\" class=\"dataframe\">\n",
       "  <thead>\n",
       "    <tr style=\"text-align: right;\">\n",
       "      <th></th>\n",
       "      <th>Country</th>\n",
       "      <th>League</th>\n",
       "      <th>Club</th>\n",
       "      <th>Player Names</th>\n",
       "      <th>Matches_Played</th>\n",
       "      <th>Substitution</th>\n",
       "      <th>Mins</th>\n",
       "      <th>Goals</th>\n",
       "      <th>xG</th>\n",
       "      <th>xG Per Avg Match</th>\n",
       "      <th>Shots</th>\n",
       "      <th>OnTarget</th>\n",
       "      <th>Shots Per Avg Match</th>\n",
       "      <th>On Target Per Avg Match</th>\n",
       "      <th>Year</th>\n",
       "    </tr>\n",
       "  </thead>\n",
       "  <tbody>\n",
       "    <tr>\n",
       "      <th>0</th>\n",
       "      <td>Spain</td>\n",
       "      <td>La Liga</td>\n",
       "      <td>(BET)</td>\n",
       "      <td>Juanmi Callejon</td>\n",
       "      <td>19</td>\n",
       "      <td>16</td>\n",
       "      <td>1849</td>\n",
       "      <td>11</td>\n",
       "      <td>6.62</td>\n",
       "      <td>0.34</td>\n",
       "      <td>48</td>\n",
       "      <td>20</td>\n",
       "      <td>2.47</td>\n",
       "      <td>1.03</td>\n",
       "      <td>2016</td>\n",
       "    </tr>\n",
       "    <tr>\n",
       "      <th>1</th>\n",
       "      <td>Spain</td>\n",
       "      <td>La Liga</td>\n",
       "      <td>(BAR)</td>\n",
       "      <td>Antoine Griezmann</td>\n",
       "      <td>36</td>\n",
       "      <td>0</td>\n",
       "      <td>3129</td>\n",
       "      <td>16</td>\n",
       "      <td>11.86</td>\n",
       "      <td>0.36</td>\n",
       "      <td>88</td>\n",
       "      <td>41</td>\n",
       "      <td>2.67</td>\n",
       "      <td>1.24</td>\n",
       "      <td>2016</td>\n",
       "    </tr>\n",
       "    <tr>\n",
       "      <th>2</th>\n",
       "      <td>Spain</td>\n",
       "      <td>La Liga</td>\n",
       "      <td>(ATL)</td>\n",
       "      <td>Luis Suarez</td>\n",
       "      <td>34</td>\n",
       "      <td>1</td>\n",
       "      <td>2940</td>\n",
       "      <td>28</td>\n",
       "      <td>23.21</td>\n",
       "      <td>0.75</td>\n",
       "      <td>120</td>\n",
       "      <td>57</td>\n",
       "      <td>3.88</td>\n",
       "      <td>1.84</td>\n",
       "      <td>2016</td>\n",
       "    </tr>\n",
       "  </tbody>\n",
       "</table>\n",
       "</div>"
      ],
      "text/plain": [
       "  Country   League   Club       Player Names  Matches_Played  Substitution   \\\n",
       "0   Spain  La Liga  (BET)    Juanmi Callejon              19             16   \n",
       "1   Spain  La Liga  (BAR)  Antoine Griezmann              36              0   \n",
       "2   Spain  La Liga  (ATL)        Luis Suarez              34              1   \n",
       "\n",
       "   Mins  Goals     xG  xG Per Avg Match  Shots  OnTarget  Shots Per Avg Match  \\\n",
       "0  1849     11   6.62              0.34     48        20                 2.47   \n",
       "1  3129     16  11.86              0.36     88        41                 2.67   \n",
       "2  2940     28  23.21              0.75    120        57                 3.88   \n",
       "\n",
       "   On Target Per Avg Match  Year  \n",
       "0                     1.03  2016  \n",
       "1                     1.24  2016  \n",
       "2                     1.84  2016  "
      ]
     },
     "execution_count": 137,
     "metadata": {},
     "output_type": "execute_result"
    }
   ],
   "source": [
    "de = df.copy()\n",
    "de.head(3)"
   ]
  },
  {
   "cell_type": "code",
   "execution_count": 138,
   "id": "b9557fd8-9e03-4318-ab7f-9eaf7c57240a",
   "metadata": {},
   "outputs": [
    {
     "data": {
      "text/html": [
       "<div>\n",
       "<style scoped>\n",
       "    .dataframe tbody tr th:only-of-type {\n",
       "        vertical-align: middle;\n",
       "    }\n",
       "\n",
       "    .dataframe tbody tr th {\n",
       "        vertical-align: top;\n",
       "    }\n",
       "\n",
       "    .dataframe thead th {\n",
       "        text-align: right;\n",
       "    }\n",
       "</style>\n",
       "<table border=\"1\" class=\"dataframe\">\n",
       "  <thead>\n",
       "    <tr style=\"text-align: right;\">\n",
       "      <th></th>\n",
       "      <th>Country</th>\n",
       "      <th>League</th>\n",
       "      <th>Club</th>\n",
       "      <th>Player Names</th>\n",
       "      <th>Matches_Played</th>\n",
       "      <th>Substitution</th>\n",
       "      <th>Mins</th>\n",
       "      <th>Goals</th>\n",
       "      <th>xG</th>\n",
       "      <th>xG Per Avg Match</th>\n",
       "      <th>Shots</th>\n",
       "      <th>OnTarget</th>\n",
       "      <th>Shots Per Avg Match</th>\n",
       "      <th>On Target Per Avg Match</th>\n",
       "      <th>Year</th>\n",
       "      <th>Year+100</th>\n",
       "    </tr>\n",
       "  </thead>\n",
       "  <tbody>\n",
       "    <tr>\n",
       "      <th>0</th>\n",
       "      <td>Spain</td>\n",
       "      <td>La Liga</td>\n",
       "      <td>(BET)</td>\n",
       "      <td>Juanmi Callejon</td>\n",
       "      <td>19</td>\n",
       "      <td>16</td>\n",
       "      <td>1849</td>\n",
       "      <td>11</td>\n",
       "      <td>6.62</td>\n",
       "      <td>0.34</td>\n",
       "      <td>48</td>\n",
       "      <td>20</td>\n",
       "      <td>2.47</td>\n",
       "      <td>1.03</td>\n",
       "      <td>2016</td>\n",
       "      <td>2116</td>\n",
       "    </tr>\n",
       "    <tr>\n",
       "      <th>1</th>\n",
       "      <td>Spain</td>\n",
       "      <td>La Liga</td>\n",
       "      <td>(BAR)</td>\n",
       "      <td>Antoine Griezmann</td>\n",
       "      <td>36</td>\n",
       "      <td>0</td>\n",
       "      <td>3129</td>\n",
       "      <td>16</td>\n",
       "      <td>11.86</td>\n",
       "      <td>0.36</td>\n",
       "      <td>88</td>\n",
       "      <td>41</td>\n",
       "      <td>2.67</td>\n",
       "      <td>1.24</td>\n",
       "      <td>2016</td>\n",
       "      <td>2116</td>\n",
       "    </tr>\n",
       "    <tr>\n",
       "      <th>2</th>\n",
       "      <td>Spain</td>\n",
       "      <td>La Liga</td>\n",
       "      <td>(ATL)</td>\n",
       "      <td>Luis Suarez</td>\n",
       "      <td>34</td>\n",
       "      <td>1</td>\n",
       "      <td>2940</td>\n",
       "      <td>28</td>\n",
       "      <td>23.21</td>\n",
       "      <td>0.75</td>\n",
       "      <td>120</td>\n",
       "      <td>57</td>\n",
       "      <td>3.88</td>\n",
       "      <td>1.84</td>\n",
       "      <td>2016</td>\n",
       "      <td>2116</td>\n",
       "    </tr>\n",
       "    <tr>\n",
       "      <th>3</th>\n",
       "      <td>Spain</td>\n",
       "      <td>La Liga</td>\n",
       "      <td>(CAR)</td>\n",
       "      <td>Ruben Castro</td>\n",
       "      <td>32</td>\n",
       "      <td>3</td>\n",
       "      <td>2842</td>\n",
       "      <td>13</td>\n",
       "      <td>14.06</td>\n",
       "      <td>0.47</td>\n",
       "      <td>117</td>\n",
       "      <td>42</td>\n",
       "      <td>3.91</td>\n",
       "      <td>1.40</td>\n",
       "      <td>2016</td>\n",
       "      <td>2116</td>\n",
       "    </tr>\n",
       "    <tr>\n",
       "      <th>4</th>\n",
       "      <td>Spain</td>\n",
       "      <td>La Liga</td>\n",
       "      <td>(VAL)</td>\n",
       "      <td>Kevin Gameiro</td>\n",
       "      <td>21</td>\n",
       "      <td>10</td>\n",
       "      <td>1745</td>\n",
       "      <td>13</td>\n",
       "      <td>10.65</td>\n",
       "      <td>0.58</td>\n",
       "      <td>50</td>\n",
       "      <td>23</td>\n",
       "      <td>2.72</td>\n",
       "      <td>1.25</td>\n",
       "      <td>2016</td>\n",
       "      <td>2116</td>\n",
       "    </tr>\n",
       "  </tbody>\n",
       "</table>\n",
       "</div>"
      ],
      "text/plain": [
       "  Country   League   Club       Player Names  Matches_Played  Substitution   \\\n",
       "0   Spain  La Liga  (BET)    Juanmi Callejon              19             16   \n",
       "1   Spain  La Liga  (BAR)  Antoine Griezmann              36              0   \n",
       "2   Spain  La Liga  (ATL)        Luis Suarez              34              1   \n",
       "3   Spain  La Liga  (CAR)       Ruben Castro              32              3   \n",
       "4   Spain  La Liga  (VAL)      Kevin Gameiro              21             10   \n",
       "\n",
       "   Mins  Goals     xG  xG Per Avg Match  Shots  OnTarget  Shots Per Avg Match  \\\n",
       "0  1849     11   6.62              0.34     48        20                 2.47   \n",
       "1  3129     16  11.86              0.36     88        41                 2.67   \n",
       "2  2940     28  23.21              0.75    120        57                 3.88   \n",
       "3  2842     13  14.06              0.47    117        42                 3.91   \n",
       "4  1745     13  10.65              0.58     50        23                 2.72   \n",
       "\n",
       "   On Target Per Avg Match  Year  Year+100  \n",
       "0                     1.03  2016      2116  \n",
       "1                     1.24  2016      2116  \n",
       "2                     1.84  2016      2116  \n",
       "3                     1.40  2016      2116  \n",
       "4                     1.25  2016      2116  "
      ]
     },
     "execution_count": 138,
     "metadata": {},
     "output_type": "execute_result"
    }
   ],
   "source": [
    "de['Year+100'] = de['Year'] + 100\n",
    "de.head()"
   ]
  },
  {
   "cell_type": "code",
   "execution_count": 139,
   "id": "c0617ca2-62b7-4122-9d60-ae3e73fb26d7",
   "metadata": {},
   "outputs": [
    {
     "data": {
      "text/html": [
       "<div>\n",
       "<style scoped>\n",
       "    .dataframe tbody tr th:only-of-type {\n",
       "        vertical-align: middle;\n",
       "    }\n",
       "\n",
       "    .dataframe tbody tr th {\n",
       "        vertical-align: top;\n",
       "    }\n",
       "\n",
       "    .dataframe thead th {\n",
       "        text-align: right;\n",
       "    }\n",
       "</style>\n",
       "<table border=\"1\" class=\"dataframe\">\n",
       "  <thead>\n",
       "    <tr style=\"text-align: right;\">\n",
       "      <th></th>\n",
       "      <th>Country</th>\n",
       "      <th>League</th>\n",
       "      <th>Club</th>\n",
       "      <th>Player Names</th>\n",
       "      <th>Matches_Played</th>\n",
       "      <th>Substitution</th>\n",
       "      <th>Mins</th>\n",
       "      <th>Goals</th>\n",
       "      <th>xG</th>\n",
       "      <th>xG Per Avg Match</th>\n",
       "      <th>Shots</th>\n",
       "      <th>OnTarget</th>\n",
       "      <th>Shots Per Avg Match</th>\n",
       "      <th>On Target Per Avg Match</th>\n",
       "      <th>Year</th>\n",
       "    </tr>\n",
       "  </thead>\n",
       "  <tbody>\n",
       "    <tr>\n",
       "      <th>0</th>\n",
       "      <td>Spain</td>\n",
       "      <td>La Liga</td>\n",
       "      <td>(BET)</td>\n",
       "      <td>Juanmi Callejon</td>\n",
       "      <td>19</td>\n",
       "      <td>16</td>\n",
       "      <td>1849</td>\n",
       "      <td>11</td>\n",
       "      <td>6.62</td>\n",
       "      <td>0.34</td>\n",
       "      <td>48</td>\n",
       "      <td>20</td>\n",
       "      <td>2.47</td>\n",
       "      <td>1.03</td>\n",
       "      <td>2016</td>\n",
       "    </tr>\n",
       "    <tr>\n",
       "      <th>1</th>\n",
       "      <td>Spain</td>\n",
       "      <td>La Liga</td>\n",
       "      <td>(BAR)</td>\n",
       "      <td>Antoine Griezmann</td>\n",
       "      <td>36</td>\n",
       "      <td>0</td>\n",
       "      <td>3129</td>\n",
       "      <td>16</td>\n",
       "      <td>11.86</td>\n",
       "      <td>0.36</td>\n",
       "      <td>88</td>\n",
       "      <td>41</td>\n",
       "      <td>2.67</td>\n",
       "      <td>1.24</td>\n",
       "      <td>2016</td>\n",
       "    </tr>\n",
       "    <tr>\n",
       "      <th>2</th>\n",
       "      <td>Spain</td>\n",
       "      <td>La Liga</td>\n",
       "      <td>(ATL)</td>\n",
       "      <td>Luis Suarez</td>\n",
       "      <td>34</td>\n",
       "      <td>1</td>\n",
       "      <td>2940</td>\n",
       "      <td>28</td>\n",
       "      <td>23.21</td>\n",
       "      <td>0.75</td>\n",
       "      <td>120</td>\n",
       "      <td>57</td>\n",
       "      <td>3.88</td>\n",
       "      <td>1.84</td>\n",
       "      <td>2016</td>\n",
       "    </tr>\n",
       "    <tr>\n",
       "      <th>3</th>\n",
       "      <td>Spain</td>\n",
       "      <td>La Liga</td>\n",
       "      <td>(CAR)</td>\n",
       "      <td>Ruben Castro</td>\n",
       "      <td>32</td>\n",
       "      <td>3</td>\n",
       "      <td>2842</td>\n",
       "      <td>13</td>\n",
       "      <td>14.06</td>\n",
       "      <td>0.47</td>\n",
       "      <td>117</td>\n",
       "      <td>42</td>\n",
       "      <td>3.91</td>\n",
       "      <td>1.40</td>\n",
       "      <td>2016</td>\n",
       "    </tr>\n",
       "    <tr>\n",
       "      <th>4</th>\n",
       "      <td>Spain</td>\n",
       "      <td>La Liga</td>\n",
       "      <td>(VAL)</td>\n",
       "      <td>Kevin Gameiro</td>\n",
       "      <td>21</td>\n",
       "      <td>10</td>\n",
       "      <td>1745</td>\n",
       "      <td>13</td>\n",
       "      <td>10.65</td>\n",
       "      <td>0.58</td>\n",
       "      <td>50</td>\n",
       "      <td>23</td>\n",
       "      <td>2.72</td>\n",
       "      <td>1.25</td>\n",
       "      <td>2016</td>\n",
       "    </tr>\n",
       "  </tbody>\n",
       "</table>\n",
       "</div>"
      ],
      "text/plain": [
       "  Country   League   Club       Player Names  Matches_Played  Substitution   \\\n",
       "0   Spain  La Liga  (BET)    Juanmi Callejon              19             16   \n",
       "1   Spain  La Liga  (BAR)  Antoine Griezmann              36              0   \n",
       "2   Spain  La Liga  (ATL)        Luis Suarez              34              1   \n",
       "3   Spain  La Liga  (CAR)       Ruben Castro              32              3   \n",
       "4   Spain  La Liga  (VAL)      Kevin Gameiro              21             10   \n",
       "\n",
       "   Mins  Goals     xG  xG Per Avg Match  Shots  OnTarget  Shots Per Avg Match  \\\n",
       "0  1849     11   6.62              0.34     48        20                 2.47   \n",
       "1  3129     16  11.86              0.36     88        41                 2.67   \n",
       "2  2940     28  23.21              0.75    120        57                 3.88   \n",
       "3  2842     13  14.06              0.47    117        42                 3.91   \n",
       "4  1745     13  10.65              0.58     50        23                 2.72   \n",
       "\n",
       "   On Target Per Avg Match  Year  \n",
       "0                     1.03  2016  \n",
       "1                     1.24  2016  \n",
       "2                     1.84  2016  \n",
       "3                     1.40  2016  \n",
       "4                     1.25  2016  "
      ]
     },
     "execution_count": 139,
     "metadata": {},
     "output_type": "execute_result"
    }
   ],
   "source": [
    "df.head()"
   ]
  },
  {
   "cell_type": "code",
   "execution_count": 140,
   "id": "b907b655-bbcf-4478-aa30-b1057fdbeecf",
   "metadata": {},
   "outputs": [
    {
     "data": {
      "text/plain": [
       "Player Names\n",
       "Andrea Belotti     5\n",
       "Lionel Messi       5\n",
       "Luis Suarez        5\n",
       "Andrej Kramaric    5\n",
       "Ciro Immobile      5\n",
       "                  ..\n",
       "Francois Kamano    1\n",
       "Lebo Mothiba       1\n",
       "Gaetan Laborde     1\n",
       "Falcao             1\n",
       "Cody Gakpo         1\n",
       "Name: count, Length: 444, dtype: int64"
      ]
     },
     "execution_count": 140,
     "metadata": {},
     "output_type": "execute_result"
    }
   ],
   "source": [
    "df['Player Names'].value_counts()"
   ]
  },
  {
   "cell_type": "code",
   "execution_count": 141,
   "id": "de444acf-f81a-4419-a2d3-5bd0efec9781",
   "metadata": {},
   "outputs": [
    {
     "data": {
      "text/plain": [
       "array(['Juanmi Callejon', 'Antoine Griezmann', 'Luis Suarez',\n",
       "       'Ruben Castro', 'Kevin Gameiro', 'Cristiano Ronaldo',\n",
       "       'Karim Benzema', 'Neymar ', 'Iago Aspas', 'Sergi Enrich',\n",
       "       'Aduriz ', 'Sandro Ramlrez', 'Lionel Messi', 'Gerard Moreno',\n",
       "       'Morata', 'Wissam Ben Yedder', 'Willian Jose', 'Andone ',\n",
       "       'Cedric Bakambu', 'Isco', 'Mohamed Salah', 'Gregoire Defrel',\n",
       "       'Ciro Immobile', 'Nikola Kalinic', 'Dries Mertens',\n",
       "       'Alejandro Gomez', 'Jose CallejOn', 'Iago Falque',\n",
       "       'Giovanni Simeone', 'Mauro Icardi', 'Diego Falcinelli',\n",
       "       'Cyril Thereau', 'Edin Dzeko', 'Lorenzo Insigne',\n",
       "       'Fabio Quagliarella', 'Borriello ', 'Carlos Bacca',\n",
       "       'Gonzalo Higuain', 'Keita Balde', 'Andrea Belotti', 'Fin Bartels',\n",
       "       'Lars Stindl', 'Serge Gnabry', 'Wagner ', 'Andrej Kramaric',\n",
       "       'Florian Niederlechner', 'Robert Lewandowski', 'Emil Forsberg',\n",
       "       'Timo Werner', 'Nils Petersen', 'Vedad Ibisevic', 'Mario Gomez',\n",
       "       'Maximilian Philipp', 'A\\x81dam Szalai',\n",
       "       'Pierre-Emerick Aubameyang', 'Guido Burgstaller', 'Max Kruse',\n",
       "       'Chicharito ', 'Anthony Modeste', 'Arjen Robben', 'Alexis Sanchez',\n",
       "       'Romelu Lukaku', 'Harry Kane', 'Jamie Vardy', 'Christian Benteke',\n",
       "       'Pedro None', 'Eden Hazard', 'Roberto Firmino', 'Sadio Mane',\n",
       "       'Philippe Coutinho', 'Diego Costa', 'Dele Alli', 'Sergio Aguero',\n",
       "       'Jermain Defoe', 'Fernando Llorente', 'Michail Antonio',\n",
       "       'Zlatan Ibrahimovic', 'Olivier Giroud', 'Son Heung-Min',\n",
       "       'Joshua King', 'Diego Souza', 'Pablo ', 'Robinho ', 'Kempes ',\n",
       "       'Gabriel Jesus', 'Bruno Rangel ', 'Rogerio ', 'Vitor Bueno',\n",
       "       'Marinho ', 'Grafite ', 'Andres Chavez', 'Cicero Semedo', 'Sassa',\n",
       "       'Giorgian de Arrascaeta', 'Keno ', 'Fred ', 'Kleber Gladiador',\n",
       "       'Pottker ', 'Jonathan Copete', 'Ricardo Oliveira',\n",
       "       'Angel Rodriguez', 'Gareth Bale', 'Rodrigo None', 'Sergio Leon',\n",
       "       'Maxi Gomez', 'Mikel Oyarzabal', 'Willian Josa', 'Simone Zaza',\n",
       "       'Portu ', 'Cristhian Stuani', 'Santi Mina', 'Morales ', 'Munir ',\n",
       "       'Jose Callejon', 'Sergej Milinkovic-Savic', 'Duvan Zapata',\n",
       "       'Paulo Dybala', 'Mirco Antenucci', 'Luis Alberto',\n",
       "       'Roberto Inglese', 'Josip Ilicic', 'Ivan Perisic',\n",
       "       'Leonardo Pavoletti', 'Kevin Lasagna', 'Niclas Fullkrug',\n",
       "       'Salomon Kalou', 'Thorgan Hazard', 'Jean-Kevin Augustin',\n",
       "       'Sandro Wagner ', 'Leon Bailey', 'Daniel Didavi',\n",
       "       'Alfred Finnbogason', 'Davie Selke', 'Mark Uth',\n",
       "       'Michael Gregoritsch', 'Julian Brandt', 'Kevin Volland', 'Roger ',\n",
       "       'Arthur Caike', 'Everton ', 'Hernanes ', 'Luiz Fernando',\n",
       "       'Wellington Paulista', 'Santiago Trellez', 'Jo', 'Thiago Neves',\n",
       "       'Bruno Henrique', 'Dudu ', 'Diego ', 'Lucca ', 'Henrique Dourado',\n",
       "       'Andre', 'Edigar Junio ', 'Junior  Dutra', 'Jaime Mata',\n",
       "       'Inaki Williams', 'Chimy Avila', 'Raul de Tomas', 'Pablo Sarabia',\n",
       "       'Borja Iglesias', 'Jorge Molina', 'Charles', 'Arkadiusz Milik',\n",
       "       'Mandzukic None', 'Andrea Petagna', 'Francesco Caputo',\n",
       "       'Stephan El Shaarawy', 'Gervinho ', 'Krzysztof Piatek',\n",
       "       'Alassane Plea', 'Kai Havertz', 'Luka Jovic', 'Ante Rebic',\n",
       "       'Jadon Sancho', 'Ondrej Duda', 'Paco Alcacer', 'Benito Raman',\n",
       "       'Wout Weghorst', 'Ishak Belfodil', 'Marco Reus',\n",
       "       'Jean-Philippe Mateta', 'Sebastien Haller', 'Yussuf Poulsen',\n",
       "       'Angel Di Maria', 'Remi Oudin', 'Nicolas Pepe', 'Emiliano Sala',\n",
       "       'Jonathan Bamba', \"M'Baye Niang\", 'Edinson Cavani',\n",
       "       'Stephane Bahoken', 'Max Gradel', 'Florian Thauvin',\n",
       "       'Kylian Mbappe-Lottin', 'Wahbi Khazri', 'Falcao ',\n",
       "       'Gaetan Laborde', 'Andy Delort', 'Moussa Dembele', 'Memphis Depay',\n",
       "       'Lebo Mothiba', 'Francois Kamano', 'Luka Milivojevic',\n",
       "       'Paul Pogba', 'Ashley Barnes', 'Glenn Murray', 'Richarlison ',\n",
       "       'Callum Wilson', 'Gylfi Sigurdsson', 'Raheem Sterling',\n",
       "       'Ayoze Perez', 'Alexandre Lacazette', 'Raul Jimenez',\n",
       "       'Lucas Paqueta', 'Juan Cazares', 'Deyverson ', 'Leandro Damiao ',\n",
       "       'Yago Pikachu', 'Rodrygo ', 'Andres Rios', 'Roger Guedes ',\n",
       "       'Leandro Pereira ', 'Pedro ', 'Nico Lupez', 'Nene ', 'Gilberto ',\n",
       "       'Henrique ', 'Willian ', 'Gabriel Barbosa', 'Diego Rossi',\n",
       "       'Josef Martinez', 'Chris Wondolowski', 'Nani ', 'Kacper Przybylko',\n",
       "       'Kei Kamara', 'C.J. Sapong', 'Gyasi Zardes', 'Heber ',\n",
       "       'Mauro Manotas', 'Brian Fernandez', 'Alejandro Pozuelo',\n",
       "       'Felipe Gutierrez', 'Jordan Morris', 'Raul Ruidiaz',\n",
       "       'Jozy Altidore', 'Carlos Vela', 'Nemanja Nikolic',\n",
       "       'Alexandru Mitrita', 'Joselu', 'Carlos Fernandez', 'Ante Budimir',\n",
       "       'Lucas Perez', 'Loren Moron', 'Raul Garcla', 'Morata ',\n",
       "       'Sergio Ramos', 'Lucas Ocampos', 'Cazorla ', 'Pote ',\n",
       "       'Tiquinho Soares', 'Eduardo Mancha', 'Paulinho ', 'Alex Telles',\n",
       "       'Bruno Viana', 'Mehrdad Mohammadi', 'Carlos Valenzuela',\n",
       "       'Ruben Lameiras', 'Moussa Marega', 'Gian-Luca Waldschmidt',\n",
       "       'Samuel Lino', 'Andre Andre', 'Mehdi Taremi', 'Carlos Vinicius',\n",
       "       'Sergio Oliveira', 'Douglas Tanque', 'Fabio Abreu',\n",
       "       'Brayan Riascos', 'Alex Telles ', 'Fabio Martins',\n",
       "       'Haris  Seferovic', 'Joao Teixeira', 'Bruno Fernandes',\n",
       "       'Angel Gomes', 'Toni MartÃ\\xadnez', 'Pizzi ', 'Bozhidar Kraev',\n",
       "       'Sandro Lima', 'Rodrigo Pinho', 'Thiago Santana', 'Trincao ',\n",
       "       'Andraz Sporar', 'Ricardo Horta', 'Bruno Duarte', 'Nuno Santos',\n",
       "       'Domenico Berardi', 'Joao Pedro', 'Andreas Cornelius',\n",
       "       'Marco Mancosu', 'Lautaro Martrinez', 'Luis Muriel',\n",
       "       'Gianluca Lapadula', 'Marcus Thuram', 'Rouwen Hennings',\n",
       "       'Andre Silva', 'Erling Haaland', 'Jhon Cordoba', 'Robin Quaison',\n",
       "       'Sebastian Andersson', 'Dimitri Payet', 'Kasper Dolberg',\n",
       "       'Adrien Thomasson', 'Dario Benedetto', 'Ludovic Ajorque',\n",
       "       'Islam Slimani', 'Adrien Hunou', 'Denis Bouanga',\n",
       "       'Sehrou Guirassy', 'Ã\\x81ngel Di Maria', 'Habib Diallo',\n",
       "       'Victor Osimhen', 'Dominic Calvert-Lewin', 'Kevin De Bruyne',\n",
       "       'Chris Wood', 'Anthony Martial', 'Riyad Mahrez', 'Marcus Rashford',\n",
       "       'Danny Ings', 'Richarlison  ', 'Teemu Pukki', 'Tammy Abraham',\n",
       "       'Thiago Galhardo', 'Paolo Guerrero', 'Pepe', 'Michael ',\n",
       "       'Carlos Sanchez', 'Everaldo ', 'Artur ', 'Marcelo  Cirino',\n",
       "       'Yeferson Soteldo', 'Eduardo Sasha', 'Rafael Moura', 'Antony None',\n",
       "       'Quincy Promes', 'Dusan Tadic', 'Armando Broja', 'Steven Berghuis',\n",
       "       'Michael de Leeuw', 'Lois Openda', 'Danilo Nome', 'Lennart Thy',\n",
       "       'Donyell Malen', 'Noni Madueke', 'Davy Klaassen',\n",
       "       'Oussama Tannane', 'Vaclav Cerny', 'Vangelis Pavlidis',\n",
       "       'Henk Veerman', 'Abdou Harroui', 'Rai Vloet', 'Lassina Traore',\n",
       "       'Georgios Giakoumakis', 'Alex Pozuelo', 'Kevin Molino',\n",
       "       'Damir Kreilach', 'Bradley Wright-Phillips', 'Nicolas Lodeiro',\n",
       "       'Daryl Dike', 'Cristian Pavon', 'Chris Mueller', 'Romell Quioto',\n",
       "       'Gustavo Bou', 'Robert Beric', 'Ayo Akinola', 'Jeremy Ebobisse',\n",
       "       'Diego Valeri', 'Youssef   En-Nesyri', 'Carlos Soler',\n",
       "       'Cristian Tello', 'Esteban Burgos', 'Joao Felix',\n",
       "       'Federico Valverde', 'Kike GarcIa', 'Ansu Fati', 'Roberto Soriano',\n",
       "       'Gaetano Castrovilli', 'Henrikh Mkhitaryan', 'Jordan Veretout',\n",
       "       'Lautaro MartInez', 'Hirving Lozano', 'Lucas Alario', 'Bas Dost',\n",
       "       'Dani Olmo', 'Ellyes Skhiri', 'Thomas Muller', 'Andre Hahn',\n",
       "       'Daniel Caligiuri', 'Matheus Cunha', 'Ludovic Blas', 'Karl Toko',\n",
       "       'Burak Yilmaz', 'Ibrahima Niane', 'Boulaye Dia', 'Moise Kean',\n",
       "       'Ignatius Ganago', 'Irvin Cardona', 'Wissam Ben', 'Amine Gouiri',\n",
       "       'Mama Balde', 'Gael Kakuta', 'James Ward-Prowse', 'Diogo Jota',\n",
       "       'Wilfried Zaha', 'Jack Grealish', 'Jarrod Bowen',\n",
       "       'Patrick Bamford', 'Danny Ings ', 'Neal Maupay', 'Ollie Watkins',\n",
       "       'Luciano ', 'Vinicius ', 'Raphael Veiga', 'Luiz Adriano',\n",
       "       'Cleber ', 'German Cano', 'Brenner None', 'Matheus Babi',\n",
       "       'Alerrandro ', 'Claudinho ', 'Robson', 'Renato Kayzer',\n",
       "       'Donny van de Beek', 'Teun Koopmeiners', 'Cantalapiedra ',\n",
       "       'Bryan Linssen', 'Matavz ', 'Oussama Idrissi', 'Chidera Ejuke',\n",
       "       'Myron Boadu', 'Klaas-Jan Huntelaar', 'Haris Vuckic',\n",
       "       'Gyrano Kerk', 'Denzel Dumfries', 'Cyriel Dessers ', 'Cody Gakpo'],\n",
       "      dtype=object)"
      ]
     },
     "execution_count": 141,
     "metadata": {},
     "output_type": "execute_result"
    }
   ],
   "source": [
    "df['Player Names'].unique()"
   ]
  },
  {
   "cell_type": "code",
   "execution_count": 142,
   "id": "e17ab08b-7adf-4b08-9d31-3bb4ee0223ab",
   "metadata": {},
   "outputs": [
    {
     "data": {
      "text/plain": [
       "444"
      ]
     },
     "execution_count": 142,
     "metadata": {},
     "output_type": "execute_result"
    }
   ],
   "source": [
    "df['Player Names'].nunique()"
   ]
  },
  {
   "cell_type": "code",
   "execution_count": 143,
   "id": "f23d2716-26b9-42c3-855f-264fdce9e353",
   "metadata": {},
   "outputs": [],
   "source": [
    "df.dropna(inplace = True, axis = 0)"
   ]
  },
  {
   "cell_type": "code",
   "execution_count": 144,
   "id": "0f2e8702-3212-4f53-be78-f567a4dc74e8",
   "metadata": {},
   "outputs": [
    {
     "data": {
      "text/html": [
       "<div>\n",
       "<style scoped>\n",
       "    .dataframe tbody tr th:only-of-type {\n",
       "        vertical-align: middle;\n",
       "    }\n",
       "\n",
       "    .dataframe tbody tr th {\n",
       "        vertical-align: top;\n",
       "    }\n",
       "\n",
       "    .dataframe thead th {\n",
       "        text-align: right;\n",
       "    }\n",
       "</style>\n",
       "<table border=\"1\" class=\"dataframe\">\n",
       "  <thead>\n",
       "    <tr style=\"text-align: right;\">\n",
       "      <th></th>\n",
       "      <th>Country</th>\n",
       "      <th>League</th>\n",
       "      <th>Club</th>\n",
       "      <th>Player Names</th>\n",
       "      <th>Matches_Played</th>\n",
       "      <th>Substitution</th>\n",
       "      <th>Mins</th>\n",
       "      <th>Goals</th>\n",
       "      <th>xG</th>\n",
       "      <th>xG Per Avg Match</th>\n",
       "      <th>Shots</th>\n",
       "      <th>OnTarget</th>\n",
       "      <th>Shots Per Avg Match</th>\n",
       "      <th>On Target Per Avg Match</th>\n",
       "      <th>Year</th>\n",
       "    </tr>\n",
       "  </thead>\n",
       "  <tbody>\n",
       "    <tr>\n",
       "      <th>159</th>\n",
       "      <td>Germany</td>\n",
       "      <td>Bundesliga</td>\n",
       "      <td>(ARS)</td>\n",
       "      <td>Pierre-Emerick Aubameyang</td>\n",
       "      <td>16</td>\n",
       "      <td>0</td>\n",
       "      <td>1480</td>\n",
       "      <td>13</td>\n",
       "      <td>16.36</td>\n",
       "      <td>1.05</td>\n",
       "      <td>58</td>\n",
       "      <td>27</td>\n",
       "      <td>3.72</td>\n",
       "      <td>1.73</td>\n",
       "      <td>2017</td>\n",
       "    </tr>\n",
       "    <tr>\n",
       "      <th>339</th>\n",
       "      <td>Spain</td>\n",
       "      <td>La Liga</td>\n",
       "      <td>(CEL)</td>\n",
       "      <td>Iago Aspas</td>\n",
       "      <td>37</td>\n",
       "      <td>0</td>\n",
       "      <td>3474</td>\n",
       "      <td>14</td>\n",
       "      <td>15.72</td>\n",
       "      <td>0.43</td>\n",
       "      <td>84</td>\n",
       "      <td>39</td>\n",
       "      <td>2.30</td>\n",
       "      <td>1.07</td>\n",
       "      <td>2019</td>\n",
       "    </tr>\n",
       "    <tr>\n",
       "      <th>101</th>\n",
       "      <td>Spain</td>\n",
       "      <td>La Liga</td>\n",
       "      <td>(BAR)</td>\n",
       "      <td>Antoine Griezmann</td>\n",
       "      <td>30</td>\n",
       "      <td>2</td>\n",
       "      <td>2596</td>\n",
       "      <td>19</td>\n",
       "      <td>15.58</td>\n",
       "      <td>0.57</td>\n",
       "      <td>72</td>\n",
       "      <td>40</td>\n",
       "      <td>2.63</td>\n",
       "      <td>1.46</td>\n",
       "      <td>2017</td>\n",
       "    </tr>\n",
       "    <tr>\n",
       "      <th>441</th>\n",
       "      <td>England</td>\n",
       "      <td>Premier League</td>\n",
       "      <td>(WOL)</td>\n",
       "      <td>Raul Jimenez</td>\n",
       "      <td>37</td>\n",
       "      <td>1</td>\n",
       "      <td>3445</td>\n",
       "      <td>17</td>\n",
       "      <td>18.49</td>\n",
       "      <td>0.51</td>\n",
       "      <td>118</td>\n",
       "      <td>43</td>\n",
       "      <td>3.25</td>\n",
       "      <td>1.19</td>\n",
       "      <td>2019</td>\n",
       "    </tr>\n",
       "    <tr>\n",
       "      <th>279</th>\n",
       "      <td>England</td>\n",
       "      <td>Premier League</td>\n",
       "      <td>(WOL)</td>\n",
       "      <td>Raul Jimenez</td>\n",
       "      <td>36</td>\n",
       "      <td>2</td>\n",
       "      <td>3285</td>\n",
       "      <td>13</td>\n",
       "      <td>15.91</td>\n",
       "      <td>0.46</td>\n",
       "      <td>111</td>\n",
       "      <td>33</td>\n",
       "      <td>3.21</td>\n",
       "      <td>0.95</td>\n",
       "      <td>2018</td>\n",
       "    </tr>\n",
       "  </tbody>\n",
       "</table>\n",
       "</div>"
      ],
      "text/plain": [
       "     Country          League   Club               Player Names  \\\n",
       "159  Germany      Bundesliga  (ARS)  Pierre-Emerick Aubameyang   \n",
       "339    Spain         La Liga  (CEL)                 Iago Aspas   \n",
       "101    Spain         La Liga  (BAR)          Antoine Griezmann   \n",
       "441  England  Premier League  (WOL)               Raul Jimenez   \n",
       "279  England  Premier League  (WOL)               Raul Jimenez   \n",
       "\n",
       "     Matches_Played  Substitution   Mins  Goals     xG  xG Per Avg Match  \\\n",
       "159              16              0  1480     13  16.36              1.05   \n",
       "339              37              0  3474     14  15.72              0.43   \n",
       "101              30              2  2596     19  15.58              0.57   \n",
       "441              37              1  3445     17  18.49              0.51   \n",
       "279              36              2  3285     13  15.91              0.46   \n",
       "\n",
       "     Shots  OnTarget  Shots Per Avg Match  On Target Per Avg Match  Year  \n",
       "159     58        27                 3.72                     1.73  2017  \n",
       "339     84        39                 2.30                     1.07  2019  \n",
       "101     72        40                 2.63                     1.46  2017  \n",
       "441    118        43                 3.25                     1.19  2019  \n",
       "279    111        33                 3.21                     0.95  2018  "
      ]
     },
     "execution_count": 144,
     "metadata": {},
     "output_type": "execute_result"
    }
   ],
   "source": [
    "df.sample(5)"
   ]
  },
  {
   "cell_type": "code",
   "execution_count": 146,
   "id": "15a1aa64-191c-4e6f-865f-8f4167808c00",
   "metadata": {},
   "outputs": [],
   "source": [
    "data = { 'one'   : pd.Series([1, 2, 3, 4]),\n",
    "         'two'   : pd.Series([10, 20, 30, 40]),\n",
    "         'three' : pd.Series([100, 200, 300, 400]),\n",
    "         'four'  : pd.Series([1000, 2000, 3000, 4000])}\n",
    "df = pd.DataFrame(data)\n",
    "df.to_csv('Number.csv')"
   ]
  },
  {
   "cell_type": "code",
   "execution_count": 147,
   "id": "ac4b9d16-5346-4d1b-824a-3a53b2f0fdf3",
   "metadata": {},
   "outputs": [],
   "source": [
    "df.to_csv('Numbers.csv', index = False)"
   ]
  }
 ],
 "metadata": {
  "kernelspec": {
   "display_name": "Python 3 (ipykernel)",
   "language": "python",
   "name": "python3"
  },
  "language_info": {
   "codemirror_mode": {
    "name": "ipython",
    "version": 3
   },
   "file_extension": ".py",
   "mimetype": "text/x-python",
   "name": "python",
   "nbconvert_exporter": "python",
   "pygments_lexer": "ipython3",
   "version": "3.11.7"
  }
 },
 "nbformat": 4,
 "nbformat_minor": 5
}
